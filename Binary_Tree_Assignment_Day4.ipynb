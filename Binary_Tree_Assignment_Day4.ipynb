{
 "cells": [
  {
   "cell_type": "code",
   "execution_count": 1,
   "metadata": {},
   "outputs": [],
   "source": [
    "class Node(object):\n",
    "    def __init__(self, d):\n",
    "        self.data = d\n",
    "        self.left = None\n",
    "        self.right = None\n",
    "        \n",
    "    def insert(self, d):\n",
    "        # This is when we don't allow duplicates, here we are allowing\n",
    "        # if we do not want to allow the duplicates\n",
    "        # just uncomment first two line and instead of < lt use <= lteq afterwards.\n",
    "        \n",
    "        #if self.data == d:\n",
    "        #    return False\n",
    "        if d <= self.data:\n",
    "            if self.left:\n",
    "                self.left.insert(d)\n",
    "            else:\n",
    "                self.left = Node(d)\n",
    "                return True\n",
    "        else:\n",
    "            if self.right:\n",
    "                self.right.insert(d)\n",
    "            else:\n",
    "                self.right = Node(d)\n",
    "                return True\n",
    "\n",
    "    \n",
    "        "
   ]
  },
  {
   "cell_type": "code",
   "execution_count": 4,
   "metadata": {},
   "outputs": [],
   "source": []
  },
  {
   "cell_type": "code",
   "execution_count": 5,
   "metadata": {},
   "outputs": [
    {
     "data": {
      "text/plain": [
       "1"
      ]
     },
     "execution_count": 5,
     "metadata": {},
     "output_type": "execute_result"
    }
   ],
   "source": [
    "node.data"
   ]
  },
  {
   "cell_type": "code",
   "execution_count": null,
   "metadata": {},
   "outputs": [],
   "source": []
  }
 ],
 "metadata": {
  "kernelspec": {
   "display_name": "Python 3",
   "language": "python",
   "name": "python3"
  },
  "language_info": {
   "codemirror_mode": {
    "name": "ipython",
    "version": 3
   },
   "file_extension": ".py",
   "mimetype": "text/x-python",
   "name": "python",
   "nbconvert_exporter": "python",
   "pygments_lexer": "ipython3",
   "version": "3.7.5"
  }
 },
 "nbformat": 4,
 "nbformat_minor": 2
}
