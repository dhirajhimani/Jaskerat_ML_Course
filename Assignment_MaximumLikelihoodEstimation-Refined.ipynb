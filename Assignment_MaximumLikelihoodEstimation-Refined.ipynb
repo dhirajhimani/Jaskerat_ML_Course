{
 "cells": [
  {
   "cell_type": "markdown",
   "metadata": {},
   "source": [
    "#### In this assignment we are trying to find whether the data for each column is Normal or rayleigh distribution, using maximum likelihood estimation,\n",
    "##### We can add more functions gradually"
   ]
  },
  {
   "cell_type": "code",
   "execution_count": 1,
   "metadata": {},
   "outputs": [],
   "source": [
    "import numpy as np\n",
    "import pandas as pd\n",
    "import math\n",
    "import matplotlib.pyplot as plt\n",
    "\n",
    "# Used for calculating theoretical value\n",
    "from scipy.special import factorial\n",
    "import scipy.stats as stats\n"
   ]
  },
  {
   "cell_type": "code",
   "execution_count": 2,
   "metadata": {},
   "outputs": [],
   "source": [
    "df = pd.read_csv(\"data/tumor_diagnose.csv\")"
   ]
  },
  {
   "cell_type": "code",
   "execution_count": 3,
   "metadata": {},
   "outputs": [
    {
     "data": {
      "text/html": [
       "<div>\n",
       "<style scoped>\n",
       "    .dataframe tbody tr th:only-of-type {\n",
       "        vertical-align: middle;\n",
       "    }\n",
       "\n",
       "    .dataframe tbody tr th {\n",
       "        vertical-align: top;\n",
       "    }\n",
       "\n",
       "    .dataframe thead th {\n",
       "        text-align: right;\n",
       "    }\n",
       "</style>\n",
       "<table border=\"1\" class=\"dataframe\">\n",
       "  <thead>\n",
       "    <tr style=\"text-align: right;\">\n",
       "      <th></th>\n",
       "      <th>id</th>\n",
       "      <th>diagnosis</th>\n",
       "      <th>radius_mean</th>\n",
       "      <th>texture_mean</th>\n",
       "      <th>perimeter_mean</th>\n",
       "      <th>area_mean</th>\n",
       "      <th>smoothness_mean</th>\n",
       "      <th>compactness_mean</th>\n",
       "      <th>concavity_mean</th>\n",
       "      <th>concave points_mean</th>\n",
       "      <th>...</th>\n",
       "      <th>texture_worst</th>\n",
       "      <th>perimeter_worst</th>\n",
       "      <th>area_worst</th>\n",
       "      <th>smoothness_worst</th>\n",
       "      <th>compactness_worst</th>\n",
       "      <th>concavity_worst</th>\n",
       "      <th>concave points_worst</th>\n",
       "      <th>symmetry_worst</th>\n",
       "      <th>fractal_dimension_worst</th>\n",
       "      <th>Unnamed: 32</th>\n",
       "    </tr>\n",
       "  </thead>\n",
       "  <tbody>\n",
       "    <tr>\n",
       "      <th>0</th>\n",
       "      <td>842302</td>\n",
       "      <td>M</td>\n",
       "      <td>17.99</td>\n",
       "      <td>10.38</td>\n",
       "      <td>122.80</td>\n",
       "      <td>1001.0</td>\n",
       "      <td>0.11840</td>\n",
       "      <td>0.27760</td>\n",
       "      <td>0.3001</td>\n",
       "      <td>0.14710</td>\n",
       "      <td>...</td>\n",
       "      <td>17.33</td>\n",
       "      <td>184.60</td>\n",
       "      <td>2019.0</td>\n",
       "      <td>0.1622</td>\n",
       "      <td>0.6656</td>\n",
       "      <td>0.7119</td>\n",
       "      <td>0.2654</td>\n",
       "      <td>0.4601</td>\n",
       "      <td>0.11890</td>\n",
       "      <td>NaN</td>\n",
       "    </tr>\n",
       "    <tr>\n",
       "      <th>1</th>\n",
       "      <td>842517</td>\n",
       "      <td>M</td>\n",
       "      <td>20.57</td>\n",
       "      <td>17.77</td>\n",
       "      <td>132.90</td>\n",
       "      <td>1326.0</td>\n",
       "      <td>0.08474</td>\n",
       "      <td>0.07864</td>\n",
       "      <td>0.0869</td>\n",
       "      <td>0.07017</td>\n",
       "      <td>...</td>\n",
       "      <td>23.41</td>\n",
       "      <td>158.80</td>\n",
       "      <td>1956.0</td>\n",
       "      <td>0.1238</td>\n",
       "      <td>0.1866</td>\n",
       "      <td>0.2416</td>\n",
       "      <td>0.1860</td>\n",
       "      <td>0.2750</td>\n",
       "      <td>0.08902</td>\n",
       "      <td>NaN</td>\n",
       "    </tr>\n",
       "    <tr>\n",
       "      <th>2</th>\n",
       "      <td>84300903</td>\n",
       "      <td>M</td>\n",
       "      <td>19.69</td>\n",
       "      <td>21.25</td>\n",
       "      <td>130.00</td>\n",
       "      <td>1203.0</td>\n",
       "      <td>0.10960</td>\n",
       "      <td>0.15990</td>\n",
       "      <td>0.1974</td>\n",
       "      <td>0.12790</td>\n",
       "      <td>...</td>\n",
       "      <td>25.53</td>\n",
       "      <td>152.50</td>\n",
       "      <td>1709.0</td>\n",
       "      <td>0.1444</td>\n",
       "      <td>0.4245</td>\n",
       "      <td>0.4504</td>\n",
       "      <td>0.2430</td>\n",
       "      <td>0.3613</td>\n",
       "      <td>0.08758</td>\n",
       "      <td>NaN</td>\n",
       "    </tr>\n",
       "    <tr>\n",
       "      <th>3</th>\n",
       "      <td>84348301</td>\n",
       "      <td>M</td>\n",
       "      <td>11.42</td>\n",
       "      <td>20.38</td>\n",
       "      <td>77.58</td>\n",
       "      <td>386.1</td>\n",
       "      <td>0.14250</td>\n",
       "      <td>0.28390</td>\n",
       "      <td>0.2414</td>\n",
       "      <td>0.10520</td>\n",
       "      <td>...</td>\n",
       "      <td>26.50</td>\n",
       "      <td>98.87</td>\n",
       "      <td>567.7</td>\n",
       "      <td>0.2098</td>\n",
       "      <td>0.8663</td>\n",
       "      <td>0.6869</td>\n",
       "      <td>0.2575</td>\n",
       "      <td>0.6638</td>\n",
       "      <td>0.17300</td>\n",
       "      <td>NaN</td>\n",
       "    </tr>\n",
       "    <tr>\n",
       "      <th>4</th>\n",
       "      <td>84358402</td>\n",
       "      <td>M</td>\n",
       "      <td>20.29</td>\n",
       "      <td>14.34</td>\n",
       "      <td>135.10</td>\n",
       "      <td>1297.0</td>\n",
       "      <td>0.10030</td>\n",
       "      <td>0.13280</td>\n",
       "      <td>0.1980</td>\n",
       "      <td>0.10430</td>\n",
       "      <td>...</td>\n",
       "      <td>16.67</td>\n",
       "      <td>152.20</td>\n",
       "      <td>1575.0</td>\n",
       "      <td>0.1374</td>\n",
       "      <td>0.2050</td>\n",
       "      <td>0.4000</td>\n",
       "      <td>0.1625</td>\n",
       "      <td>0.2364</td>\n",
       "      <td>0.07678</td>\n",
       "      <td>NaN</td>\n",
       "    </tr>\n",
       "  </tbody>\n",
       "</table>\n",
       "<p>5 rows × 33 columns</p>\n",
       "</div>"
      ],
      "text/plain": [
       "         id diagnosis  radius_mean  texture_mean  perimeter_mean  area_mean  \\\n",
       "0    842302         M        17.99         10.38          122.80     1001.0   \n",
       "1    842517         M        20.57         17.77          132.90     1326.0   \n",
       "2  84300903         M        19.69         21.25          130.00     1203.0   \n",
       "3  84348301         M        11.42         20.38           77.58      386.1   \n",
       "4  84358402         M        20.29         14.34          135.10     1297.0   \n",
       "\n",
       "   smoothness_mean  compactness_mean  concavity_mean  concave points_mean  \\\n",
       "0          0.11840           0.27760          0.3001              0.14710   \n",
       "1          0.08474           0.07864          0.0869              0.07017   \n",
       "2          0.10960           0.15990          0.1974              0.12790   \n",
       "3          0.14250           0.28390          0.2414              0.10520   \n",
       "4          0.10030           0.13280          0.1980              0.10430   \n",
       "\n",
       "   ...  texture_worst  perimeter_worst  area_worst  smoothness_worst  \\\n",
       "0  ...          17.33           184.60      2019.0            0.1622   \n",
       "1  ...          23.41           158.80      1956.0            0.1238   \n",
       "2  ...          25.53           152.50      1709.0            0.1444   \n",
       "3  ...          26.50            98.87       567.7            0.2098   \n",
       "4  ...          16.67           152.20      1575.0            0.1374   \n",
       "\n",
       "   compactness_worst  concavity_worst  concave points_worst  symmetry_worst  \\\n",
       "0             0.6656           0.7119                0.2654          0.4601   \n",
       "1             0.1866           0.2416                0.1860          0.2750   \n",
       "2             0.4245           0.4504                0.2430          0.3613   \n",
       "3             0.8663           0.6869                0.2575          0.6638   \n",
       "4             0.2050           0.4000                0.1625          0.2364   \n",
       "\n",
       "   fractal_dimension_worst  Unnamed: 32  \n",
       "0                  0.11890          NaN  \n",
       "1                  0.08902          NaN  \n",
       "2                  0.08758          NaN  \n",
       "3                  0.17300          NaN  \n",
       "4                  0.07678          NaN  \n",
       "\n",
       "[5 rows x 33 columns]"
      ]
     },
     "execution_count": 3,
     "metadata": {},
     "output_type": "execute_result"
    }
   ],
   "source": [
    "df.head()"
   ]
  },
  {
   "cell_type": "code",
   "execution_count": 4,
   "metadata": {},
   "outputs": [
    {
     "data": {
      "text/plain": [
       "Index(['id', 'diagnosis', 'radius_mean', 'texture_mean', 'perimeter_mean',\n",
       "       'area_mean', 'smoothness_mean', 'compactness_mean', 'concavity_mean',\n",
       "       'concave points_mean', 'symmetry_mean', 'fractal_dimension_mean',\n",
       "       'radius_se', 'texture_se', 'perimeter_se', 'area_se', 'smoothness_se',\n",
       "       'compactness_se', 'concavity_se', 'concave points_se', 'symmetry_se',\n",
       "       'fractal_dimension_se', 'radius_worst', 'texture_worst',\n",
       "       'perimeter_worst', 'area_worst', 'smoothness_worst',\n",
       "       'compactness_worst', 'concavity_worst', 'concave points_worst',\n",
       "       'symmetry_worst', 'fractal_dimension_worst', 'Unnamed: 32'],\n",
       "      dtype='object')"
      ]
     },
     "execution_count": 4,
     "metadata": {},
     "output_type": "execute_result"
    }
   ],
   "source": [
    "df.columns"
   ]
  },
  {
   "cell_type": "code",
   "execution_count": 5,
   "metadata": {},
   "outputs": [],
   "source": [
    "df = df.drop('id', 1)"
   ]
  },
  {
   "cell_type": "code",
   "execution_count": 6,
   "metadata": {},
   "outputs": [],
   "source": [
    "df = df.drop('Unnamed: 32', 1)"
   ]
  },
  {
   "cell_type": "code",
   "execution_count": 7,
   "metadata": {},
   "outputs": [
    {
     "data": {
      "text/plain": [
       "Index(['diagnosis', 'radius_mean', 'texture_mean', 'perimeter_mean',\n",
       "       'area_mean', 'smoothness_mean', 'compactness_mean', 'concavity_mean',\n",
       "       'concave points_mean', 'symmetry_mean', 'fractal_dimension_mean',\n",
       "       'radius_se', 'texture_se', 'perimeter_se', 'area_se', 'smoothness_se',\n",
       "       'compactness_se', 'concavity_se', 'concave points_se', 'symmetry_se',\n",
       "       'fractal_dimension_se', 'radius_worst', 'texture_worst',\n",
       "       'perimeter_worst', 'area_worst', 'smoothness_worst',\n",
       "       'compactness_worst', 'concavity_worst', 'concave points_worst',\n",
       "       'symmetry_worst', 'fractal_dimension_worst'],\n",
       "      dtype='object')"
      ]
     },
     "execution_count": 7,
     "metadata": {},
     "output_type": "execute_result"
    }
   ],
   "source": [
    "df.columns"
   ]
  },
  {
   "cell_type": "code",
   "execution_count": 8,
   "metadata": {},
   "outputs": [
    {
     "data": {
      "text/plain": [
       "B    357\n",
       "M    212\n",
       "Name: diagnosis, dtype: int64"
      ]
     },
     "execution_count": 8,
     "metadata": {},
     "output_type": "execute_result"
    }
   ],
   "source": [
    "df['diagnosis'].value_counts()"
   ]
  },
  {
   "cell_type": "code",
   "execution_count": 9,
   "metadata": {},
   "outputs": [
    {
     "data": {
      "text/plain": [
       "(569, 31)"
      ]
     },
     "execution_count": 9,
     "metadata": {},
     "output_type": "execute_result"
    }
   ],
   "source": [
    "df.shape"
   ]
  },
  {
   "cell_type": "code",
   "execution_count": 10,
   "metadata": {},
   "outputs": [],
   "source": [
    "def normal_mu(df_column):\n",
    "    n = df_column.shape[0]\n",
    "    return np.sum(df_column) / n"
   ]
  },
  {
   "cell_type": "code",
   "execution_count": 11,
   "metadata": {},
   "outputs": [
    {
     "data": {
      "text/plain": [
       "14.127291739894552"
      ]
     },
     "execution_count": 11,
     "metadata": {},
     "output_type": "execute_result"
    }
   ],
   "source": [
    "normal_mu(df['radius_mean'])"
   ]
  },
  {
   "cell_type": "code",
   "execution_count": 12,
   "metadata": {},
   "outputs": [],
   "source": [
    "def normal_sigma(df_column, mu):\n",
    "    n = df_column.shape[0]\n",
    "    return np.sqrt((np.sum((df_column - mu)**2)/n))"
   ]
  },
  {
   "cell_type": "code",
   "execution_count": 13,
   "metadata": {},
   "outputs": [
    {
     "data": {
      "text/plain": [
       "3.520950760711062"
      ]
     },
     "execution_count": 13,
     "metadata": {},
     "output_type": "execute_result"
    }
   ],
   "source": [
    "normal_sigma(df['radius_mean'], 14.127291739894552)"
   ]
  },
  {
   "cell_type": "code",
   "execution_count": 14,
   "metadata": {},
   "outputs": [],
   "source": [
    "def likelihood_normal(df_column):\n",
    "    n = df_column.shape[0]\n",
    "    mu = normal_mu(df_column)\n",
    "    sigma = normal_sigma(df_column, mu)\n",
    "    #first_term = -1 * n * np.log(2*math.pi) / 2\n",
    "    #second_term = -1 * n * np.log(sigma)\n",
    "    #third_term = -1 * n * np.sum((df_column-mu)**2) / (2*sigma**2)\n",
    "    #return first_term + second_term + third_term\n",
    "    return np.sum(stats.norm.pdf(df_column, loc=mu,scale=sigma))"
   ]
  },
  {
   "cell_type": "code",
   "execution_count": 15,
   "metadata": {},
   "outputs": [
    {
     "data": {
      "text/plain": [
       "46.361730553097416"
      ]
     },
     "execution_count": 15,
     "metadata": {},
     "output_type": "execute_result"
    }
   ],
   "source": [
    "likelihood_normal(df['radius_mean'])"
   ]
  },
  {
   "cell_type": "code",
   "execution_count": 16,
   "metadata": {},
   "outputs": [],
   "source": [
    "def rayleigh_theta(df_column):\n",
    "    n = df_column.shape[0]\n",
    "    return np.sum(df_column**2)/(2*n)"
   ]
  },
  {
   "cell_type": "code",
   "execution_count": 17,
   "metadata": {},
   "outputs": [
    {
     "data": {
      "text/plain": [
       "105.98873308172232"
      ]
     },
     "execution_count": 17,
     "metadata": {},
     "output_type": "execute_result"
    }
   ],
   "source": [
    "rayleigh_theta(df['radius_mean'])"
   ]
  },
  {
   "cell_type": "code",
   "execution_count": 18,
   "metadata": {},
   "outputs": [],
   "source": [
    "def likelihood_rayleigh(df_column):\n",
    "    #n = df_column.shape[0]\n",
    "    #theta = rayleigh_theta(df_column)\n",
    "    param = stats.rayleigh.fit(df_column)\n",
    "    #first_term = np.sum(np.log(df_column))\n",
    "    #second_term = -1 * n * np.log(theta)\n",
    "    #third_term = -1 * np.sum(df_column**2)/(2*theta)\n",
    "    #return first_term + second_term + third_term\n",
    "    return np.sum(stats.rayleigh.pdf(df_column,loc=param[0],scale=param[1]))"
   ]
  },
  {
   "cell_type": "code",
   "execution_count": 19,
   "metadata": {},
   "outputs": [
    {
     "data": {
      "text/plain": [
       "47.06684571493166"
      ]
     },
     "execution_count": 19,
     "metadata": {},
     "output_type": "execute_result"
    }
   ],
   "source": [
    "likelihood_rayleigh(df['radius_mean'])"
   ]
  },
  {
   "cell_type": "code",
   "execution_count": 20,
   "metadata": {},
   "outputs": [
    {
     "name": "stdout",
     "output_type": "stream",
     "text": [
      "46.361730553097416\n",
      "47.06684571493166\n"
     ]
    }
   ],
   "source": [
    "print(likelihood_normal(df['radius_mean']))\n",
    "print(likelihood_rayleigh(df['radius_mean']))"
   ]
  },
  {
   "cell_type": "code",
   "execution_count": 58,
   "metadata": {},
   "outputs": [],
   "source": [
    "def getDistributionName(df_column):\n",
    "    dist = {\n",
    "        \"normal\":likelihood_normal(df_column),\n",
    "        \"rayleigh\":likelihood_rayleigh(df_column)\n",
    "    }\n",
    "    dist = {k: v for k, v in sorted(dist.items(), key=lambda item: item[1])}\n",
    "    return list(dist.keys())[1]"
   ]
  },
  {
   "cell_type": "code",
   "execution_count": 24,
   "metadata": {},
   "outputs": [
    {
     "data": {
      "text/plain": [
       "'likelihood_rayleigh'"
      ]
     },
     "execution_count": 24,
     "metadata": {},
     "output_type": "execute_result"
    }
   ],
   "source": [
    "getDistributionName(df['radius_mean'])"
   ]
  },
  {
   "cell_type": "code",
   "execution_count": 25,
   "metadata": {},
   "outputs": [
    {
     "name": "stdout",
     "output_type": "stream",
     "text": [
      "31\n"
     ]
    }
   ],
   "source": [
    "columns = df.shape[1]\n",
    "columns_name = df.columns\n",
    "print(columns)"
   ]
  },
  {
   "cell_type": "code",
   "execution_count": 26,
   "metadata": {},
   "outputs": [
    {
     "name": "stdout",
     "output_type": "stream",
     "text": [
      "radius_mean -- likelihood_rayleigh\n",
      "texture_mean -- likelihood_normal\n",
      "perimeter_mean -- likelihood_rayleigh\n",
      "area_mean -- likelihood_rayleigh\n",
      "smoothness_mean -- likelihood_normal\n",
      "compactness_mean -- likelihood_rayleigh\n",
      "concavity_mean -- likelihood_rayleigh\n",
      "concave points_mean -- likelihood_rayleigh\n",
      "symmetry_mean -- likelihood_normal\n",
      "fractal_dimension_mean -- likelihood_rayleigh\n",
      "radius_se -- likelihood_rayleigh\n",
      "texture_se -- likelihood_rayleigh\n",
      "perimeter_se -- likelihood_rayleigh\n",
      "area_se -- likelihood_rayleigh\n",
      "smoothness_se -- likelihood_rayleigh\n",
      "compactness_se -- likelihood_rayleigh\n",
      "concavity_se -- likelihood_rayleigh\n",
      "concave points_se -- likelihood_normal\n",
      "symmetry_se -- likelihood_rayleigh\n",
      "fractal_dimension_se -- likelihood_rayleigh\n",
      "radius_worst -- likelihood_rayleigh\n",
      "texture_worst -- likelihood_normal\n",
      "perimeter_worst -- likelihood_rayleigh\n",
      "area_worst -- likelihood_rayleigh\n",
      "smoothness_worst -- likelihood_normal\n",
      "compactness_worst -- likelihood_rayleigh\n",
      "concavity_worst -- likelihood_rayleigh\n",
      "concave points_worst -- likelihood_rayleigh\n",
      "symmetry_worst -- likelihood_normal\n",
      "fractal_dimension_worst -- likelihood_rayleigh\n"
     ]
    }
   ],
   "source": [
    "for i in range(1,columns):\n",
    "    #print(columns_name[i])\n",
    "    column_name = columns_name[i]\n",
    "    print(column_name + \" -- \" + getDistributionName(df[column_name]))"
   ]
  },
  {
   "cell_type": "code",
   "execution_count": 27,
   "metadata": {},
   "outputs": [
    {
     "data": {
      "text/plain": [
       "(array([ 6., 10., 20., 60., 80., 93., 83., 78., 55., 24., 21.,  7.,  9.,\n",
       "         7.,  2.,  6.,  3.,  1.,  0.,  2.,  1.,  0.,  0.,  0.,  1.]),\n",
       " array([0.1565  , 0.176792, 0.197084, 0.217376, 0.237668, 0.25796 ,\n",
       "        0.278252, 0.298544, 0.318836, 0.339128, 0.35942 , 0.379712,\n",
       "        0.400004, 0.420296, 0.440588, 0.46088 , 0.481172, 0.501464,\n",
       "        0.521756, 0.542048, 0.56234 , 0.582632, 0.602924, 0.623216,\n",
       "        0.643508, 0.6638  ]),\n",
       " <a list of 25 Patch objects>)"
      ]
     },
     "execution_count": 27,
     "metadata": {},
     "output_type": "execute_result"
    },
    {
     "data": {
      "image/png": "[encoded data removed]",
      "text/plain": [
       "<Figure size 432x288 with 1 Axes>"
      ]
     },
     "metadata": {
      "needs_background": "light"
     },
     "output_type": "display_data"
    }
   ],
   "source": [
    "plt.hist(df['symmetry_worst'], 25)"
   ]
  },
  {
   "cell_type": "code",
   "execution_count": 28,
   "metadata": {},
   "outputs": [
    {
     "data": {
      "text/plain": [
       "(array([ 20.,  52.,  98., 105.,  93.,  52.,  45.,  36.,  23.,   8.,  12.,\n",
       "         10.,   5.,   3.,   4.,   1.,   0.,   0.,   0.,   1.,   0.,   0.,\n",
       "          0.,   0.,   1.]),\n",
       " array([0.05504  , 0.0611384, 0.0672368, 0.0733352, 0.0794336, 0.085532 ,\n",
       "        0.0916304, 0.0977288, 0.1038272, 0.1099256, 0.116024 , 0.1221224,\n",
       "        0.1282208, 0.1343192, 0.1404176, 0.146516 , 0.1526144, 0.1587128,\n",
       "        0.1648112, 0.1709096, 0.177008 , 0.1831064, 0.1892048, 0.1953032,\n",
       "        0.2014016, 0.2075   ]),\n",
       " <a list of 25 Patch objects>)"
      ]
     },
     "execution_count": 28,
     "metadata": {},
     "output_type": "execute_result"
    },
    {
     "data": {
      "image/png": "[encoded data removed]",
      "text/plain": [
       "<Figure size 432x288 with 1 Axes>"
      ]
     },
     "metadata": {
      "needs_background": "light"
     },
     "output_type": "display_data"
    }
   ],
   "source": [
    "plt.hist(df['fractal_dimension_worst'], 25)"
   ]
  },
  {
   "cell_type": "code",
   "execution_count": 57,
   "metadata": {},
   "outputs": [],
   "source": [
    "def getDistributions(df_column):\n",
    "    dist = {\n",
    "        \"normal\":likelihood_normal(df_column),\n",
    "        \"rayleigh\":likelihood_rayleigh(df_column)\n",
    "    }\n",
    "    return {k: v for k, v in sorted(dist.items(), key=lambda item: item[1])}"
   ]
  },
  {
   "cell_type": "code",
   "execution_count": 32,
   "metadata": {},
   "outputs": [
    {
     "data": {
      "text/plain": [
       "{'likelihood_rayleigh': 2625.7767537959417,\n",
       " 'likelihood_normal': 2781.0503388102416}"
      ]
     },
     "execution_count": 32,
     "metadata": {},
     "output_type": "execute_result"
    }
   ],
   "source": [
    "getDistributions(df['symmetry_worst'])"
   ]
  },
  {
   "cell_type": "code",
   "execution_count": 33,
   "metadata": {},
   "outputs": [],
   "source": [
    "df1 = df.drop('diagnosis', 1)"
   ]
  },
  {
   "cell_type": "code",
   "execution_count": 34,
   "metadata": {},
   "outputs": [],
   "source": [
    "df2 = df1.apply(getDistributions, axis=0)"
   ]
  },
  {
   "cell_type": "code",
   "execution_count": 35,
   "metadata": {},
   "outputs": [
    {
     "data": {
      "text/plain": [
       "radius_mean        {'likelihood_normal': 46.361730553097416, 'lik...\n",
       "texture_mean       {'likelihood_rayleigh': 35.62868618740352, 'li...\n",
       "perimeter_mean     {'likelihood_normal': 6.730556637139002, 'like...\n",
       "area_mean          {'likelihood_normal': 0.4807963186226547, 'lik...\n",
       "smoothness_mean    {'likelihood_rayleigh': 8600.842315869897, 'li...\n",
       "dtype: object"
      ]
     },
     "execution_count": 35,
     "metadata": {},
     "output_type": "execute_result"
    }
   ],
   "source": [
    "df2.head()"
   ]
  },
  {
   "cell_type": "code",
   "execution_count": 60,
   "metadata": {},
   "outputs": [
    {
     "data": {
      "text/plain": [
       "<Figure size 432x288 with 0 Axes>"
      ]
     },
     "execution_count": 60,
     "metadata": {},
     "output_type": "execute_result"
    },
    {
     "data": {
      "text/plain": [
       "(array([ 19.,  79., 185., 129.,  55.,  50.,  38.,   7.,   4.,   3.]),\n",
       " array([ 6.981 ,  9.0939, 11.2068, 13.3197, 15.4326, 17.5455, 19.6584,\n",
       "        21.7713, 23.8842, 25.9971, 28.11  ]),\n",
       " <a list of 10 Patch objects>)"
      ]
     },
     "execution_count": 60,
     "metadata": {},
     "output_type": "execute_result"
    },
    {
     "data": {
      "text/plain": [
       "Text(0.5, 0, 'radius_mean\\nrayleigh')"
      ]
     },
     "execution_count": 60,
     "metadata": {},
     "output_type": "execute_result"
    },
    {
     "data": {
      "text/plain": [
       "(array([ 17.,  96., 154., 145.,  89.,  40.,  21.,   4.,   2.,   1.]),\n",
       " array([ 9.71 , 12.667, 15.624, 18.581, 21.538, 24.495, 27.452, 30.409,\n",
       "        33.366, 36.323, 39.28 ]),\n",
       " <a list of 10 Patch objects>)"
      ]
     },
     "execution_count": 60,
     "metadata": {},
     "output_type": "execute_result"
    },
    {
     "data": {
      "text/plain": [
       "Text(0.5, 0, 'texture_mean\\nnormal')"
      ]
     },
     "execution_count": 60,
     "metadata": {},
     "output_type": "execute_result"
    },
    {
     "data": {
      "text/plain": [
       "(array([ 15.,  93., 185., 116.,  62.,  49.,  34.,   8.,   3.,   4.]),\n",
       " array([ 43.79 ,  58.261,  72.732,  87.203, 101.674, 116.145, 130.616,\n",
       "        145.087, 159.558, 174.029, 188.5  ]),\n",
       " <a list of 10 Patch objects>)"
      ]
     },
     "execution_count": 60,
     "metadata": {},
     "output_type": "execute_result"
    },
    {
     "data": {
      "text/plain": [
       "Text(0.5, 0, 'perimeter_mean\\nrayleigh')"
      ]
     },
     "execution_count": 60,
     "metadata": {},
     "output_type": "execute_result"
    },
    {
     "data": {
      "text/plain": [
       "(array([ 93., 251., 101.,  47.,  51.,  14.,   6.,   3.,   1.,   2.]),\n",
       " array([ 143.5 ,  379.25,  615.  ,  850.75, 1086.5 , 1322.25, 1558.  ,\n",
       "        1793.75, 2029.5 , 2265.25, 2501.  ]),\n",
       " <a list of 10 Patch objects>)"
      ]
     },
     "execution_count": 60,
     "metadata": {},
     "output_type": "execute_result"
    },
    {
     "data": {
      "text/plain": [
       "Text(0.5, 0, 'area_mean\\nrayleigh')"
      ]
     },
     "execution_count": 60,
     "metadata": {},
     "output_type": "execute_result"
    },
    {
     "data": {
      "text/plain": [
       "(array([  2.,  26., 110., 160., 164.,  79.,  20.,   5.,   2.,   1.]),\n",
       " array([0.05263 , 0.063707, 0.074784, 0.085861, 0.096938, 0.108015,\n",
       "        0.119092, 0.130169, 0.141246, 0.152323, 0.1634  ]),\n",
       " <a list of 10 Patch objects>)"
      ]
     },
     "execution_count": 60,
     "metadata": {},
     "output_type": "execute_result"
    },
    {
     "data": {
      "text/plain": [
       "Text(0.5, 0, 'smoothness_mean\\nnormal')"
      ]
     },
     "execution_count": 60,
     "metadata": {},
     "output_type": "execute_result"
    },
    {
     "data": {
      "text/plain": [
       "(array([ 68., 182., 133.,  87.,  48.,  26.,  15.,   5.,   4.,   1.]),\n",
       " array([0.01938 , 0.051982, 0.084584, 0.117186, 0.149788, 0.18239 ,\n",
       "        0.214992, 0.247594, 0.280196, 0.312798, 0.3454  ]),\n",
       " <a list of 10 Patch objects>)"
      ]
     },
     "execution_count": 60,
     "metadata": {},
     "output_type": "execute_result"
    },
    {
     "data": {
      "text/plain": [
       "Text(0.5, 0, 'compactness_mean\\nrayleigh')"
      ]
     },
     "execution_count": 60,
     "metadata": {},
     "output_type": "execute_result"
    },
    {
     "data": {
      "text/plain": [
       "(array([217., 122.,  86.,  63.,  34.,  25.,   6.,   9.,   4.,   3.]),\n",
       " array([0.     , 0.04268, 0.08536, 0.12804, 0.17072, 0.2134 , 0.25608,\n",
       "        0.29876, 0.34144, 0.38412, 0.4268 ]),\n",
       " <a list of 10 Patch objects>)"
      ]
     },
     "execution_count": 60,
     "metadata": {},
     "output_type": "execute_result"
    },
    {
     "data": {
      "text/plain": [
       "Text(0.5, 0, 'concavity_mean\\nrayleigh')"
      ]
     },
     "execution_count": 60,
     "metadata": {},
     "output_type": "execute_result"
    },
    {
     "data": {
      "text/plain": [
       "(array([139., 174.,  76.,  57.,  66.,  23.,  15.,  12.,   2.,   5.]),\n",
       " array([0.     , 0.02012, 0.04024, 0.06036, 0.08048, 0.1006 , 0.12072,\n",
       "        0.14084, 0.16096, 0.18108, 0.2012 ]),\n",
       " <a list of 10 Patch objects>)"
      ]
     },
     "execution_count": 60,
     "metadata": {},
     "output_type": "execute_result"
    },
    {
     "data": {
      "text/plain": [
       "Text(0.5, 0, 'concave points_mean\\nrayleigh')"
      ]
     },
     "execution_count": 60,
     "metadata": {},
     "output_type": "execute_result"
    },
    {
     "data": {
      "text/plain": [
       "(array([  5.,  35., 133., 164., 136.,  60.,  21.,  10.,   3.,   2.]),\n",
       " array([0.106 , 0.1258, 0.1456, 0.1654, 0.1852, 0.205 , 0.2248, 0.2446,\n",
       "        0.2644, 0.2842, 0.304 ]),\n",
       " <a list of 10 Patch objects>)"
      ]
     },
     "execution_count": 60,
     "metadata": {},
     "output_type": "execute_result"
    },
    {
     "data": {
      "text/plain": [
       "Text(0.5, 0, 'symmetry_mean\\nnormal')"
      ]
     },
     "execution_count": 60,
     "metadata": {},
     "output_type": "execute_result"
    },
    {
     "data": {
      "text/plain": [
       "(array([ 41., 160., 175., 101.,  51.,  25.,   9.,   2.,   1.,   4.]),\n",
       " array([0.04996 , 0.054708, 0.059456, 0.064204, 0.068952, 0.0737  ,\n",
       "        0.078448, 0.083196, 0.087944, 0.092692, 0.09744 ]),\n",
       " <a list of 10 Patch objects>)"
      ]
     },
     "execution_count": 60,
     "metadata": {},
     "output_type": "execute_result"
    },
    {
     "data": {
      "text/plain": [
       "Text(0.5, 0, 'fractal_dimension_mean\\nrayleigh')"
      ]
     },
     "execution_count": 60,
     "metadata": {},
     "output_type": "execute_result"
    },
    {
     "data": {
      "text/plain": [
       "(array([357., 137.,  44.,  24.,   4.,   1.,   0.,   0.,   1.,   1.]),\n",
       " array([0.1115 , 0.38765, 0.6638 , 0.93995, 1.2161 , 1.49225, 1.7684 ,\n",
       "        2.04455, 2.3207 , 2.59685, 2.873  ]),\n",
       " <a list of 10 Patch objects>)"
      ]
     },
     "execution_count": 60,
     "metadata": {},
     "output_type": "execute_result"
    },
    {
     "data": {
      "text/plain": [
       "Text(0.5, 0, 'radius_se\\nrayleigh')"
      ]
     },
     "execution_count": 60,
     "metadata": {},
     "output_type": "execute_result"
    },
    {
     "data": {
      "text/plain": [
       "(array([129., 220., 136.,  52.,  18.,   9.,   1.,   3.,   0.,   1.]),\n",
       " array([0.3602 , 0.81268, 1.26516, 1.71764, 2.17012, 2.6226 , 3.07508,\n",
       "        3.52756, 3.98004, 4.43252, 4.885  ]),\n",
       " <a list of 10 Patch objects>)"
      ]
     },
     "execution_count": 60,
     "metadata": {},
     "output_type": "execute_result"
    },
    {
     "data": {
      "text/plain": [
       "Text(0.5, 0, 'texture_se\\nrayleigh')"
      ]
     },
     "execution_count": 60,
     "metadata": {},
     "output_type": "execute_result"
    },
    {
     "data": {
      "text/plain": [
       "(array([378., 131.,  32.,  20.,   6.,   0.,   0.,   0.,   1.,   1.]),\n",
       " array([ 0.757 ,  2.8793,  5.0016,  7.1239,  9.2462, 11.3685, 13.4908,\n",
       "        15.6131, 17.7354, 19.8577, 21.98  ]),\n",
       " <a list of 10 Patch objects>)"
      ]
     },
     "execution_count": 60,
     "metadata": {},
     "output_type": "execute_result"
    },
    {
     "data": {
      "text/plain": [
       "Text(0.5, 0, 'perimeter_se\\nrayleigh')"
      ]
     },
     "execution_count": 60,
     "metadata": {},
     "output_type": "execute_result"
    },
    {
     "data": {
      "text/plain": [
       "(array([466.,  73.,  22.,   4.,   2.,   0.,   0.,   0.,   0.,   2.]),\n",
       " array([  6.802 ,  60.3418, 113.8816, 167.4214, 220.9612, 274.501 ,\n",
       "        328.0408, 381.5806, 435.1204, 488.6602, 542.2   ]),\n",
       " <a list of 10 Patch objects>)"
      ]
     },
     "execution_count": 60,
     "metadata": {},
     "output_type": "execute_result"
    },
    {
     "data": {
      "text/plain": [
       "Text(0.5, 0, 'area_se\\nrayleigh')"
      ]
     },
     "execution_count": 60,
     "metadata": {},
     "output_type": "execute_result"
    },
    {
     "data": {
      "text/plain": [
       "(array([ 96., 299., 120.,  34.,  13.,   3.,   2.,   1.,   0.,   1.]),\n",
       " array([0.001713 , 0.0046547, 0.0075964, 0.0105381, 0.0134798, 0.0164215,\n",
       "        0.0193632, 0.0223049, 0.0252466, 0.0281883, 0.03113  ]),\n",
       " <a list of 10 Patch objects>)"
      ]
     },
     "execution_count": 60,
     "metadata": {},
     "output_type": "execute_result"
    },
    {
     "data": {
      "text/plain": [
       "Text(0.5, 0, 'smoothness_se\\nrayleigh')"
      ]
     },
     "execution_count": 60,
     "metadata": {},
     "output_type": "execute_result"
    },
    {
     "data": {
      "text/plain": [
       "(array([200., 187., 105.,  39.,  19.,   7.,   7.,   4.,   0.,   1.]),\n",
       " array([0.002252 , 0.0155668, 0.0288816, 0.0421964, 0.0555112, 0.068826 ,\n",
       "        0.0821408, 0.0954556, 0.1087704, 0.1220852, 0.1354   ]),\n",
       " <a list of 10 Patch objects>)"
      ]
     },
     "execution_count": 60,
     "metadata": {},
     "output_type": "execute_result"
    },
    {
     "data": {
      "text/plain": [
       "Text(0.5, 0, 'compactness_se\\nrayleigh')"
      ]
     },
     "execution_count": 60,
     "metadata": {},
     "output_type": "execute_result"
    },
    {
     "data": {
      "text/plain": [
       "(array([412., 128.,  22.,   5.,   0.,   0.,   0.,   1.,   0.,   1.]),\n",
       " array([0.    , 0.0396, 0.0792, 0.1188, 0.1584, 0.198 , 0.2376, 0.2772,\n",
       "        0.3168, 0.3564, 0.396 ]),\n",
       " <a list of 10 Patch objects>)"
      ]
     },
     "execution_count": 60,
     "metadata": {},
     "output_type": "execute_result"
    },
    {
     "data": {
      "text/plain": [
       "Text(0.5, 0, 'concavity_se\\nrayleigh')"
      ]
     },
     "execution_count": 60,
     "metadata": {},
     "output_type": "execute_result"
    },
    {
     "data": {
      "text/plain": [
       "(array([ 51., 219., 186.,  74.,  25.,   8.,   3.,   2.,   0.,   1.]),\n",
       " array([0.      , 0.005279, 0.010558, 0.015837, 0.021116, 0.026395,\n",
       "        0.031674, 0.036953, 0.042232, 0.047511, 0.05279 ]),\n",
       " <a list of 10 Patch objects>)"
      ]
     },
     "execution_count": 60,
     "metadata": {},
     "output_type": "execute_result"
    },
    {
     "data": {
      "text/plain": [
       "Text(0.5, 0, 'concave points_se\\nnormal')"
      ]
     },
     "execution_count": 60,
     "metadata": {},
     "output_type": "execute_result"
    },
    {
     "data": {
      "text/plain": [
       "(array([137., 264., 103.,  38.,  14.,   5.,   5.,   2.,   0.,   1.]),\n",
       " array([0.007882 , 0.0149888, 0.0220956, 0.0292024, 0.0363092, 0.043416 ,\n",
       "        0.0505228, 0.0576296, 0.0647364, 0.0718432, 0.07895  ]),\n",
       " <a list of 10 Patch objects>)"
      ]
     },
     "execution_count": 60,
     "metadata": {},
     "output_type": "execute_result"
    },
    {
     "data": {
      "text/plain": [
       "Text(0.5, 0, 'symmetry_se\\nrayleigh')"
      ]
     },
     "execution_count": 60,
     "metadata": {},
     "output_type": "execute_result"
    },
    {
     "data": {
      "text/plain": [
       "(array([361., 158.,  32.,  11.,   3.,   1.,   0.,   2.,   0.,   1.]),\n",
       " array([0.0008948 , 0.00378932, 0.00668384, 0.00957836, 0.01247288,\n",
       "        0.0153674 , 0.01826192, 0.02115644, 0.02405096, 0.02694548,\n",
       "        0.02984   ]),\n",
       " <a list of 10 Patch objects>)"
      ]
     },
     "execution_count": 60,
     "metadata": {},
     "output_type": "execute_result"
    },
    {
     "data": {
      "text/plain": [
       "Text(0.5, 0, 'fractal_dimension_se\\nrayleigh')"
      ]
     },
     "execution_count": 60,
     "metadata": {},
     "output_type": "execute_result"
    },
    {
     "data": {
      "text/plain": [
       "(array([ 34., 160., 167.,  69.,  53.,  47.,  22.,   9.,   7.,   1.]),\n",
       " array([ 7.93 , 10.741, 13.552, 16.363, 19.174, 21.985, 24.796, 27.607,\n",
       "        30.418, 33.229, 36.04 ]),\n",
       " <a list of 10 Patch objects>)"
      ]
     },
     "execution_count": 60,
     "metadata": {},
     "output_type": "execute_result"
    },
    {
     "data": {
      "text/plain": [
       "Text(0.5, 0, 'radius_worst\\nrayleigh')"
      ]
     },
     "execution_count": 60,
     "metadata": {},
     "output_type": "execute_result"
    },
    {
     "data": {
      "text/plain": [
       "(array([ 16.,  80., 123., 131., 100.,  75.,  28.,  11.,   3.,   2.]),\n",
       " array([12.02 , 15.772, 19.524, 23.276, 27.028, 30.78 , 34.532, 38.284,\n",
       "        42.036, 45.788, 49.54 ]),\n",
       " <a list of 10 Patch objects>)"
      ]
     },
     "execution_count": 60,
     "metadata": {},
     "output_type": "execute_result"
    },
    {
     "data": {
      "text/plain": [
       "Text(0.5, 0, 'texture_worst\\nnormal')"
      ]
     },
     "execution_count": 60,
     "metadata": {},
     "output_type": "execute_result"
    },
    {
     "data": {
      "text/plain": [
       "(array([ 43., 178., 151.,  77.,  45.,  44.,  18.,   7.,   5.,   1.]),\n",
       " array([ 50.41 ,  70.489,  90.568, 110.647, 130.726, 150.805, 170.884,\n",
       "        190.963, 211.042, 231.121, 251.2  ]),\n",
       " <a list of 10 Patch objects>)"
      ]
     },
     "execution_count": 60,
     "metadata": {},
     "output_type": "execute_result"
    },
    {
     "data": {
      "text/plain": [
       "Text(0.5, 0, 'perimeter_worst\\nrayleigh')"
      ]
     },
     "execution_count": 60,
     "metadata": {},
     "output_type": "execute_result"
    },
    {
     "data": {
      "text/plain": [
       "(array([223., 193.,  58.,  51.,  25.,  10.,   4.,   4.,   0.,   1.]),\n",
       " array([ 185.2 ,  592.08,  998.96, 1405.84, 1812.72, 2219.6 , 2626.48,\n",
       "        3033.36, 3440.24, 3847.12, 4254.  ]),\n",
       " <a list of 10 Patch objects>)"
      ]
     },
     "execution_count": 60,
     "metadata": {},
     "output_type": "execute_result"
    },
    {
     "data": {
      "text/plain": [
       "Text(0.5, 0, 'area_worst\\nrayleigh')"
      ]
     },
     "execution_count": 60,
     "metadata": {},
     "output_type": "execute_result"
    },
    {
     "data": {
      "text/plain": [
       "(array([  5.,  43.,  93., 150., 143.,  78.,  34.,  19.,   1.,   3.]),\n",
       " array([0.07117 , 0.086313, 0.101456, 0.116599, 0.131742, 0.146885,\n",
       "        0.162028, 0.177171, 0.192314, 0.207457, 0.2226  ]),\n",
       " <a list of 10 Patch objects>)"
      ]
     },
     "execution_count": 60,
     "metadata": {},
     "output_type": "execute_result"
    },
    {
     "data": {
      "text/plain": [
       "Text(0.5, 0, 'smoothness_worst\\nnormal')"
      ]
     },
     "execution_count": 60,
     "metadata": {},
     "output_type": "execute_result"
    },
    {
     "data": {
      "text/plain": [
       "(array([117., 200., 108.,  84.,  27.,  17.,   8.,   3.,   4.,   1.]),\n",
       " array([0.02729 , 0.130361, 0.233432, 0.336503, 0.439574, 0.542645,\n",
       "        0.645716, 0.748787, 0.851858, 0.954929, 1.058   ]),\n",
       " <a list of 10 Patch objects>)"
      ]
     },
     "execution_count": 60,
     "metadata": {},
     "output_type": "execute_result"
    },
    {
     "data": {
      "text/plain": [
       "Text(0.5, 0, 'compactness_worst\\nrayleigh')"
      ]
     },
     "execution_count": 60,
     "metadata": {},
     "output_type": "execute_result"
    },
    {
     "data": {
      "text/plain": [
       "(array([157., 151., 109.,  72.,  38.,  28.,   7.,   4.,   1.,   2.]),\n",
       " array([0.    , 0.1252, 0.2504, 0.3756, 0.5008, 0.626 , 0.7512, 0.8764,\n",
       "        1.0016, 1.1268, 1.252 ]),\n",
       " <a list of 10 Patch objects>)"
      ]
     },
     "execution_count": 60,
     "metadata": {},
     "output_type": "execute_result"
    },
    {
     "data": {
      "text/plain": [
       "Text(0.5, 0, 'concavity_worst\\nrayleigh')"
      ]
     },
     "execution_count": 60,
     "metadata": {},
     "output_type": "execute_result"
    },
    {
     "data": {
      "text/plain": [
       "(array([ 43.,  72., 130.,  87.,  54.,  63.,  55.,  34.,  20.,  11.]),\n",
       " array([0.    , 0.0291, 0.0582, 0.0873, 0.1164, 0.1455, 0.1746, 0.2037,\n",
       "        0.2328, 0.2619, 0.291 ]),\n",
       " <a list of 10 Patch objects>)"
      ]
     },
     "execution_count": 60,
     "metadata": {},
     "output_type": "execute_result"
    },
    {
     "data": {
      "text/plain": [
       "Text(0.5, 0, 'concave points_worst\\nrayleigh')"
      ]
     },
     "execution_count": 60,
     "metadata": {},
     "output_type": "execute_result"
    },
    {
     "data": {
      "text/plain": [
       "(array([ 23., 153., 219., 114.,  35.,  11.,   9.,   3.,   1.,   1.]),\n",
       " array([0.1565 , 0.20723, 0.25796, 0.30869, 0.35942, 0.41015, 0.46088,\n",
       "        0.51161, 0.56234, 0.61307, 0.6638 ]),\n",
       " <a list of 10 Patch objects>)"
      ]
     },
     "execution_count": 60,
     "metadata": {},
     "output_type": "execute_result"
    },
    {
     "data": {
      "text/plain": [
       "Text(0.5, 0, 'symmetry_worst\\nnormal')"
      ]
     },
     "execution_count": 60,
     "metadata": {},
     "output_type": "execute_result"
    },
    {
     "data": {
      "text/plain": [
       "(array([123., 245., 113.,  51.,  25.,   9.,   1.,   1.,   0.,   1.]),\n",
       " array([0.05504 , 0.070286, 0.085532, 0.100778, 0.116024, 0.13127 ,\n",
       "        0.146516, 0.161762, 0.177008, 0.192254, 0.2075  ]),\n",
       " <a list of 10 Patch objects>)"
      ]
     },
     "execution_count": 60,
     "metadata": {},
     "output_type": "execute_result"
    },
    {
     "data": {
      "text/plain": [
       "Text(0.5, 0, 'fractal_dimension_worst\\nrayleigh')"
      ]
     },
     "execution_count": 60,
     "metadata": {},
     "output_type": "execute_result"
    },
    {
     "data": {
      "text/plain": [
       "<Figure size 432x288 with 0 Axes>"
      ]
     },
     "metadata": {},
     "output_type": "display_data"
    },
    {
     "data": {
      "image/png": "[encoded data removed]",
      "text/plain": [
       "<Figure size 1440x1440 with 30 Axes>"
      ]
     },
     "metadata": {
      "needs_background": "light"
     },
     "output_type": "display_data"
    }
   ],
   "source": [
    "plt.figure()\n",
    "#fig.set_size_inches(18.5, 10.5)\n",
    "linear_data = np.array([1,2,3,4,5,6,7,8])\n",
    "fig, axises = plt.subplots(6, 5, sharex=False, sharey=False)\n",
    "fig.set_size_inches(20, 20)\n",
    "fig.subplots_adjust(hspace=.5)\n",
    "\n",
    "count = 1\n",
    "\n",
    "for i in range(0,6):\n",
    "    for j in range(0,5):\n",
    "        column_name = df.columns[count]\n",
    "        axises[i][j].hist(df[column_name])\n",
    "        axises[i][j].set_xlabel(column_name + \"\\n\" +getDistributionName(df[column_name]))\n",
    "        count = count + 1\n",
    "    \n",
    "#axises[0][0].hist(df['symmetry_worst'])\n",
    "#axises[0][0].set_xlabel('symmetry_worst')\n",
    "\n",
    "\n",
    "#for i in range(0,32):\n",
    "#    axises[i].plot(df[df.columns(i)], 25)"
   ]
  },
  {
   "cell_type": "code",
   "execution_count": null,
   "metadata": {},
   "outputs": [],
   "source": []
  },
  {
   "cell_type": "code",
   "execution_count": null,
   "metadata": {},
   "outputs": [],
   "source": []
  }
 ],
 "metadata": {
  "kernelspec": {
   "display_name": "Python 3",
   "language": "python",
   "name": "python3"
  },
  "language_info": {
   "codemirror_mode": {
    "name": "ipython",
    "version": 3
   },
   "file_extension": ".py",
   "mimetype": "text/x-python",
   "name": "python",
   "nbconvert_exporter": "python",
   "pygments_lexer": "ipython3",
   "version": "3.7.5"
  }
 },
 "nbformat": 4,
 "nbformat_minor": 2
}
