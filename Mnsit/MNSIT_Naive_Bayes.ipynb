{
 "cells": [
  {
   "cell_type": "code",
   "execution_count": 1,
   "metadata": {},
   "outputs": [],
   "source": [
    "\n",
    "import numpy as np\n",
    "import pandas as pd\n",
    "import matplotlib.pyplot as plt\n",
    "from datetime import datetime\n",
    "from scipy.stats import norm\n",
    "from scipy.stats import multivariate_normal as mvn\n",
    "\n",
    "from collections import defaultdict\n",
    "from builtins import range, input"
   ]
  },
  {
   "cell_type": "code",
   "execution_count": 3,
   "metadata": {},
   "outputs": [],
   "source": [
    "\n",
    "def get_data(limit=None):\n",
    "    print(\"Reading in and transforming data...\")\n",
    "    df = pd.read_csv('../data/digit-recognizer/train.csv')\n",
    "    data = df.values\n",
    "    np.random.shuffle(data)\n",
    "    X = data[:, 1:] / 255.0 # data is from 0..255\n",
    "    Y = data[:, 0]\n",
    "    if limit is not None:\n",
    "        X, Y = X[:limit], Y[:limit]\n",
    "    return X, Y"
   ]
  },
  {
   "cell_type": "code",
   "execution_count": 4,
   "metadata": {},
   "outputs": [
    {
     "name": "stdout",
     "output_type": "stream",
     "text": [
      "Reading in and transforming data...\n"
     ]
    }
   ],
   "source": [
    "X, Y = get_data(10000)\n",
    "Ntrain = len(Y) // 2\n",
    "Xtrain, Ytrain = X[:Ntrain], Y[:Ntrain]\n",
    "Xtest, Ytest = X[Ntrain:], Y[Ntrain:]\n"
   ]
  },
  {
   "cell_type": "code",
   "execution_count": 5,
   "metadata": {},
   "outputs": [
    {
     "data": {
      "text/plain": [
       "(10000, 784)"
      ]
     },
     "execution_count": 5,
     "metadata": {},
     "output_type": "execute_result"
    },
    {
     "data": {
      "text/plain": [
       "(10000,)"
      ]
     },
     "execution_count": 5,
     "metadata": {},
     "output_type": "execute_result"
    }
   ],
   "source": [
    "X.shape\n",
    "Y.shape"
   ]
  },
  {
   "cell_type": "code",
   "execution_count": 8,
   "metadata": {},
   "outputs": [
    {
     "data": {
      "text/plain": [
       "(784,)"
      ]
     },
     "execution_count": 8,
     "metadata": {},
     "output_type": "execute_result"
    }
   ],
   "source": [
    "X[0].shape"
   ]
  },
  {
   "cell_type": "code",
   "execution_count": 77,
   "metadata": {},
   "outputs": [],
   "source": [
    "# We need the rows to be the Features, so either Transpose the X or make rowvar= False,\n",
    "# so that it could Transpose internally\n",
    "def getCovarianceMat(X, D, smoothing=1e-2):\n",
    "    return np.cov(X.T) + np.eye(D)*smoothing"
   ]
  },
  {
   "cell_type": "code",
   "execution_count": 78,
   "metadata": {},
   "outputs": [
    {
     "data": {
      "text/plain": [
       "5000"
      ]
     },
     "execution_count": 78,
     "metadata": {},
     "output_type": "execute_result"
    },
    {
     "data": {
      "text/plain": [
       "(10000, 784)"
      ]
     },
     "execution_count": 78,
     "metadata": {},
     "output_type": "execute_result"
    },
    {
     "data": {
      "text/plain": [
       "{0, 1, 2, 3, 4, 5, 6, 7, 8, 9}"
      ]
     },
     "execution_count": 78,
     "metadata": {},
     "output_type": "execute_result"
    },
    {
     "data": {
      "text/plain": [
       "(909, 784)"
      ]
     },
     "execution_count": 78,
     "metadata": {},
     "output_type": "execute_result"
    },
    {
     "data": {
      "text/plain": [
       "(784, 784)"
      ]
     },
     "execution_count": 78,
     "metadata": {},
     "output_type": "execute_result"
    },
    {
     "name": "stdout",
     "output_type": "stream",
     "text": [
      "mean shape (784,)\n"
     ]
    },
    {
     "data": {
      "text/plain": [
       "(909,)"
      ]
     },
     "execution_count": 78,
     "metadata": {},
     "output_type": "execute_result"
    },
    {
     "data": {
      "text/plain": [
       "238"
      ]
     },
     "execution_count": 78,
     "metadata": {},
     "output_type": "execute_result"
    },
    {
     "data": {
      "text/plain": [
       "791.3283832695996"
      ]
     },
     "execution_count": 78,
     "metadata": {},
     "output_type": "execute_result"
    },
    {
     "data": {
      "text/plain": [
       "730.2054433076229"
      ]
     },
     "execution_count": 78,
     "metadata": {},
     "output_type": "execute_result"
    },
    {
     "data": {
      "text/plain": [
       "746.6334564455454"
      ]
     },
     "execution_count": 78,
     "metadata": {},
     "output_type": "execute_result"
    }
   ],
   "source": [
    "\n",
    "Ntrain\n",
    "N, D = X.shape\n",
    "X.shape\n",
    "labels = set(Y)\n",
    "labels\n",
    "\n",
    "current_x = X[Y == 5]\n",
    "current_x.shape\n",
    "covmat = getCovarianceMat(current_x, D)\n",
    "covmat.shape\n",
    "#covmat2 = current_x.var(axis=0)\n",
    "#covmat2.shape\n",
    "mean = current_x.mean(axis=0)\n",
    "print(f\"mean shape {mean.shape}\")\n",
    "\n",
    "lgpdf = mvn.logpdf(current_x, mean=mean, cov=covmat)\n",
    "lgpdf.shape\n",
    "#lgpdf.reshape(lgpdf.shape[0], 1)\n",
    "#np.argmax(lgpdf.reshape(lgpdf.shape[0], 1), axis=0)\n",
    "\n",
    "\n",
    "arg = np.argmax(lgpdf, axis=0)\n",
    "arg\n",
    "lgpdf[arg]\n",
    "lgpdf[arg-1]\n",
    "lgpdf[arg+1]\n",
    "\n",
    "\n",
    "\n",
    "\n",
    "#print(np.linalg.inv(covmat))\n",
    "\n",
    "\n"
   ]
  },
  {
   "cell_type": "code",
   "execution_count": 79,
   "metadata": {},
   "outputs": [
    {
     "data": {
      "text/plain": [
       "(909, 2)"
      ]
     },
     "execution_count": 79,
     "metadata": {},
     "output_type": "execute_result"
    }
   ],
   "source": [
    "\n",
    "P = np.zeros((current_x.shape[0], 2))\n",
    "P.shape\n",
    "\n",
    "P[:,0] = lgpdf\n",
    "\n",
    "lgpdf[arg+1] += lgpdf[arg] + 1\n",
    "\n",
    "P[:,1] = lgpdf"
   ]
  },
  {
   "cell_type": "code",
   "execution_count": 80,
   "metadata": {},
   "outputs": [
    {
     "data": {
      "text/plain": [
       "238"
      ]
     },
     "execution_count": 80,
     "metadata": {},
     "output_type": "execute_result"
    },
    {
     "data": {
      "text/plain": [
       "239"
      ]
     },
     "execution_count": 80,
     "metadata": {},
     "output_type": "execute_result"
    },
    {
     "data": {
      "text/plain": [
       "array([238, 239])"
      ]
     },
     "execution_count": 80,
     "metadata": {},
     "output_type": "execute_result"
    }
   ],
   "source": [
    "np.argmax(P[:,0] , axis=0)\n",
    "np.argmax(P[:,1] , axis=0)\n",
    "np.argmax(P , axis=0)"
   ]
  },
  {
   "cell_type": "code",
   "execution_count": 57,
   "metadata": {},
   "outputs": [],
   "source": [
    "lgpdf[arg+1] += lgpdf[arg] + 1"
   ]
  },
  {
   "cell_type": "code",
   "execution_count": 58,
   "metadata": {},
   "outputs": [
    {
     "data": {
      "text/plain": [
       "432"
      ]
     },
     "execution_count": 58,
     "metadata": {},
     "output_type": "execute_result"
    }
   ],
   "source": [
    "arg = np.argmax(lgpdf, axis=0)\n",
    "arg"
   ]
  },
  {
   "cell_type": "code",
   "execution_count": 48,
   "metadata": {},
   "outputs": [
    {
     "data": {
      "text/plain": [
       "792.8984245337365"
      ]
     },
     "execution_count": 48,
     "metadata": {},
     "output_type": "execute_result"
    }
   ],
   "source": [
    "lgpdf[arg]"
   ]
  },
  {
   "cell_type": "code",
   "execution_count": 39,
   "metadata": {},
   "outputs": [
    {
     "data": {
      "text/plain": [
       "<matplotlib.image.AxesImage at 0x12a92e610>"
      ]
     },
     "execution_count": 39,
     "metadata": {},
     "output_type": "execute_result"
    },
    {
     "data": {
      "text/plain": [
       "Text(0.5, 1.0, '5')"
      ]
     },
     "execution_count": 39,
     "metadata": {},
     "output_type": "execute_result"
    },
    {
     "data": {
      "image/png": "[encoded data removed]",
      "text/plain": [
       "<Figure size 432x288 with 1 Axes>"
      ]
     },
     "metadata": {
      "needs_background": "light"
     },
     "output_type": "display_data"
    },
    {
     "data": {
      "text/plain": [
       "[<matplotlib.lines.Line2D at 0x129b6d7d0>]"
      ]
     },
     "execution_count": 39,
     "metadata": {},
     "output_type": "execute_result"
    },
    {
     "data": {
      "text/plain": [
       "Text(0.5, 1.0, '5')"
      ]
     },
     "execution_count": 39,
     "metadata": {},
     "output_type": "execute_result"
    },
    {
     "data": {
      "image/png": "[encoded data removed]",
      "text/plain": [
       "<Figure size 432x288 with 1 Axes>"
      ]
     },
     "metadata": {
      "needs_background": "light"
     },
     "output_type": "display_data"
    },
    {
     "data": {
      "text/plain": [
       "[<matplotlib.lines.Line2D at 0x12875bbd0>]"
      ]
     },
     "execution_count": 39,
     "metadata": {},
     "output_type": "execute_result"
    },
    {
     "data": {
      "text/plain": [
       "Text(0.5, 1.0, '5')"
      ]
     },
     "execution_count": 39,
     "metadata": {},
     "output_type": "execute_result"
    },
    {
     "data": {
      "image/png": "[encoded data removed]",
      "text/plain": [
       "<Figure size 432x288 with 1 Axes>"
      ]
     },
     "metadata": {
      "needs_background": "light"
     },
     "output_type": "display_data"
    }
   ],
   "source": [
    "\n",
    "plt.imshow(mean.reshape(28, 28))\n",
    "plt.title(5)\n",
    "plt.show()\n",
    "\n",
    "plt.plot(mean)\n",
    "plt.title(5)\n",
    "plt.show()\n",
    "\n",
    "\n",
    "plt.plot(lgpdf)\n",
    "plt.title(5)\n",
    "plt.show()\n"
   ]
  },
  {
   "cell_type": "code",
   "execution_count": 85,
   "metadata": {},
   "outputs": [],
   "source": [
    "class Bayes(object):\n",
    "    def fit(self, X, Y, smoothing=1e-2):\n",
    "        N, D = X.shape\n",
    "        labels = set(Y)\n",
    "        self.gaussians = np.array([defaultdict(float) for index in range(len(labels))])\n",
    "        self.priors = dict()\n",
    "        for c in labels:\n",
    "            current_x = X[Y == c]\n",
    "            self.gaussians[c] = {\n",
    "                'mean': current_x.mean(axis=0),\n",
    "                'var': getCovarianceMat(current_x, D, smoothing)\n",
    "            }\n",
    "            self.priors[c] = float(len(Y[Y == c])) / len(Y)\n",
    "\n",
    "    def score(self, X, Y):\n",
    "        P = self.predict(X)\n",
    "        return np.mean(P == Y)\n",
    "\n",
    "    def predict(self, X):\n",
    "        N, D = X.shape\n",
    "        K = len(labels)\n",
    "        P = np.zeros((N, K))\n",
    "        for c in labels:\n",
    "            mean = self.gaussians[c]['mean']\n",
    "            cov = self.gaussians[c]['var']\n",
    "            logpdf = mvn.logpdf(X, mean=mean, cov=cov)\n",
    "            prior = np.log(self.priors[c])\n",
    "            P[:,c] = logpdf + np.log(self.priors[c])\n",
    "            argmax = np.argmax(P, axis=1)\n",
    "            print(f\"c = {c}\")\n",
    "            print(f\"logpdf = {logpdf}\")\n",
    "            print(f\"prior = {prior}\")\n",
    "            print(f\"P[:,c] = {P[:,c]}\")\n",
    "            print(f\"argmax = {argmax}\")\n",
    "        return argmax"
   ]
  },
  {
   "cell_type": "code",
   "execution_count": 86,
   "metadata": {},
   "outputs": [
    {
     "name": "stdout",
     "output_type": "stream",
     "text": [
      "Training time: 0:00:00.116351\n",
      "c = 0\n",
      "logpdf = [621.31111377 531.813566   353.02723587 ... 341.27988741 817.74592716\n",
      " 809.03858628]\n",
      "prior = -2.3475824589247813\n",
      "P[:,c] = [618.96353131 529.46598354 350.67965342 ... 338.93230495 815.39834471\n",
      " 806.69100382]\n",
      "argmax = [0 0 0 ... 0 0 0]\n",
      "c = 1\n",
      "logpdf = [ -987.66836037 -1229.68754919   935.09104923 ... -1080.49251979\n",
      "  -910.30133019 -1435.57023099]\n",
      "prior = -2.209094749906707\n",
      "P[:,c] = [ -989.87745512 -1231.89664394   932.88195448 ... -1082.70161454\n",
      "  -912.51042494 -1437.77932574]\n",
      "argmax = [0 0 1 ... 0 0 0]\n",
      "c = 2\n",
      "logpdf = [490.73307797 446.54148991 655.01076146 ... 695.83664539 535.58106316\n",
      " 474.44820362]\n",
      "prior = -2.3289290683336477\n",
      "P[:,c] = [488.4041489  444.21256084 652.68183239 ... 693.50771633 533.2521341\n",
      " 472.11927455]\n",
      "argmax = [0 0 1 ... 2 0 0]\n",
      "c = 3\n",
      "logpdf = [694.91596297 658.2445851  675.56216248 ... 382.68380406 572.84975789\n",
      " 434.07276879]\n",
      "prior = -2.2576117273513145\n",
      "P[:,c] = [692.65835125 655.98697338 673.30455075 ... 380.42619233 570.59214616\n",
      " 431.81515706]\n",
      "argmax = [3 3 1 ... 2 0 0]\n",
      "c = 4\n",
      "logpdf = [289.5947802  162.72582131 734.17132133 ... 193.40093289 221.51054164\n",
      " 151.74896507]\n",
      "prior = -2.366590422969958\n",
      "P[:,c] = [287.22818978 160.35923089 731.8047309  ... 191.03434247 219.14395122\n",
      " 149.38237465]\n",
      "argmax = [3 3 1 ... 2 0 0]\n",
      "c = 5\n",
      "logpdf = [777.82878285 765.36791995 611.72713576 ... 191.92076321 535.27393389\n",
      " 411.35508553]\n",
      "prior = -2.4168742393961735\n",
      "P[:,c] = [775.41190862 762.95104571 609.31026152 ... 189.50388897 532.85705965\n",
      " 408.93821129]\n",
      "argmax = [5 5 1 ... 2 0 0]\n",
      "c = 6\n",
      "logpdf = [159.83553717 362.53293941 538.22302308 ... 135.01511299 589.70159178\n",
      " 527.05584596]\n",
      "prior = -2.3708639337473403\n",
      "P[:,c] = [157.46467323 360.16207547 535.85215914 ... 132.64424905 587.33072784\n",
      " 524.68498203]\n",
      "argmax = [5 5 1 ... 2 0 0]\n",
      "c = 7\n",
      "logpdf = [390.56179348  40.02678041 678.18421556 ... 539.47085129 186.10176681\n",
      "  -4.30799332]\n",
      "prior = -2.138767007764651\n",
      "P[:,c] = [388.42302647  37.8880134  676.04544856 ... 537.33208428 183.9629998\n",
      "  -6.44676033]\n",
      "argmax = [5 5 1 ... 2 0 0]\n",
      "c = 8\n",
      "logpdf = [635.78654215 554.36382832 727.35269984 ... 148.68602165 510.10256465\n",
      " 405.7434406 ]\n",
      "prior = -2.3837951484195887\n",
      "P[:,c] = [633.402747   551.98003317 724.96890469 ... 146.3022265  507.71876951\n",
      " 403.35964545]\n",
      "argmax = [5 5 1 ... 2 0 0]\n",
      "c = 9\n",
      "logpdf = [441.24925116 343.93750123 655.69874231 ... 322.20512841 431.21195305\n",
      " 180.40318328]\n",
      "prior = -2.2424311701742985\n",
      "P[:,c] = [439.00681999 341.69507006 653.45631114 ... 319.96269724 428.96952188\n",
      " 178.16075211]\n",
      "argmax = [5 5 1 ... 2 0 0]\n",
      "Train accuracy: 0.9982\n",
      "Time to compute train accuracy: 0:00:01.961277 Train size: 5000\n",
      "c = 0\n",
      "logpdf = [219.77765397 562.25870738 378.95946706 ... 307.65220782 144.2640022\n",
      " 228.27278501]\n",
      "prior = -2.3475824589247813\n",
      "P[:,c] = [217.43007151 559.91112492 376.6118846  ... 305.30462536 141.91641974\n",
      " 225.92520256]\n",
      "argmax = [0 0 0 ... 0 0 0]\n",
      "c = 1\n",
      "logpdf = [-728.55809411 -711.19790641  331.29145566 ...  175.78444123 -413.18422295\n",
      " -320.00662868]\n",
      "prior = -2.209094749906707\n",
      "P[:,c] = [-730.76718886 -713.40700116  329.08236091 ...  173.57534648 -415.3933177\n",
      " -322.21572343]\n",
      "argmax = [0 0 0 ... 0 0 0]\n",
      "c = 2\n",
      "logpdf = [484.96231288 509.83138531 596.91691818 ... 500.00752159 647.40714947\n",
      " 510.95352552]\n",
      "prior = -2.3289290683336477\n",
      "P[:,c] = [482.63338381 507.50245624 594.58798911 ... 497.67859252 645.0782204\n",
      " 508.62459646]\n",
      "argmax = [2 0 2 ... 2 2 2]\n",
      "c = 3\n",
      "logpdf = [391.45789484 698.98820296 636.50931527 ... 618.1975795  618.48704278\n",
      " 559.92066802]\n",
      "prior = -2.2576117273513145\n",
      "P[:,c] = [389.20028311 696.73059123 634.25170354 ... 615.93996777 616.22943106\n",
      " 557.6630563 ]\n",
      "argmax = [2 3 3 ... 3 2 3]\n",
      "c = 4\n",
      "logpdf = [ 576.7944328   232.27742665  280.70809311 ...  765.12479337 -120.85584766\n",
      "  448.96166313]\n",
      "prior = -2.366590422969958\n",
      "P[:,c] = [ 574.42784238  229.91083622  278.34150269 ...  762.75820294 -123.22243808\n",
      "  446.59507271]\n",
      "argmax = [4 3 3 ... 4 2 3]\n",
      "c = 5\n",
      "logpdf = [392.5953411  726.66973209 552.98057967 ... 536.11976051 101.82235186\n",
      " 527.68927023]\n",
      "prior = -2.4168742393961735\n",
      "P[:,c] = [390.17846687 724.25285785 550.56370543 ... 533.70288627  99.40547762\n",
      " 525.27239599]\n",
      "argmax = [4 5 3 ... 4 2 3]\n",
      "c = 6\n",
      "logpdf = [ 251.4351013   497.00802643  246.160166   ...  167.1122286  -342.34301603\n",
      "  -43.32788215]\n",
      "prior = -2.3708639337473403\n",
      "P[:,c] = [ 249.06423737  494.6371625   243.78930206 ...  164.74136466 -344.71387996\n",
      "  -45.69874608]\n",
      "argmax = [4 5 3 ... 4 2 3]\n",
      "c = 7\n",
      "logpdf = [ 142.65269885  193.57689727  132.74113606 ...  729.81992113 -302.40887401\n",
      "  337.18560815]\n",
      "prior = -2.138767007764651\n",
      "P[:,c] = [ 140.51393185  191.43813026  130.60236905 ...  727.68115412 -304.54764102\n",
      "  335.04684115]\n",
      "argmax = [4 5 3 ... 4 2 3]\n",
      "c = 8\n",
      "logpdf = [333.0157208  570.33736742 733.93779049 ... 680.15199212 251.07641273\n",
      " 689.67400229]\n",
      "prior = -2.3837951484195887\n",
      "P[:,c] = [330.63192566 567.95357227 731.55399535 ... 677.76819697 248.69261758\n",
      " 687.29020714]\n",
      "argmax = [4 5 8 ... 4 2 8]\n",
      "c = 9\n",
      "logpdf = [ 187.2669112   321.0534076   159.0120919  ...  818.96639931 -400.31197281\n",
      "  406.74356941]\n",
      "prior = -2.2424311701742985\n",
      "P[:,c] = [ 185.02448003  318.81097643  156.76966073 ...  816.72396814 -402.55440398\n",
      "  404.50113824]\n",
      "argmax = [4 5 8 ... 9 2 8]\n",
      "Test accuracy: 0.9426\n",
      "Time to compute test accuracy: 0:00:01.997126 Test size: 5000\n"
     ]
    }
   ],
   "source": [
    "\n",
    "model = Bayes()\n",
    "t0 = datetime.now()\n",
    "model.fit(Xtrain, Ytrain)\n",
    "print(\"Training time:\", (datetime.now() - t0))\n",
    "\n",
    "t0 = datetime.now()\n",
    "print(\"Train accuracy:\", model.score(Xtrain, Ytrain))\n",
    "print(\"Time to compute train accuracy:\", (datetime.now() - t0), \"Train size:\", len(Ytrain))\n",
    "\n",
    "t0 = datetime.now()\n",
    "print(\"Test accuracy:\", model.score(Xtest, Ytest))\n",
    "print(\"Time to compute test accuracy:\", (datetime.now() - t0), \"Test size:\", len(Ytest))\n"
   ]
  },
  {
   "cell_type": "code",
   "execution_count": 87,
   "metadata": {},
   "outputs": [
    {
     "data": {
      "text/plain": [
       "<matplotlib.image.AxesImage at 0x128b49710>"
      ]
     },
     "execution_count": 87,
     "metadata": {},
     "output_type": "execute_result"
    },
    {
     "data": {
      "text/plain": [
       "Text(0.5, 1.0, '0')"
      ]
     },
     "execution_count": 87,
     "metadata": {},
     "output_type": "execute_result"
    },
    {
     "data": {
      "image/png": "[encoded data removed]",
      "text/plain": [
       "<Figure size 432x288 with 1 Axes>"
      ]
     },
     "metadata": {
      "needs_background": "light"
     },
     "output_type": "display_data"
    },
    {
     "data": {
      "text/plain": [
       "<matplotlib.image.AxesImage at 0x128dc6810>"
      ]
     },
     "execution_count": 87,
     "metadata": {},
     "output_type": "execute_result"
    },
    {
     "data": {
      "text/plain": [
       "Text(0.5, 1.0, '1')"
      ]
     },
     "execution_count": 87,
     "metadata": {},
     "output_type": "execute_result"
    },
    {
     "data": {
      "image/png": "[encoded data removed]",
      "text/plain": [
       "<Figure size 432x288 with 1 Axes>"
      ]
     },
     "metadata": {
      "needs_background": "light"
     },
     "output_type": "display_data"
    },
    {
     "data": {
      "text/plain": [
       "<matplotlib.image.AxesImage at 0x1232f5bd0>"
      ]
     },
     "execution_count": 87,
     "metadata": {},
     "output_type": "execute_result"
    },
    {
     "data": {
      "text/plain": [
       "Text(0.5, 1.0, '2')"
      ]
     },
     "execution_count": 87,
     "metadata": {},
     "output_type": "execute_result"
    },
    {
     "data": {
      "image/png": "[encoded data removed]",
      "text/plain": [
       "<Figure size 432x288 with 1 Axes>"
      ]
     },
     "metadata": {
      "needs_background": "light"
     },
     "output_type": "display_data"
    },
    {
     "data": {
      "text/plain": [
       "<matplotlib.image.AxesImage at 0x1292b1510>"
      ]
     },
     "execution_count": 87,
     "metadata": {},
     "output_type": "execute_result"
    },
    {
     "data": {
      "text/plain": [
       "Text(0.5, 1.0, '3')"
      ]
     },
     "execution_count": 87,
     "metadata": {},
     "output_type": "execute_result"
    },
    {
     "data": {
      "image/png": "[encoded data removed]",
      "text/plain": [
       "<Figure size 432x288 with 1 Axes>"
      ]
     },
     "metadata": {
      "needs_background": "light"
     },
     "output_type": "display_data"
    },
    {
     "data": {
      "text/plain": [
       "<matplotlib.image.AxesImage at 0x128e7a990>"
      ]
     },
     "execution_count": 87,
     "metadata": {},
     "output_type": "execute_result"
    },
    {
     "data": {
      "text/plain": [
       "Text(0.5, 1.0, '4')"
      ]
     },
     "execution_count": 87,
     "metadata": {},
     "output_type": "execute_result"
    },
    {
     "data": {
      "image/png": "[encoded data removed]",
      "text/plain": [
       "<Figure size 432x288 with 1 Axes>"
      ]
     },
     "metadata": {
      "needs_background": "light"
     },
     "output_type": "display_data"
    },
    {
     "data": {
      "text/plain": [
       "<matplotlib.image.AxesImage at 0x12e8c2f10>"
      ]
     },
     "execution_count": 87,
     "metadata": {},
     "output_type": "execute_result"
    },
    {
     "data": {
      "text/plain": [
       "Text(0.5, 1.0, '5')"
      ]
     },
     "execution_count": 87,
     "metadata": {},
     "output_type": "execute_result"
    },
    {
     "data": {
      "image/png": "[encoded data removed]",
      "text/plain": [
       "<Figure size 432x288 with 1 Axes>"
      ]
     },
     "metadata": {
      "needs_background": "light"
     },
     "output_type": "display_data"
    },
    {
     "data": {
      "text/plain": [
       "<matplotlib.image.AxesImage at 0x12ea2a9d0>"
      ]
     },
     "execution_count": 87,
     "metadata": {},
     "output_type": "execute_result"
    },
    {
     "data": {
      "text/plain": [
       "Text(0.5, 1.0, '6')"
      ]
     },
     "execution_count": 87,
     "metadata": {},
     "output_type": "execute_result"
    },
    {
     "data": {
      "image/png": "[encoded data removed]",
      "text/plain": [
       "<Figure size 432x288 with 1 Axes>"
      ]
     },
     "metadata": {
      "needs_background": "light"
     },
     "output_type": "display_data"
    },
    {
     "data": {
      "text/plain": [
       "<matplotlib.image.AxesImage at 0x12a505510>"
      ]
     },
     "execution_count": 87,
     "metadata": {},
     "output_type": "execute_result"
    },
    {
     "data": {
      "text/plain": [
       "Text(0.5, 1.0, '7')"
      ]
     },
     "execution_count": 87,
     "metadata": {},
     "output_type": "execute_result"
    },
    {
     "data": {
      "image/png": "[encoded data removed]",
      "text/plain": [
       "<Figure size 432x288 with 1 Axes>"
      ]
     },
     "metadata": {
      "needs_background": "light"
     },
     "output_type": "display_data"
    },
    {
     "data": {
      "text/plain": [
       "<matplotlib.image.AxesImage at 0x12aa19fd0>"
      ]
     },
     "execution_count": 87,
     "metadata": {},
     "output_type": "execute_result"
    },
    {
     "data": {
      "text/plain": [
       "Text(0.5, 1.0, '8')"
      ]
     },
     "execution_count": 87,
     "metadata": {},
     "output_type": "execute_result"
    },
    {
     "data": {
      "image/png": "[encoded data removed]",
      "text/plain": [
       "<Figure size 432x288 with 1 Axes>"
      ]
     },
     "metadata": {
      "needs_background": "light"
     },
     "output_type": "display_data"
    },
    {
     "data": {
      "text/plain": [
       "<matplotlib.image.AxesImage at 0x12ed8bb50>"
      ]
     },
     "execution_count": 87,
     "metadata": {},
     "output_type": "execute_result"
    },
    {
     "data": {
      "text/plain": [
       "Text(0.5, 1.0, '9')"
      ]
     },
     "execution_count": 87,
     "metadata": {},
     "output_type": "execute_result"
    },
    {
     "data": {
      "image/png": "[encoded data removed]",
      "text/plain": [
       "<Figure size 432x288 with 1 Axes>"
      ]
     },
     "metadata": {
      "needs_background": "light"
     },
     "output_type": "display_data"
    }
   ],
   "source": [
    "\n",
    "# plot the mean of each class\n",
    "for c in labels:\n",
    "    mean = model.gaussians[c]['mean']\n",
    "    cov = model.gaussians[c]['var']\n",
    "    #plt.plot(mean)\n",
    "    #plt.title(c)\n",
    "    #plt.show()\n",
    "    plt.imshow(mean.reshape(28, 28))\n",
    "    plt.title(c)\n",
    "    plt.show()"
   ]
  },
  {
   "cell_type": "code",
   "execution_count": 52,
   "metadata": {},
   "outputs": [],
   "source": [
    "gaussians = np.array([defaultdict(str) for index in range(4)])\n",
    "#gaussians = defaultdict(str)"
   ]
  },
  {
   "cell_type": "code",
   "execution_count": 53,
   "metadata": {},
   "outputs": [],
   "source": [
    "for c in range(4):\n",
    "    gaussians[c] = {\n",
    "        'mean': c,\n",
    "        'cov': c*2,\n",
    "    }"
   ]
  },
  {
   "cell_type": "code",
   "execution_count": 54,
   "metadata": {},
   "outputs": [
    {
     "data": {
      "text/plain": [
       "[{'mean': 0, 'cov': 0},\n",
       " {'mean': 1, 'cov': 2},\n",
       " {'mean': 2, 'cov': 4},\n",
       " {'mean': 3, 'cov': 6}]"
      ]
     },
     "execution_count": 54,
     "metadata": {},
     "output_type": "execute_result"
    }
   ],
   "source": [
    "list(gaussians)"
   ]
  },
  {
   "cell_type": "code",
   "execution_count": 55,
   "metadata": {},
   "outputs": [
    {
     "name": "stdout",
     "output_type": "stream",
     "text": [
      "0\n",
      "0\n",
      "1\n",
      "2\n",
      "2\n",
      "4\n",
      "3\n",
      "6\n"
     ]
    }
   ],
   "source": [
    "for c in range(4):\n",
    "    print(gaussians[c]['mean'])\n",
    "    print(gaussians[c]['cov'])\n",
    "    "
   ]
  },
  {
   "cell_type": "code",
   "execution_count": null,
   "metadata": {},
   "outputs": [],
   "source": []
  },
  {
   "cell_type": "code",
   "execution_count": null,
   "metadata": {},
   "outputs": [],
   "source": []
  },
  {
   "cell_type": "code",
   "execution_count": null,
   "metadata": {},
   "outputs": [],
   "source": []
  }
 ],
 "metadata": {
  "kernelspec": {
   "display_name": "Python 3",
   "language": "python",
   "name": "python3"
  },
  "language_info": {
   "codemirror_mode": {
    "name": "ipython",
    "version": 3
   },
   "file_extension": ".py",
   "mimetype": "text/x-python",
   "name": "python",
   "nbconvert_exporter": "python",
   "pygments_lexer": "ipython3",
   "version": "3.7.6"
  }
 },
 "nbformat": 4,
 "nbformat_minor": 2
}
