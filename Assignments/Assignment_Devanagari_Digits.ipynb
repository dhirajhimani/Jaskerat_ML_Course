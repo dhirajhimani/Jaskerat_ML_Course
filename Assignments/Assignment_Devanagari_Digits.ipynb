{
 "cells": [
  {
   "cell_type": "markdown",
   "metadata": {},
   "source": [
    "# Distribute Data for Crossvalidation\n",
    "\n",
    "## Things To Do:-\n",
    "\n",
    "<ol>\n",
    "    <li>Part 1</li>\n",
    "    <li>Extract Zip File, Parent Folder would contain Train and Test folder</li>\n",
    "    <li>Create a new folder crossvalidation</li>\n",
    "    <li>Train Folder contains 46 subfolders and 1700 Images, Extract 25% of images from the train folder to crossvalidation</li>\n",
    "    <li>Part 2</li>\n",
    "    <li>Create a Dataframe from all th files in the Train, Each Image is 32 * 32, we need to create a row vector 1 * 1024 for each row, </li>\n",
    "    <li>Add a numbered label to decide the category in which the row falls</li>\n",
    "    <li>So final row would be 1 * 1025 and rows would be 46*1275, 46 folders and 1275 files in each</li>\n",
    "    <li>Final size of Dataframe would be 58650 * 1025</li>\n",
    "    <li>To final test the accuracy random pick any row of dataframe and check the image is of correct label</li>\n",
    "</ol>\n",
    "\n"
   ]
  },
  {
   "cell_type": "code",
   "execution_count": 1,
   "metadata": {},
   "outputs": [],
   "source": [
    "import pandas as pd\n",
    "import numpy as np\n",
    "\n",
    "from zipfile import ZipFile \n",
    "\n",
    "import os.path\n",
    "from os import path\n",
    "import shutil"
   ]
  },
  {
   "cell_type": "code",
   "execution_count": 2,
   "metadata": {},
   "outputs": [],
   "source": [
    "# specifying the zip file name \n",
    "zip_file_name = \"../data/DevanagariHandwrittenDigitsDataset.zip\"\n",
    "\n",
    "zip_folder_name = \"../data/DevanagariHandwrittenDigitsDataset\"\n",
    "\n",
    "train_folder_name = \"../data/DevanagariHandwrittenDigitsDataset/Train\"\n",
    "\n",
    "crossvalidation_folder_name = \"../data/DevanagariHandwrittenDigitsDataset/crossvalidation\"\n",
    "\n",
    "zip_extract_location = \"../data/\"\n",
    "\n",
    "percentage_of_files_to_extract = .25\n",
    "\n",
    "sample_crossvalidation_file = crossvalidation_folder_name + \"/digit_3/12595.png\""
   ]
  },
  {
   "cell_type": "code",
   "execution_count": 3,
   "metadata": {},
   "outputs": [
    {
     "name": "stdout",
     "output_type": "stream",
     "text": [
      "../data/DevanagariHandwrittenDigitsDataset Exists, Already Extracted\n"
     ]
    }
   ],
   "source": [
    "# Extract Zip file if we haven't extracted it yet\n",
    "\n",
    "# Commented for safety\n",
    "#if path.exists(zip_folder_name):\n",
    "#    shutil.rmtree(zip_folder_name)\n",
    "\n",
    "if not path.exists(zip_folder_name):\n",
    "    \n",
    "    # opening the zip file in READ mode \n",
    "    with ZipFile(zip_file_name, 'r') as zip: \n",
    "        \n",
    "        # printing all the contents of the zip file \n",
    "        #zip.printdir() \n",
    "\n",
    "        # extracting all the files \n",
    "        print('Extracting all the files now...') \n",
    "        zip.extractall(path=zip_extract_location) \n",
    "        print('Done!') \n",
    "else:\n",
    "    print(zip_folder_name + \" Exists, Already Extracted\")\n"
   ]
  },
  {
   "cell_type": "code",
   "execution_count": 4,
   "metadata": {},
   "outputs": [
    {
     "name": "stdout",
     "output_type": "stream",
     "text": [
      "/Users/agaxmp04/Documents/JupyterNotebook/Jaskerat_ML_Course/Assignments\n"
     ]
    }
   ],
   "source": [
    "print(os.getcwd())"
   ]
  },
  {
   "cell_type": "code",
   "execution_count": 5,
   "metadata": {},
   "outputs": [
    {
     "name": "stdout",
     "output_type": "stream",
     "text": [
      "Creation of the directory <module 'posixpath' from '/usr/local/Cellar/python/3.7.6_1/Frameworks/Python.framework/Versions/3.7/lib/python3.7/posixpath.py'> failed\n"
     ]
    }
   ],
   "source": [
    "# define the name of the Crossvalidation directory to be created\n",
    "crossvalidationpath = os.getcwd() + \"/\" + zip_folder_name + \"/\" + \"crossvalidation\"\n",
    "\n",
    "try:\n",
    "    os.mkdir(crossvalidationpath)\n",
    "except OSError:\n",
    "    # if the folder is already there, it would fail\n",
    "    print (\"Creation of the directory %s failed\" % path)\n",
    "else:\n",
    "    print (\"Successfully created the directory %s \" % path)"
   ]
  },
  {
   "cell_type": "code",
   "execution_count": 6,
   "metadata": {},
   "outputs": [
    {
     "name": "stdout",
     "output_type": "stream",
     "text": [
      "Already moved\n"
     ]
    }
   ],
   "source": [
    "# Move 25% of files from Train to Crossvalidation folder\n",
    "\n",
    "if not path.exists(sample_crossvalidation_file):\n",
    "    \n",
    "    for dirpath, dirnames, filenames in os.walk(train_folder_name):\n",
    "        if len(filenames) != 0:\n",
    "            #print(dirpath)\n",
    "            #print(dirnames)\n",
    "            #print(filenames)\n",
    "            destination = crossvalidation_folder_name + \"/\" + str(dirpath.split(sep='/').pop())\n",
    "\n",
    "            if not path.exists(destination):\n",
    "                os.mkdir(destination)\n",
    "\n",
    "            files_to_be_moved = int(len(filenames) * percentage_of_files_to_extract)\n",
    "            #print(destination)\n",
    "            #print(files_to_be_moved)\n",
    "            for i in range(files_to_be_moved):\n",
    "                src = dirpath + \"/\" + filenames[i]\n",
    "                dest = destination + \"/\" + filenames[i]\n",
    "                # do debug here, is it working\n",
    "                shutil.move(src = src, dst = destination);\n",
    "else:\n",
    "    print(\"Already moved\")\n"
   ]
  },
  {
   "cell_type": "markdown",
   "metadata": {},
   "source": [
    "# Part 2"
   ]
  },
  {
   "cell_type": "code",
   "execution_count": 7,
   "metadata": {},
   "outputs": [],
   "source": [
    "import imageio\n",
    "import visvis as vv"
   ]
  },
  {
   "cell_type": "code",
   "execution_count": 8,
   "metadata": {},
   "outputs": [],
   "source": [
    "im = imageio.imread(str(sample_crossvalidation_file))"
   ]
  },
  {
   "cell_type": "code",
   "execution_count": 9,
   "metadata": {},
   "outputs": [
    {
     "data": {
      "text/plain": [
       "(32, 32)"
      ]
     },
     "execution_count": 9,
     "metadata": {},
     "output_type": "execute_result"
    }
   ],
   "source": [
    "im.shape"
   ]
  },
  {
   "cell_type": "code",
   "execution_count": 10,
   "metadata": {},
   "outputs": [],
   "source": [
    "df = pd.DataFrame(data=im)"
   ]
  },
  {
   "cell_type": "code",
   "execution_count": 11,
   "metadata": {},
   "outputs": [],
   "source": [
    "df.to_csv(r'export_df.csv',index = None, header=True)"
   ]
  },
  {
   "cell_type": "code",
   "execution_count": 12,
   "metadata": {},
   "outputs": [],
   "source": [
    "def showImg(image):\n",
    "\n",
    "    # Create figure and make it wider than the default\n",
    "    fig = vv.figure()\n",
    "    #fig.position.w = 700\n",
    "\n",
    "    # Create first axes\n",
    "    #a1 = vv.subplot(121)\n",
    "\n",
    "    # Display an image\n",
    "    texture2d = vv.imshow(image)\n",
    "    texture2d.interpolate = True # if False the pixels are visible when zooming in\n",
    "\n",
    "    # Enter main loop\n",
    "    app = vv.use() # let visvis chose a backend for me\n",
    "    app.Run()"
   ]
  },
  {
   "cell_type": "code",
   "execution_count": 13,
   "metadata": {},
   "outputs": [],
   "source": [
    "#showImg(im)"
   ]
  },
  {
   "cell_type": "code",
   "execution_count": 14,
   "metadata": {},
   "outputs": [],
   "source": [
    "imr = im.reshape((1,1024))"
   ]
  },
  {
   "cell_type": "code",
   "execution_count": 15,
   "metadata": {},
   "outputs": [
    {
     "name": "stdout",
     "output_type": "stream",
     "text": [
      "(1, 1024)\n",
      "[[ 0  0  0 ...  0  0 34]]\n",
      "(1, 1025)\n",
      "(1, 1024)\n",
      "[[34]]\n",
      "34\n"
     ]
    }
   ],
   "source": [
    "print(imr.shape)\n",
    "\n",
    "np_im = np.array(imr)\n",
    "im_im2 = np.append(np_im, [[34]], axis=1)\n",
    "\n",
    "print(im_im2)\n",
    "print(im_im2.shape)\n",
    "\n",
    "print(im_im2[:,:-1].shape)\n",
    "#print(im_im2[:,:-1].reshape((32,32)))\n",
    "#im_im3 = im_im2[:,:-1].reshape((32,32))\n",
    "\n",
    "# which category added\n",
    "print(im_im2[:,-1:])\n",
    "print(im_im2[:,-1:][0][0])"
   ]
  },
  {
   "cell_type": "code",
   "execution_count": 16,
   "metadata": {},
   "outputs": [],
   "source": [
    "def getImageFromImgCat(np_image):\n",
    "    return np_image[:,:-1].reshape((32,32))"
   ]
  },
  {
   "cell_type": "code",
   "execution_count": 17,
   "metadata": {},
   "outputs": [],
   "source": [
    "def getCategoryFromImgCat(np_image):\n",
    "    return np_image[:,-1:][0][0]"
   ]
  },
  {
   "cell_type": "code",
   "execution_count": 18,
   "metadata": {},
   "outputs": [
    {
     "data": {
      "text/plain": [
       "'digit_3'"
      ]
     },
     "execution_count": 18,
     "metadata": {},
     "output_type": "execute_result"
    }
   ],
   "source": [
    "sample_crossvalidation_file.split(\"/\").pop(-2)"
   ]
  },
  {
   "cell_type": "code",
   "execution_count": 19,
   "metadata": {},
   "outputs": [],
   "source": [
    "count = 0\n",
    "images = []\n",
    "lables = []\n",
    "rows=[]\n",
    "for dirpath, dirnames, filenames in os.walk(train_folder_name):\n",
    "    #print(dirpath)\n",
    "    #print(len(filenames))\n",
    "    if len(filenames) != 0:\n",
    "        for i in range(len(filenames)):\n",
    "        #for i in range(2):\n",
    "            name = filenames[i]\n",
    "            directory_name = dirpath.split('/')[-1]\n",
    "            image_path = src = dirpath + \"/\" + name\n",
    "            image = imageio.imread(str(image_path))\n",
    "            image = image.reshape((1,1024))\n",
    "            np_image = np.array(image)\n",
    "            #np_image = np.append(np_image, [[count]], axis=1)\n",
    "            #cv_df.loc[i + count*2] = [np_image, directory_name]\n",
    "            \n",
    "            #cv_df = cv_df.append({'Image_Category':np_image, 'Category':directory_name}, ignore_index=True)\n",
    "            #images.append(np_image)\n",
    "            #lables.append(directory_name)\n",
    "            rows.append([np_image, directory_name])\n",
    "            #print(directory_name)\n",
    "            #print(image_path)\n",
    "        count += 1"
   ]
  },
  {
   "cell_type": "code",
   "execution_count": 20,
   "metadata": {},
   "outputs": [],
   "source": [
    "cv_df = pd.DataFrame(data=rows, columns=['image', 'label'])"
   ]
  },
  {
   "cell_type": "code",
   "execution_count": 21,
   "metadata": {},
   "outputs": [],
   "source": [
    "cv_df.to_csv(r'crossvalidation_dataframe.csv',index = None, header=True)"
   ]
  },
  {
   "cell_type": "code",
   "execution_count": 22,
   "metadata": {},
   "outputs": [
    {
     "data": {
      "text/html": [
       "<div>\n",
       "<style scoped>\n",
       "    .dataframe tbody tr th:only-of-type {\n",
       "        vertical-align: middle;\n",
       "    }\n",
       "\n",
       "    .dataframe tbody tr th {\n",
       "        vertical-align: top;\n",
       "    }\n",
       "\n",
       "    .dataframe thead th {\n",
       "        text-align: right;\n",
       "    }\n",
       "</style>\n",
       "<table border=\"1\" class=\"dataframe\">\n",
       "  <thead>\n",
       "    <tr style=\"text-align: right;\">\n",
       "      <th></th>\n",
       "      <th>image</th>\n",
       "      <th>label</th>\n",
       "    </tr>\n",
       "  </thead>\n",
       "  <tbody>\n",
       "    <tr>\n",
       "      <th>0</th>\n",
       "      <td>[[0, 0, 0, 0, 0, 0, 0, 0, 0, 0, 0, 0, 0, 0, 0,...</td>\n",
       "      <td>digit_0</td>\n",
       "    </tr>\n",
       "    <tr>\n",
       "      <th>1</th>\n",
       "      <td>[[0, 0, 0, 0, 0, 0, 0, 0, 0, 0, 0, 0, 0, 0, 0,...</td>\n",
       "      <td>digit_0</td>\n",
       "    </tr>\n",
       "    <tr>\n",
       "      <th>2</th>\n",
       "      <td>[[0, 0, 0, 0, 0, 0, 0, 0, 0, 0, 0, 0, 0, 0, 0,...</td>\n",
       "      <td>digit_0</td>\n",
       "    </tr>\n",
       "    <tr>\n",
       "      <th>3</th>\n",
       "      <td>[[0, 0, 0, 0, 0, 0, 0, 0, 0, 0, 0, 0, 0, 0, 0,...</td>\n",
       "      <td>digit_0</td>\n",
       "    </tr>\n",
       "    <tr>\n",
       "      <th>4</th>\n",
       "      <td>[[0, 0, 0, 0, 0, 0, 0, 0, 0, 0, 0, 0, 0, 0, 0,...</td>\n",
       "      <td>digit_0</td>\n",
       "    </tr>\n",
       "  </tbody>\n",
       "</table>\n",
       "</div>"
      ],
      "text/plain": [
       "                                               image    label\n",
       "0  [[0, 0, 0, 0, 0, 0, 0, 0, 0, 0, 0, 0, 0, 0, 0,...  digit_0\n",
       "1  [[0, 0, 0, 0, 0, 0, 0, 0, 0, 0, 0, 0, 0, 0, 0,...  digit_0\n",
       "2  [[0, 0, 0, 0, 0, 0, 0, 0, 0, 0, 0, 0, 0, 0, 0,...  digit_0\n",
       "3  [[0, 0, 0, 0, 0, 0, 0, 0, 0, 0, 0, 0, 0, 0, 0,...  digit_0\n",
       "4  [[0, 0, 0, 0, 0, 0, 0, 0, 0, 0, 0, 0, 0, 0, 0,...  digit_0"
      ]
     },
     "execution_count": 22,
     "metadata": {},
     "output_type": "execute_result"
    }
   ],
   "source": [
    "cv_df.head()"
   ]
  },
  {
   "cell_type": "code",
   "execution_count": 23,
   "metadata": {},
   "outputs": [
    {
     "data": {
      "text/plain": [
       "(12750, 2)"
      ]
     },
     "execution_count": 23,
     "metadata": {},
     "output_type": "execute_result"
    }
   ],
   "source": [
    "cv_df.shape"
   ]
  },
  {
   "cell_type": "code",
   "execution_count": 38,
   "metadata": {},
   "outputs": [
    {
     "data": {
      "text/plain": [
       "image    [[0, 0, 0, 0, 0, 0, 0, 0, 0, 0, 0, 0, 0, 0, 0,...\n",
       "label                                              digit_0\n",
       "Name: 18, dtype: object"
      ]
     },
     "execution_count": 38,
     "metadata": {},
     "output_type": "execute_result"
    }
   ],
   "source": [
    "cv_df.iloc[18]"
   ]
  },
  {
   "cell_type": "code",
   "execution_count": 53,
   "metadata": {},
   "outputs": [
    {
     "data": {
      "text/plain": [
       "(1, 1024)"
      ]
     },
     "execution_count": 53,
     "metadata": {},
     "output_type": "execute_result"
    },
    {
     "data": {
      "text/plain": [
       "42.6005859375"
      ]
     },
     "execution_count": 53,
     "metadata": {},
     "output_type": "execute_result"
    }
   ],
   "source": [
    "cv_df.iloc[18][0].shape\n",
    "np.mean(cv_df.iloc[18][0])"
   ]
  },
  {
   "cell_type": "code",
   "execution_count": 43,
   "metadata": {},
   "outputs": [],
   "source": [
    "filtered_image = (cv_df['image'].iloc[18]).reshape((32,32))\n",
    "showImg(filtered_image)"
   ]
  },
  {
   "cell_type": "code",
   "execution_count": 45,
   "metadata": {},
   "outputs": [
    {
     "data": {
      "text/plain": [
       "'digit_0'"
      ]
     },
     "execution_count": 45,
     "metadata": {},
     "output_type": "execute_result"
    }
   ],
   "source": [
    "cv_df['label'].iloc[18]"
   ]
  },
  {
   "cell_type": "code",
   "execution_count": 98,
   "metadata": {},
   "outputs": [],
   "source": [
    "\n",
    "import numpy as np\n",
    "import pandas as pd\n",
    "import matplotlib.pyplot as plt\n",
    "from datetime import datetime\n",
    "from scipy.stats import norm\n",
    "from scipy.stats import multivariate_normal as mvn\n",
    "from sklearn.utils import shuffle\n",
    "\n",
    "from collections import defaultdict\n",
    "from builtins import range, input"
   ]
  },
  {
   "cell_type": "code",
   "execution_count": 102,
   "metadata": {},
   "outputs": [],
   "source": [
    "\n",
    "def get_data(dataframe, limit=None):\n",
    "    \n",
    "    dataframe = shuffle(dataframe)\n",
    "    image_data = np.array(dataframe['image'].values)\n",
    "    image_data = np.array(list(map(lambda x: x[0], image_data)))\n",
    "    X = image_data / 255.0 # data is from 0..255\n",
    "    Y = cv_df['label'].values\n",
    "    if limit is not None:\n",
    "        X, Y = X[:limit], Y[:limit]\n",
    "    return X, Y\n"
   ]
  },
  {
   "cell_type": "code",
   "execution_count": 107,
   "metadata": {},
   "outputs": [],
   "source": [
    "X,Y = get_data(cv_df)"
   ]
  },
  {
   "cell_type": "code",
   "execution_count": 109,
   "metadata": {},
   "outputs": [
    {
     "data": {
      "text/plain": [
       "(12750, 1024)"
      ]
     },
     "execution_count": 109,
     "metadata": {},
     "output_type": "execute_result"
    },
    {
     "data": {
      "text/plain": [
       "(12750,)"
      ]
     },
     "execution_count": 109,
     "metadata": {},
     "output_type": "execute_result"
    }
   ],
   "source": [
    "X.shape\n",
    "Y.shape"
   ]
  },
  {
   "cell_type": "code",
   "execution_count": null,
   "metadata": {},
   "outputs": [],
   "source": []
  }
 ],
 "metadata": {
  "kernelspec": {
   "display_name": "Python 3",
   "language": "python",
   "name": "python3"
  },
  "language_info": {
   "codemirror_mode": {
    "name": "ipython",
    "version": 3
   },
   "file_extension": ".py",
   "mimetype": "text/x-python",
   "name": "python",
   "nbconvert_exporter": "python",
   "pygments_lexer": "ipython3",
   "version": "3.7.6"
  }
 },
 "nbformat": 4,
 "nbformat_minor": 2
}
