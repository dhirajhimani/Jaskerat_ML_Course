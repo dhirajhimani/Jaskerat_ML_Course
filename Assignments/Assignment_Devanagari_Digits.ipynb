{
 "cells": [
  {
   "cell_type": "markdown",
   "metadata": {},
   "source": [
    "# Distribute Data for Crossvalidation\n",
    "\n",
    "## Things To Do:-\n",
    "\n",
    "<ol>\n",
    "    <li>Part 1</li>\n",
    "    <li>Extract Zip File, Parent Folder would contain Train and Test folder</li>\n",
    "    <li>Create a new folder crossvalidation</li>\n",
    "    <li>Train Folder contains 46 subfolders and 1700 Images, Extract 25% of images from the train folder to crossvalidation</li>\n",
    "    <li>Part 2</li>\n",
    "    <li>Create a Dataframe from all th files in the Train, Each Image is 32 * 32, we need to create a row vector 1 * 1024 for each row, </li>\n",
    "    <li>Add a numbered label to decide the category in which the row falls</li>\n",
    "    <li>So final row would be 1 * 1025 and rows would be 46*1275, 46 folders and 1275 files in each</li>\n",
    "    <li>Final size of Dataframe would be 58650 * 1025</li>\n",
    "    <li>To final test the accuracy random pick any row of dataframe and check the image is of correct label</li>\n",
    "</ol>\n",
    "\n"
   ]
  },
  {
   "cell_type": "code",
   "execution_count": 1,
   "metadata": {},
   "outputs": [],
   "source": [
    "import pandas as pd\n",
    "import numpy as np\n",
    "\n",
    "from zipfile import ZipFile \n",
    "\n",
    "import os.path\n",
    "from os import path\n",
    "import shutil"
   ]
  },
  {
   "cell_type": "code",
   "execution_count": 2,
   "metadata": {},
   "outputs": [],
   "source": [
    "# specifying the zip file name \n",
    "zip_file_name = \"../data/DevanagariHandwrittenDigitsDataset.zip\"\n",
    "\n",
    "zip_folder_name = \"../data/DevanagariHandwrittenDigitsDataset\"\n",
    "\n",
    "train_folder_name = \"../data/DevanagariHandwrittenDigitsDataset/Train\"\n",
    "\n",
    "crossvalidation_folder_name = \"../data/DevanagariHandwrittenDigitsDataset/crossvalidation\"\n",
    "\n",
    "zip_extract_location = \"../data/\"\n",
    "\n",
    "percentage_of_files_to_extract = .25\n",
    "\n",
    "sample_crossvalidation_file = crossvalidation_folder_name + \"/digit_3/12595.png\""
   ]
  },
  {
   "cell_type": "code",
   "execution_count": 3,
   "metadata": {},
   "outputs": [
    {
     "name": "stdout",
     "output_type": "stream",
     "text": [
      "../data/DevanagariHandwrittenDigitsDataset Exists, Already Extracted\n"
     ]
    }
   ],
   "source": [
    "# Extract Zip file if we haven't extracted it yet\n",
    "\n",
    "# Commented for safety\n",
    "#if path.exists(zip_folder_name):\n",
    "#    shutil.rmtree(zip_folder_name)\n",
    "\n",
    "if not path.exists(zip_folder_name):\n",
    "    \n",
    "    # opening the zip file in READ mode \n",
    "    with ZipFile(zip_file_name, 'r') as zip: \n",
    "        \n",
    "        # printing all the contents of the zip file \n",
    "        #zip.printdir() \n",
    "\n",
    "        # extracting all the files \n",
    "        print('Extracting all the files now...') \n",
    "        zip.extractall(path=zip_extract_location) \n",
    "        print('Done!') \n",
    "else:\n",
    "    print(zip_folder_name + \" Exists, Already Extracted\")\n"
   ]
  },
  {
   "cell_type": "code",
   "execution_count": 4,
   "metadata": {},
   "outputs": [
    {
     "name": "stdout",
     "output_type": "stream",
     "text": [
      "/Users/agaxmp04/Documents/JupyterNotebook/Jaskerat_ML_Course/Assignments\n"
     ]
    }
   ],
   "source": [
    "print(os.getcwd())"
   ]
  },
  {
   "cell_type": "code",
   "execution_count": 5,
   "metadata": {},
   "outputs": [
    {
     "name": "stdout",
     "output_type": "stream",
     "text": [
      "Creation of the directory <module 'posixpath' from '/usr/local/Cellar/python/3.7.6_1/Frameworks/Python.framework/Versions/3.7/lib/python3.7/posixpath.py'> failed\n"
     ]
    }
   ],
   "source": [
    "# define the name of the Crossvalidation directory to be created\n",
    "crossvalidationpath = os.getcwd() + \"/\" + zip_folder_name + \"/\" + \"crossvalidation\"\n",
    "\n",
    "try:\n",
    "    os.mkdir(crossvalidationpath)\n",
    "except OSError:\n",
    "    # if the folder is already there, it would fail\n",
    "    print (\"Creation of the directory %s failed\" % path)\n",
    "else:\n",
    "    print (\"Successfully created the directory %s \" % path)"
   ]
  },
  {
   "cell_type": "code",
   "execution_count": 6,
   "metadata": {},
   "outputs": [
    {
     "name": "stdout",
     "output_type": "stream",
     "text": [
      "Already moved\n"
     ]
    }
   ],
   "source": [
    "# Move 25% of files from Train to Crossvalidation folder\n",
    "\n",
    "if not path.exists(sample_crossvalidation_file):\n",
    "    \n",
    "    for dirpath, dirnames, filenames in os.walk(train_folder_name):\n",
    "        if len(filenames) != 0:\n",
    "            #print(dirpath)\n",
    "            #print(dirnames)\n",
    "            #print(filenames)\n",
    "            destination = crossvalidation_folder_name + \"/\" + str(dirpath.split(sep='/').pop())\n",
    "\n",
    "            if not path.exists(destination):\n",
    "                os.mkdir(destination)\n",
    "\n",
    "            files_to_be_moved = int(len(filenames) * percentage_of_files_to_extract)\n",
    "            #print(destination)\n",
    "            #print(files_to_be_moved)\n",
    "            for i in range(files_to_be_moved):\n",
    "                src = dirpath + \"/\" + filenames[i]\n",
    "                dest = destination + \"/\" + filenames[i]\n",
    "                # do debug here, is it working\n",
    "                shutil.move(src = src, dst = destination);\n",
    "else:\n",
    "    print(\"Already moved\")\n"
   ]
  },
  {
   "cell_type": "markdown",
   "metadata": {},
   "source": [
    "# Part 2"
   ]
  },
  {
   "cell_type": "code",
   "execution_count": 7,
   "metadata": {},
   "outputs": [],
   "source": [
    "import imageio\n",
    "import visvis as vv"
   ]
  },
  {
   "cell_type": "code",
   "execution_count": 8,
   "metadata": {},
   "outputs": [],
   "source": [
    "im = imageio.imread(str(sample_crossvalidation_file))"
   ]
  },
  {
   "cell_type": "code",
   "execution_count": 9,
   "metadata": {},
   "outputs": [
    {
     "data": {
      "text/plain": [
       "(32, 32)"
      ]
     },
     "execution_count": 9,
     "metadata": {},
     "output_type": "execute_result"
    }
   ],
   "source": [
    "im.shape"
   ]
  },
  {
   "cell_type": "code",
   "execution_count": 10,
   "metadata": {},
   "outputs": [],
   "source": [
    "df = pd.DataFrame(data=im)"
   ]
  },
  {
   "cell_type": "code",
   "execution_count": 11,
   "metadata": {},
   "outputs": [],
   "source": [
    "df.to_csv(r'export_df.csv',index = None, header=True)"
   ]
  },
  {
   "cell_type": "code",
   "execution_count": 12,
   "metadata": {},
   "outputs": [],
   "source": [
    "def showImg(image):\n",
    "\n",
    "    # Create figure and make it wider than the default\n",
    "    fig = vv.figure()\n",
    "    #fig.position.w = 700\n",
    "\n",
    "    # Create first axes\n",
    "    #a1 = vv.subplot(121)\n",
    "\n",
    "    # Display an image\n",
    "    texture2d = vv.imshow(image)\n",
    "    texture2d.interpolate = True # if False the pixels are visible when zooming in\n",
    "\n",
    "    # Enter main loop\n",
    "    app = vv.use() # let visvis chose a backend for me\n",
    "    app.Run()"
   ]
  },
  {
   "cell_type": "code",
   "execution_count": 13,
   "metadata": {},
   "outputs": [],
   "source": [
    "#showImg(im)"
   ]
  },
  {
   "cell_type": "code",
   "execution_count": 14,
   "metadata": {},
   "outputs": [],
   "source": [
    "imr = im.reshape((1,1024))"
   ]
  },
  {
   "cell_type": "code",
   "execution_count": 15,
   "metadata": {},
   "outputs": [
    {
     "name": "stdout",
     "output_type": "stream",
     "text": [
      "(1, 1024)\n",
      "[[ 0  0  0 ...  0  0 34]]\n",
      "(1, 1025)\n",
      "(1, 1024)\n",
      "[[34]]\n",
      "34\n"
     ]
    }
   ],
   "source": [
    "print(imr.shape)\n",
    "\n",
    "np_im = np.array(imr)\n",
    "im_im2 = np.append(np_im, [[34]], axis=1)\n",
    "\n",
    "print(im_im2)\n",
    "print(im_im2.shape)\n",
    "\n",
    "print(im_im2[:,:-1].shape)\n",
    "#print(im_im2[:,:-1].reshape((32,32)))\n",
    "#im_im3 = im_im2[:,:-1].reshape((32,32))\n",
    "\n",
    "# which category added\n",
    "print(im_im2[:,-1:])\n",
    "print(im_im2[:,-1:][0][0])"
   ]
  },
  {
   "cell_type": "code",
   "execution_count": 16,
   "metadata": {},
   "outputs": [],
   "source": [
    "def getImageFromImgCat(np_image):\n",
    "    return np_image[:,:-1].reshape((32,32))"
   ]
  },
  {
   "cell_type": "code",
   "execution_count": 17,
   "metadata": {},
   "outputs": [],
   "source": [
    "def getCategoryFromImgCat(np_image):\n",
    "    return np_image[:,-1:][0][0]"
   ]
  },
  {
   "cell_type": "code",
   "execution_count": 18,
   "metadata": {},
   "outputs": [
    {
     "data": {
      "text/plain": [
       "'digit_3'"
      ]
     },
     "execution_count": 18,
     "metadata": {},
     "output_type": "execute_result"
    }
   ],
   "source": [
    "sample_crossvalidation_file.split(\"/\").pop(-2)"
   ]
  },
  {
   "cell_type": "code",
   "execution_count": 19,
   "metadata": {},
   "outputs": [],
   "source": [
    "count = 0\n",
    "images = []\n",
    "lables = []\n",
    "rows=[]\n",
    "for dirpath, dirnames, filenames in os.walk(train_folder_name):\n",
    "    #print(dirpath)\n",
    "    #print(len(filenames))\n",
    "    if len(filenames) != 0:\n",
    "        for i in range(len(filenames)):\n",
    "        #for i in range(2):\n",
    "            name = filenames[i]\n",
    "            directory_name = dirpath.split('/')[-1]\n",
    "            image_path = src = dirpath + \"/\" + name\n",
    "            image = imageio.imread(str(image_path))\n",
    "            image = image.reshape((1,1024))\n",
    "            np_image = np.array(image)\n",
    "            #np_image = np.append(np_image, [[count]], axis=1)\n",
    "            #cv_df.loc[i + count*2] = [np_image, directory_name]\n",
    "            \n",
    "            #cv_df = cv_df.append({'Image_Category':np_image, 'Category':directory_name}, ignore_index=True)\n",
    "            #images.append(np_image)\n",
    "            #lables.append(directory_name)\n",
    "            rows.append([np_image, directory_name])\n",
    "            #print(directory_name)\n",
    "            #print(image_path)\n",
    "        count += 1"
   ]
  },
  {
   "cell_type": "code",
   "execution_count": 20,
   "metadata": {},
   "outputs": [],
   "source": [
    "cv_df = pd.DataFrame(data=rows, columns=['image', 'label'])"
   ]
  },
  {
   "cell_type": "code",
   "execution_count": 21,
   "metadata": {},
   "outputs": [],
   "source": [
    "cv_df.to_csv(r'crossvalidation_dataframe.csv',index = None, header=True)"
   ]
  },
  {
   "cell_type": "code",
   "execution_count": 22,
   "metadata": {},
   "outputs": [
    {
     "data": {
      "text/html": [
       "<div>\n",
       "<style scoped>\n",
       "    .dataframe tbody tr th:only-of-type {\n",
       "        vertical-align: middle;\n",
       "    }\n",
       "\n",
       "    .dataframe tbody tr th {\n",
       "        vertical-align: top;\n",
       "    }\n",
       "\n",
       "    .dataframe thead th {\n",
       "        text-align: right;\n",
       "    }\n",
       "</style>\n",
       "<table border=\"1\" class=\"dataframe\">\n",
       "  <thead>\n",
       "    <tr style=\"text-align: right;\">\n",
       "      <th></th>\n",
       "      <th>image</th>\n",
       "      <th>label</th>\n",
       "    </tr>\n",
       "  </thead>\n",
       "  <tbody>\n",
       "    <tr>\n",
       "      <th>0</th>\n",
       "      <td>[[0, 0, 0, 0, 0, 0, 0, 0, 0, 0, 0, 0, 0, 0, 0,...</td>\n",
       "      <td>digit_0</td>\n",
       "    </tr>\n",
       "    <tr>\n",
       "      <th>1</th>\n",
       "      <td>[[0, 0, 0, 0, 0, 0, 0, 0, 0, 0, 0, 0, 0, 0, 0,...</td>\n",
       "      <td>digit_0</td>\n",
       "    </tr>\n",
       "    <tr>\n",
       "      <th>2</th>\n",
       "      <td>[[0, 0, 0, 0, 0, 0, 0, 0, 0, 0, 0, 0, 0, 0, 0,...</td>\n",
       "      <td>digit_0</td>\n",
       "    </tr>\n",
       "    <tr>\n",
       "      <th>3</th>\n",
       "      <td>[[0, 0, 0, 0, 0, 0, 0, 0, 0, 0, 0, 0, 0, 0, 0,...</td>\n",
       "      <td>digit_0</td>\n",
       "    </tr>\n",
       "    <tr>\n",
       "      <th>4</th>\n",
       "      <td>[[0, 0, 0, 0, 0, 0, 0, 0, 0, 0, 0, 0, 0, 0, 0,...</td>\n",
       "      <td>digit_0</td>\n",
       "    </tr>\n",
       "  </tbody>\n",
       "</table>\n",
       "</div>"
      ],
      "text/plain": [
       "                                               image    label\n",
       "0  [[0, 0, 0, 0, 0, 0, 0, 0, 0, 0, 0, 0, 0, 0, 0,...  digit_0\n",
       "1  [[0, 0, 0, 0, 0, 0, 0, 0, 0, 0, 0, 0, 0, 0, 0,...  digit_0\n",
       "2  [[0, 0, 0, 0, 0, 0, 0, 0, 0, 0, 0, 0, 0, 0, 0,...  digit_0\n",
       "3  [[0, 0, 0, 0, 0, 0, 0, 0, 0, 0, 0, 0, 0, 0, 0,...  digit_0\n",
       "4  [[0, 0, 0, 0, 0, 0, 0, 0, 0, 0, 0, 0, 0, 0, 0,...  digit_0"
      ]
     },
     "execution_count": 22,
     "metadata": {},
     "output_type": "execute_result"
    }
   ],
   "source": [
    "cv_df.head()"
   ]
  },
  {
   "cell_type": "code",
   "execution_count": 23,
   "metadata": {},
   "outputs": [
    {
     "data": {
      "text/plain": [
       "(12750, 2)"
      ]
     },
     "execution_count": 23,
     "metadata": {},
     "output_type": "execute_result"
    }
   ],
   "source": [
    "cv_df.shape"
   ]
  },
  {
   "cell_type": "code",
   "execution_count": 24,
   "metadata": {},
   "outputs": [
    {
     "data": {
      "text/plain": [
       "image    [[0, 0, 0, 0, 0, 0, 0, 0, 0, 0, 0, 0, 0, 0, 0,...\n",
       "label                                              digit_0\n",
       "Name: 18, dtype: object"
      ]
     },
     "execution_count": 24,
     "metadata": {},
     "output_type": "execute_result"
    }
   ],
   "source": [
    "cv_df.iloc[18]"
   ]
  },
  {
   "cell_type": "code",
   "execution_count": 25,
   "metadata": {},
   "outputs": [
    {
     "data": {
      "text/plain": [
       "(1, 1024)"
      ]
     },
     "execution_count": 25,
     "metadata": {},
     "output_type": "execute_result"
    },
    {
     "data": {
      "text/plain": [
       "42.6005859375"
      ]
     },
     "execution_count": 25,
     "metadata": {},
     "output_type": "execute_result"
    }
   ],
   "source": [
    "cv_df.iloc[18][0].shape\n",
    "np.mean(cv_df.iloc[18][0])"
   ]
  },
  {
   "cell_type": "code",
   "execution_count": 26,
   "metadata": {},
   "outputs": [],
   "source": [
    "#filtered_image = (cv_df['image'].iloc[18]).reshape((32,32))\n",
    "#showImg(filtered_image)"
   ]
  },
  {
   "cell_type": "code",
   "execution_count": 27,
   "metadata": {},
   "outputs": [
    {
     "data": {
      "text/plain": [
       "'digit_0'"
      ]
     },
     "execution_count": 27,
     "metadata": {},
     "output_type": "execute_result"
    }
   ],
   "source": [
    "cv_df['label'].iloc[18]"
   ]
  },
  {
   "cell_type": "code",
   "execution_count": 28,
   "metadata": {},
   "outputs": [],
   "source": [
    "\n",
    "import numpy as np\n",
    "import pandas as pd\n",
    "import matplotlib.pyplot as plt\n",
    "from datetime import datetime\n",
    "from scipy.stats import norm\n",
    "from scipy.stats import multivariate_normal as mvn\n",
    "from sklearn.utils import shuffle\n",
    "\n",
    "from collections import defaultdict\n",
    "from builtins import range, input"
   ]
  },
  {
   "cell_type": "code",
   "execution_count": 29,
   "metadata": {},
   "outputs": [
    {
     "data": {
      "text/plain": [
       "{'divide': 'warn', 'over': 'warn', 'under': 'ignore', 'invalid': 'warn'}"
      ]
     },
     "execution_count": 29,
     "metadata": {},
     "output_type": "execute_result"
    }
   ],
   "source": [
    "np.seterr(invalid=\"raise\")"
   ]
  },
  {
   "cell_type": "code",
   "execution_count": 99,
   "metadata": {},
   "outputs": [],
   "source": [
    "from sklearn.model_selection import train_test_split\n",
    "def get_data(dataframe, limit=None):\n",
    "    \n",
    "    dataframe = shuffle(dataframe)\n",
    "    image_data = np.array(dataframe['image'].values)\n",
    "    image_data = np.array(list(map(lambda x: x[0], image_data)))\n",
    "    X = image_data / 255.0 # data is from 0..255\n",
    "    Y = cv_df['label'].values\n",
    "    if limit is not None:\n",
    "        X, Y = X[:limit], Y[:limit]\n",
    "    return X, Y\n"
   ]
  },
  {
   "cell_type": "code",
   "execution_count": 100,
   "metadata": {},
   "outputs": [],
   "source": [
    "X, Y = get_data(cv_df, 10000)\n",
    "#Ntrain = len(Y) // 2\n",
    "#Xtrain, Ytrain = X[:Ntrain], Y[:Ntrain]\n",
    "#Xtest, Ytest = X[Ntrain:], Y[Ntrain:]\n",
    "Xtrain, Xtest, Ytrain, Ytest = train_test_split(X, Y, test_size=0.2)\n"
   ]
  },
  {
   "cell_type": "code",
   "execution_count": 103,
   "metadata": {},
   "outputs": [
    {
     "data": {
      "text/plain": [
       "(10000, 1024)"
      ]
     },
     "execution_count": 103,
     "metadata": {},
     "output_type": "execute_result"
    },
    {
     "data": {
      "text/plain": [
       "(10000,)"
      ]
     },
     "execution_count": 103,
     "metadata": {},
     "output_type": "execute_result"
    },
    {
     "data": {
      "text/plain": [
       "(8000, 1024)"
      ]
     },
     "execution_count": 103,
     "metadata": {},
     "output_type": "execute_result"
    },
    {
     "data": {
      "text/plain": [
       "(2000, 1024)"
      ]
     },
     "execution_count": 103,
     "metadata": {},
     "output_type": "execute_result"
    },
    {
     "data": {
      "text/plain": [
       "(8000,)"
      ]
     },
     "execution_count": 103,
     "metadata": {},
     "output_type": "execute_result"
    },
    {
     "data": {
      "text/plain": [
       "(2000,)"
      ]
     },
     "execution_count": 103,
     "metadata": {},
     "output_type": "execute_result"
    }
   ],
   "source": [
    "X.shape\n",
    "Y.shape\n",
    "Xtrain.shape\n",
    "Xtest.shape\n",
    "Ytrain.shape\n",
    "Ytest.shape"
   ]
  },
  {
   "cell_type": "code",
   "execution_count": 104,
   "metadata": {},
   "outputs": [],
   "source": [
    "# We need the rows to be the Features, so either Transpose the X or make rowvar= False,\n",
    "# so that it could Transpose internally\n",
    "def getCovarianceMat(X, D, smoothing=1e-2):\n",
    "    cov_smooth = np.eye(D)*smoothing\n",
    "    #if not X:\n",
    "    #    return cov_smooth\n",
    "    \n",
    "    return np.cov(X.T) + cov_smooth"
   ]
  },
  {
   "cell_type": "code",
   "execution_count": 105,
   "metadata": {},
   "outputs": [],
   "source": [
    "def getNormalMean(X,D):\n",
    "    if len(X) == 0:\n",
    "        return np.random.rand(D, D)\n",
    "    else:\n",
    "        return X"
   ]
  },
  {
   "cell_type": "code",
   "execution_count": 106,
   "metadata": {},
   "outputs": [
    {
     "data": {
      "text/plain": [
       "(1024,)"
      ]
     },
     "execution_count": 106,
     "metadata": {},
     "output_type": "execute_result"
    },
    {
     "data": {
      "text/plain": [
       "(1024,)"
      ]
     },
     "execution_count": 106,
     "metadata": {},
     "output_type": "execute_result"
    },
    {
     "data": {
      "text/plain": [
       "(4, 4)"
      ]
     },
     "execution_count": 106,
     "metadata": {},
     "output_type": "execute_result"
    }
   ],
   "source": [
    "np.random.rand(X.shape[1]).shape\n",
    "np.array([.1]*X.shape[1]).shape\n",
    "\n",
    "D =4\n",
    "np.random.rand(D, D).shape"
   ]
  },
  {
   "cell_type": "code",
   "execution_count": 107,
   "metadata": {},
   "outputs": [
    {
     "data": {
      "text/plain": [
       "(1024,)"
      ]
     },
     "execution_count": 107,
     "metadata": {},
     "output_type": "execute_result"
    },
    {
     "data": {
      "text/plain": [
       "(1024,)"
      ]
     },
     "execution_count": 107,
     "metadata": {},
     "output_type": "execute_result"
    },
    {
     "data": {
      "text/plain": [
       "(1024, 1024)"
      ]
     },
     "execution_count": 107,
     "metadata": {},
     "output_type": "execute_result"
    }
   ],
   "source": [
    "arr = np.random.rand(X.shape[1])\n",
    "arr.shape\n",
    "getNormalMean(np.random.rand(X.shape[1]), 1024).shape\n",
    "getNormalMean([], 1024).shape"
   ]
  },
  {
   "cell_type": "code",
   "execution_count": 108,
   "metadata": {},
   "outputs": [],
   "source": [
    "class Bayes():\n",
    "    \n",
    "    def __init__(self, unique_classes):\n",
    "        \n",
    "        self.labels=unique_classes\n",
    "        \n",
    "    def fit(self, X, Y, smoothing=1e-2):\n",
    "        N, D = X.shape\n",
    "        self.gaussians = defaultdict(str)\n",
    "        self.priors = dict()\n",
    "        for c in self.labels:\n",
    "            current_x = X[Y == c]\n",
    "            #current_x = getNormalMean(current_x, D)\n",
    "            #print(current_x.shape)\n",
    "            if len(current_x) != 0:\n",
    "                self.gaussians[c] = {\n",
    "                    'mean': current_x.mean(axis=0),\n",
    "                    'var': getCovarianceMat(current_x, D, smoothing)\n",
    "                }\n",
    "                self.priors[c] = float(len(Y[Y == c]) + 1) / len(Y)\n",
    "\n",
    "    def score(self, X, Y):\n",
    "        #df = self.predict(X)\n",
    "        #P = np.argmax(df, axis=1)\n",
    "        Pre, keys = model.predict(Xtrain)\n",
    "        df = pd.DataFrame([[v] for k, v in Pre.items()], \n",
    "                   columns=['score'])\n",
    "        arr = df['score'].values\n",
    "        arr_len = arr.shape[0]\n",
    "        npar = arr[0]\n",
    "        for i in range(arr_len-1):\n",
    "            npar = np.vstack((npar, arr[i]))\n",
    "        P = np.argmax(npar, axis=0)\n",
    "        P = list(map(lambda x: keys[0][x], P))\n",
    "        #print(P)\n",
    "        return np.mean(P == Y)\n",
    "\n",
    "    def predict(self, X):\n",
    "        N, D = X.shape\n",
    "        K = len(self.labels)\n",
    "        #P = np.zeros((N, K))\n",
    "        P = defaultdict(str)\n",
    "        #df = pd.DataFrame() \n",
    "        keys = list(self.gaussians.keys())\n",
    "        print(keys)\n",
    "        for c in self.labels:\n",
    "            if c in keys:\n",
    "                mean = self.gaussians[c]['mean']\n",
    "                #print(f\"mean shape {mean.shape}\")\n",
    "                cov = self.gaussians[c]['var']\n",
    "                logpdf = mvn.logpdf(X, mean=mean, cov=cov)\n",
    "                prior = np.log(self.priors[c])\n",
    "                #P[:,c] = logpdf + np.log(self.priors[c])\n",
    "                num = logpdf + np.log(self.priors[c])\n",
    "                #argmax = np.argmax(P, axis=1)\n",
    "\n",
    "                #print(f\"logpdf.shape {logpdf.shape}\")\n",
    "                #print(f\"prior.shape {prior}\")\n",
    "                #print(f\"num.shape {num.shape}\")\n",
    "                P[c] = num\n",
    "        return (P,[keys])"
   ]
  },
  {
   "cell_type": "code",
   "execution_count": 109,
   "metadata": {},
   "outputs": [
    {
     "data": {
      "text/plain": [
       "{'digit_0',\n",
       " 'digit_1',\n",
       " 'digit_2',\n",
       " 'digit_3',\n",
       " 'digit_4',\n",
       " 'digit_5',\n",
       " 'digit_6',\n",
       " 'digit_7'}"
      ]
     },
     "execution_count": 109,
     "metadata": {},
     "output_type": "execute_result"
    }
   ],
   "source": [
    "set(Ytest)"
   ]
  },
  {
   "cell_type": "code",
   "execution_count": 110,
   "metadata": {},
   "outputs": [
    {
     "name": "stdout",
     "output_type": "stream",
     "text": [
      "Training time: 0:00:00.211885\n"
     ]
    }
   ],
   "source": [
    "\n",
    "model = Bayes(set(Y))\n",
    "t0 = datetime.now()\n",
    "model.fit(Xtrain, Ytrain)\n",
    "print(\"Training time:\", (datetime.now() - t0))\n"
   ]
  },
  {
   "cell_type": "code",
   "execution_count": 111,
   "metadata": {},
   "outputs": [
    {
     "name": "stdout",
     "output_type": "stream",
     "text": [
      "['digit_5', 'digit_2', 'digit_6', 'digit_3', 'digit_1', 'digit_0', 'digit_4', 'digit_7']\n"
     ]
    }
   ],
   "source": [
    "P,keys = model.predict(Xtrain)"
   ]
  },
  {
   "cell_type": "code",
   "execution_count": 112,
   "metadata": {},
   "outputs": [
    {
     "data": {
      "text/plain": [
       "defaultdict(str,\n",
       "            {'digit_5': array([844.20618677, 722.49207509, 538.55517318, ..., 824.95885737,\n",
       "                    574.00440708, 802.14245406]),\n",
       "             'digit_2': array([865.2465426 , 705.18054241, 760.65720236, ..., 837.2804802 ,\n",
       "                    592.58763336, 799.17631516]),\n",
       "             'digit_6': array([889.32524955, 702.09081538, 538.67413592, ..., 833.44640918,\n",
       "                    651.47134527, 816.77055072]),\n",
       "             'digit_3': array([860.93329453, 824.8634367 , 554.5851313 , ..., 830.15815662,\n",
       "                    622.37642503, 796.46893917]),\n",
       "             'digit_1': array([848.36996417, 689.94723249, 507.89819906, ..., 846.15054583,\n",
       "                    606.75796127, 831.57819349]),\n",
       "             'digit_0': array([843.98126372, 713.80781696, 516.61789166, ..., 842.52034338,\n",
       "                    611.23000378, 783.11535841]),\n",
       "             'digit_4': array([858.50512794, 722.44454062, 548.24979964, ..., 882.77419811,\n",
       "                    610.89288064, 812.64218925]),\n",
       "             'digit_7': array([868.25318588, 720.34873251, 513.05671901, ..., 813.1796513 ,\n",
       "                    819.36341154, 881.47483808])})"
      ]
     },
     "execution_count": 112,
     "metadata": {},
     "output_type": "execute_result"
    }
   ],
   "source": [
    "P"
   ]
  },
  {
   "cell_type": "code",
   "execution_count": 113,
   "metadata": {},
   "outputs": [
    {
     "data": {
      "text/plain": [
       "['digit_5',\n",
       " 'digit_2',\n",
       " 'digit_6',\n",
       " 'digit_3',\n",
       " 'digit_1',\n",
       " 'digit_0',\n",
       " 'digit_4',\n",
       " 'digit_7']"
      ]
     },
     "execution_count": 113,
     "metadata": {},
     "output_type": "execute_result"
    }
   ],
   "source": [
    "keys[0]"
   ]
  },
  {
   "cell_type": "code",
   "execution_count": 114,
   "metadata": {},
   "outputs": [
    {
     "data": {
      "text/html": [
       "<div>\n",
       "<style scoped>\n",
       "    .dataframe tbody tr th:only-of-type {\n",
       "        vertical-align: middle;\n",
       "    }\n",
       "\n",
       "    .dataframe tbody tr th {\n",
       "        vertical-align: top;\n",
       "    }\n",
       "\n",
       "    .dataframe thead th {\n",
       "        text-align: right;\n",
       "    }\n",
       "</style>\n",
       "<table border=\"1\" class=\"dataframe\">\n",
       "  <thead>\n",
       "    <tr style=\"text-align: right;\">\n",
       "      <th></th>\n",
       "      <th>key</th>\n",
       "      <th>score</th>\n",
       "    </tr>\n",
       "  </thead>\n",
       "  <tbody>\n",
       "    <tr>\n",
       "      <th>0</th>\n",
       "      <td>digit_5</td>\n",
       "      <td>[844.2061867689947, 722.4920750872016, 538.555...</td>\n",
       "    </tr>\n",
       "    <tr>\n",
       "      <th>1</th>\n",
       "      <td>digit_2</td>\n",
       "      <td>[865.2465425990546, 705.1805424084043, 760.657...</td>\n",
       "    </tr>\n",
       "    <tr>\n",
       "      <th>2</th>\n",
       "      <td>digit_6</td>\n",
       "      <td>[889.3252495508548, 702.090815379658, 538.6741...</td>\n",
       "    </tr>\n",
       "    <tr>\n",
       "      <th>3</th>\n",
       "      <td>digit_3</td>\n",
       "      <td>[860.9332945333506, 824.8634367037541, 554.585...</td>\n",
       "    </tr>\n",
       "    <tr>\n",
       "      <th>4</th>\n",
       "      <td>digit_1</td>\n",
       "      <td>[848.3699641675835, 689.9472324868003, 507.898...</td>\n",
       "    </tr>\n",
       "    <tr>\n",
       "      <th>5</th>\n",
       "      <td>digit_0</td>\n",
       "      <td>[843.9812637217125, 713.8078169567491, 516.617...</td>\n",
       "    </tr>\n",
       "    <tr>\n",
       "      <th>6</th>\n",
       "      <td>digit_4</td>\n",
       "      <td>[858.5051279394384, 722.4445406222768, 548.249...</td>\n",
       "    </tr>\n",
       "    <tr>\n",
       "      <th>7</th>\n",
       "      <td>digit_7</td>\n",
       "      <td>[868.253185879925, 720.3487325143368, 513.0567...</td>\n",
       "    </tr>\n",
       "  </tbody>\n",
       "</table>\n",
       "</div>"
      ],
      "text/plain": [
       "       key                                              score\n",
       "0  digit_5  [844.2061867689947, 722.4920750872016, 538.555...\n",
       "1  digit_2  [865.2465425990546, 705.1805424084043, 760.657...\n",
       "2  digit_6  [889.3252495508548, 702.090815379658, 538.6741...\n",
       "3  digit_3  [860.9332945333506, 824.8634367037541, 554.585...\n",
       "4  digit_1  [848.3699641675835, 689.9472324868003, 507.898...\n",
       "5  digit_0  [843.9812637217125, 713.8078169567491, 516.617...\n",
       "6  digit_4  [858.5051279394384, 722.4445406222768, 548.249...\n",
       "7  digit_7  [868.253185879925, 720.3487325143368, 513.0567..."
      ]
     },
     "execution_count": 114,
     "metadata": {},
     "output_type": "execute_result"
    }
   ],
   "source": [
    "df = pd.DataFrame([[k, v] for k, v in P.items()], \n",
    "                   columns=['key','score'])\n",
    "df"
   ]
  },
  {
   "cell_type": "code",
   "execution_count": 115,
   "metadata": {},
   "outputs": [],
   "source": [
    "arr = df['score'].values"
   ]
  },
  {
   "cell_type": "code",
   "execution_count": 118,
   "metadata": {},
   "outputs": [
    {
     "data": {
      "text/plain": [
       "(8, 8000)"
      ]
     },
     "execution_count": 118,
     "metadata": {},
     "output_type": "execute_result"
    },
    {
     "data": {
      "text/plain": [
       "array([3, 4, 2, ..., 7, 3, 5])"
      ]
     },
     "execution_count": 118,
     "metadata": {},
     "output_type": "execute_result"
    }
   ],
   "source": [
    "\n",
    "npar = np.array([])\n",
    "#arr.shape\n",
    "#arr[0].shape\n",
    "#npar = np.concatenate((arr[0], arr[1]))\n",
    "#npar = np.vstack((arr[0], arr[1]))\n",
    "#print(npar.shape)\n",
    "#print(np.argmax(npar, axis=0))\n",
    "arr_len = arr.shape[0]\n",
    "npar = arr[0]\n",
    "for i in range(arr_len-1):\n",
    "    npar = np.vstack((npar, arr[i]))\n",
    "    \n",
    "npar.shape\n",
    "args = np.argmax(npar, axis=0)\n",
    "args\n",
    "plist = list(map(lambda x: keys[0][x], args))"
   ]
  },
  {
   "cell_type": "code",
   "execution_count": 121,
   "metadata": {},
   "outputs": [
    {
     "data": {
      "text/plain": [
       "1135"
      ]
     },
     "execution_count": 121,
     "metadata": {},
     "output_type": "execute_result"
    }
   ],
   "source": [
    "np.sum(plist == Ytrain)"
   ]
  },
  {
   "cell_type": "code",
   "execution_count": 122,
   "metadata": {},
   "outputs": [
    {
     "name": "stdout",
     "output_type": "stream",
     "text": [
      "['digit_5', 'digit_2', 'digit_6', 'digit_3', 'digit_1', 'digit_0', 'digit_4', 'digit_7']\n",
      "Train accuracy: 0.141875\n",
      "Time to compute train accuracy: 0:00:03.446359 Train size: 8000\n",
      "['digit_5', 'digit_2', 'digit_6', 'digit_3', 'digit_1', 'digit_0', 'digit_4', 'digit_7']\n",
      "Test accuracy: 0.0\n",
      "Time to compute test accuracy: 0:00:03.477436 Test size: 2000\n"
     ]
    },
    {
     "name": "stderr",
     "output_type": "stream",
     "text": [
      "/usr/local/lib/python3.7/site-packages/ipykernel_launcher.py:36: FutureWarning: elementwise comparison failed; returning scalar instead, but in the future will perform elementwise comparison\n"
     ]
    }
   ],
   "source": [
    "\n",
    "t0 = datetime.now()\n",
    "print(\"Train accuracy:\", model.score(Xtrain, Ytrain))\n",
    "print(\"Time to compute train accuracy:\", (datetime.now() - t0), \"Train size:\", len(Ytrain))\n",
    "\n",
    "t0 = datetime.now()\n",
    "print(\"Test accuracy:\", model.score(Xtest, Ytest))\n",
    "print(\"Time to compute test accuracy:\", (datetime.now() - t0), \"Test size:\", len(Ytest))\n"
   ]
  },
  {
   "cell_type": "code",
   "execution_count": 123,
   "metadata": {},
   "outputs": [
    {
     "data": {
      "text/plain": [
       "<matplotlib.image.AxesImage at 0x12171ed90>"
      ]
     },
     "execution_count": 123,
     "metadata": {},
     "output_type": "execute_result"
    },
    {
     "data": {
      "text/plain": [
       "Text(0.5, 1.0, 'digit_5')"
      ]
     },
     "execution_count": 123,
     "metadata": {},
     "output_type": "execute_result"
    },
    {
     "data": {
      "image/png": "[encoded data removed]",
      "text/plain": [
       "<Figure size 432x288 with 1 Axes>"
      ]
     },
     "metadata": {
      "needs_background": "light"
     },
     "output_type": "display_data"
    },
    {
     "data": {
      "text/plain": [
       "<matplotlib.image.AxesImage at 0x1210472d0>"
      ]
     },
     "execution_count": 123,
     "metadata": {},
     "output_type": "execute_result"
    },
    {
     "data": {
      "text/plain": [
       "Text(0.5, 1.0, 'digit_2')"
      ]
     },
     "execution_count": 123,
     "metadata": {},
     "output_type": "execute_result"
    },
    {
     "data": {
      "image/png": "[encoded data removed]",
      "text/plain": [
       "<Figure size 432x288 with 1 Axes>"
      ]
     },
     "metadata": {
      "needs_background": "light"
     },
     "output_type": "display_data"
    },
    {
     "data": {
      "text/plain": [
       "<matplotlib.image.AxesImage at 0x1216e4710>"
      ]
     },
     "execution_count": 123,
     "metadata": {},
     "output_type": "execute_result"
    },
    {
     "data": {
      "text/plain": [
       "Text(0.5, 1.0, 'digit_6')"
      ]
     },
     "execution_count": 123,
     "metadata": {},
     "output_type": "execute_result"
    },
    {
     "data": {
      "image/png": "[encoded data removed]",
      "text/plain": [
       "<Figure size 432x288 with 1 Axes>"
      ]
     },
     "metadata": {
      "needs_background": "light"
     },
     "output_type": "display_data"
    },
    {
     "data": {
      "text/plain": [
       "<matplotlib.image.AxesImage at 0x1217e7e50>"
      ]
     },
     "execution_count": 123,
     "metadata": {},
     "output_type": "execute_result"
    },
    {
     "data": {
      "text/plain": [
       "Text(0.5, 1.0, 'digit_3')"
      ]
     },
     "execution_count": 123,
     "metadata": {},
     "output_type": "execute_result"
    },
    {
     "data": {
      "image/png": "[encoded data removed]",
      "text/plain": [
       "<Figure size 432x288 with 1 Axes>"
      ]
     },
     "metadata": {
      "needs_background": "light"
     },
     "output_type": "display_data"
    },
    {
     "data": {
      "text/plain": [
       "<matplotlib.image.AxesImage at 0x12185c510>"
      ]
     },
     "execution_count": 123,
     "metadata": {},
     "output_type": "execute_result"
    },
    {
     "data": {
      "text/plain": [
       "Text(0.5, 1.0, 'digit_1')"
      ]
     },
     "execution_count": 123,
     "metadata": {},
     "output_type": "execute_result"
    },
    {
     "data": {
      "image/png": "[encoded data removed]",
      "text/plain": [
       "<Figure size 432x288 with 1 Axes>"
      ]
     },
     "metadata": {
      "needs_background": "light"
     },
     "output_type": "display_data"
    },
    {
     "data": {
      "text/plain": [
       "<matplotlib.image.AxesImage at 0x121922d10>"
      ]
     },
     "execution_count": 123,
     "metadata": {},
     "output_type": "execute_result"
    },
    {
     "data": {
      "text/plain": [
       "Text(0.5, 1.0, 'digit_0')"
      ]
     },
     "execution_count": 123,
     "metadata": {},
     "output_type": "execute_result"
    },
    {
     "data": {
      "image/png": "[encoded data removed]",
      "text/plain": [
       "<Figure size 432x288 with 1 Axes>"
      ]
     },
     "metadata": {
      "needs_background": "light"
     },
     "output_type": "display_data"
    },
    {
     "data": {
      "text/plain": [
       "<matplotlib.image.AxesImage at 0x121a514d0>"
      ]
     },
     "execution_count": 123,
     "metadata": {},
     "output_type": "execute_result"
    },
    {
     "data": {
      "text/plain": [
       "Text(0.5, 1.0, 'digit_4')"
      ]
     },
     "execution_count": 123,
     "metadata": {},
     "output_type": "execute_result"
    },
    {
     "data": {
      "image/png": "[encoded data removed]",
      "text/plain": [
       "<Figure size 432x288 with 1 Axes>"
      ]
     },
     "metadata": {
      "needs_background": "light"
     },
     "output_type": "display_data"
    },
    {
     "data": {
      "text/plain": [
       "<matplotlib.image.AxesImage at 0x121b18b10>"
      ]
     },
     "execution_count": 123,
     "metadata": {},
     "output_type": "execute_result"
    },
    {
     "data": {
      "text/plain": [
       "Text(0.5, 1.0, 'digit_7')"
      ]
     },
     "execution_count": 123,
     "metadata": {},
     "output_type": "execute_result"
    },
    {
     "data": {
      "image/png": "[encoded data removed]",
      "text/plain": [
       "<Figure size 432x288 with 1 Axes>"
      ]
     },
     "metadata": {
      "needs_background": "light"
     },
     "output_type": "display_data"
    }
   ],
   "source": [
    "\n",
    "# plot the mean of each class\n",
    "for c in model.labels:\n",
    "    mean = model.gaussians[c]['mean']\n",
    "    cov = model.gaussians[c]['var']\n",
    "    plt.imshow(mean.reshape((32, 32)))\n",
    "    plt.title(c)\n",
    "    plt.show()"
   ]
  },
  {
   "cell_type": "code",
   "execution_count": 41,
   "metadata": {},
   "outputs": [],
   "source": [
    "gaussians = defaultdict(str)"
   ]
  },
  {
   "cell_type": "code",
   "execution_count": 42,
   "metadata": {},
   "outputs": [],
   "source": [
    "gaussians['asd'] = {\n",
    "    'mean':1,\n",
    "    'var':2\n",
    "}"
   ]
  },
  {
   "cell_type": "code",
   "execution_count": 43,
   "metadata": {},
   "outputs": [
    {
     "data": {
      "text/plain": [
       "defaultdict(str, {'asd': {'mean': 1, 'var': 2}})"
      ]
     },
     "execution_count": 43,
     "metadata": {},
     "output_type": "execute_result"
    }
   ],
   "source": [
    "gaussians"
   ]
  },
  {
   "cell_type": "code",
   "execution_count": 44,
   "metadata": {},
   "outputs": [
    {
     "data": {
      "text/plain": [
       "1"
      ]
     },
     "execution_count": 44,
     "metadata": {},
     "output_type": "execute_result"
    }
   ],
   "source": [
    "gaussians['asd']['mean']"
   ]
  },
  {
   "cell_type": "code",
   "execution_count": 52,
   "metadata": {},
   "outputs": [
    {
     "data": {
      "text/plain": [
       "True"
      ]
     },
     "execution_count": 52,
     "metadata": {},
     "output_type": "execute_result"
    }
   ],
   "source": [
    "'asd' in list(gaussians.keys())"
   ]
  },
  {
   "cell_type": "code",
   "execution_count": null,
   "metadata": {},
   "outputs": [],
   "source": []
  }
 ],
 "metadata": {
  "kernelspec": {
   "display_name": "Python 3",
   "language": "python",
   "name": "python3"
  },
  "language_info": {
   "codemirror_mode": {
    "name": "ipython",
    "version": 3
   },
   "file_extension": ".py",
   "mimetype": "text/x-python",
   "name": "python",
   "nbconvert_exporter": "python",
   "pygments_lexer": "ipython3",
   "version": "3.7.6"
  }
 },
 "nbformat": 4,
 "nbformat_minor": 2
}
