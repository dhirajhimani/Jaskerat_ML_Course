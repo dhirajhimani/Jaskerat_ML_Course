{
 "cells": [
  {
   "cell_type": "code",
   "execution_count": 1,
   "metadata": {},
   "outputs": [],
   "source": [
    "class Node:\n",
    "    \n",
    "    data = None\n",
    "    next_node_address = None\n",
    "    previous_node_address = None"
   ]
  },
  {
   "cell_type": "code",
   "execution_count": 2,
   "metadata": {},
   "outputs": [],
   "source": [
    "import numpy as np"
   ]
  },
  {
   "cell_type": "code",
   "execution_count": 3,
   "metadata": {},
   "outputs": [],
   "source": [
    "random_numbers = np.random.randint(low =78, high = 120, size=10)"
   ]
  },
  {
   "cell_type": "code",
   "execution_count": 4,
   "metadata": {},
   "outputs": [
    {
     "data": {
      "text/plain": [
       "array([114, 108,  89,  85,  81,  84, 113,  83, 116,  79])"
      ]
     },
     "execution_count": 4,
     "metadata": {},
     "output_type": "execute_result"
    }
   ],
   "source": [
    "random_numbers"
   ]
  },
  {
   "cell_type": "code",
   "execution_count": 5,
   "metadata": {},
   "outputs": [],
   "source": [
    "\n",
    "head = None\n",
    "tail = None"
   ]
  },
  {
   "cell_type": "code",
   "execution_count": 6,
   "metadata": {},
   "outputs": [],
   "source": [
    "def create_double_linked_list(node):\n",
    "    global head\n",
    "    global tail\n",
    "    if head == tail:\n",
    "        head = node\n",
    "        #print(\"1st\")\n",
    "        return\n",
    "    elif tail == None:\n",
    "        tail = node\n",
    "        head.next_node_address = tail\n",
    "        tail.previous_node_address = head\n",
    "        #print(\"2nd\")\n",
    "        return\n",
    "    \n",
    "    #print(\"remaining\")\n",
    "    tail.next_node_address = node\n",
    "    node.previous_node_address = tail\n",
    "    tail = node\n",
    "        "
   ]
  },
  {
   "cell_type": "code",
   "execution_count": 7,
   "metadata": {},
   "outputs": [],
   "source": [
    "for single_element in random_numbers:\n",
    "    node = Node()\n",
    "    node.data = single_element\n",
    "    #print(node.data)\n",
    "    create_double_linked_list(node)"
   ]
  },
  {
   "cell_type": "code",
   "execution_count": 8,
   "metadata": {},
   "outputs": [],
   "source": [
    "def print_double_linked_list_reverse(tl):\n",
    "    if(tl == None):\n",
    "        return\n",
    "    \n",
    "    print(tl.data, end =\" \")  \n",
    "\n",
    "    print_double_linked_list_reverse(tl.previous_node_address)"
   ]
  },
  {
   "cell_type": "code",
   "execution_count": 9,
   "metadata": {},
   "outputs": [
    {
     "name": "stdout",
     "output_type": "stream",
     "text": [
      "79 116 83 113 84 81 85 89 108 114 "
     ]
    }
   ],
   "source": [
    "print_double_linked_list_reverse(tail)"
   ]
  },
  {
   "cell_type": "code",
   "execution_count": 10,
   "metadata": {},
   "outputs": [],
   "source": [
    "def print_double_linked_list(hd):\n",
    "    if(hd == None):\n",
    "        return\n",
    "    \n",
    "    print(hd.data, end =\" \")  \n",
    "\n",
    "    print_double_linked_list(hd.next_node_address)"
   ]
  },
  {
   "cell_type": "code",
   "execution_count": 11,
   "metadata": {},
   "outputs": [
    {
     "name": "stdout",
     "output_type": "stream",
     "text": [
      "114 108 89 85 81 84 113 83 116 79 "
     ]
    }
   ],
   "source": [
    "print_double_linked_list(head)"
   ]
  },
  {
   "cell_type": "code",
   "execution_count": null,
   "metadata": {},
   "outputs": [],
   "source": []
  },
  {
   "cell_type": "code",
   "execution_count": null,
   "metadata": {},
   "outputs": [],
   "source": []
  }
 ],
 "metadata": {
  "kernelspec": {
   "display_name": "Python 3",
   "language": "python",
   "name": "python3"
  },
  "language_info": {
   "codemirror_mode": {
    "name": "ipython",
    "version": 3
   },
   "file_extension": ".py",
   "mimetype": "text/x-python",
   "name": "python",
   "nbconvert_exporter": "python",
   "pygments_lexer": "ipython3",
   "version": "3.7.5"
  }
 },
 "nbformat": 4,
 "nbformat_minor": 2
}
