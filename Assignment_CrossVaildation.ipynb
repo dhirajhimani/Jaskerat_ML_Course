{
 "cells": [
  {
   "cell_type": "markdown",
   "metadata": {},
   "source": [
    "# Distribute Data for Crossvalidation\n",
    "\n",
    "## Things To Do:-\n",
    "\n",
    "<ol>\n",
    "    <li>Part 1</li>\n",
    "    <li>Extract Zip File, Parent Folder would contain Train and Test folder</li>\n",
    "    <li>Create a new folder crossvalidation</li>\n",
    "    <li>Train Folder contains 46 subfolders and 1700 Images, Extract 25% of images from the train folder to crossvalidation</li>\n",
    "    <li>Part 2</li>\n",
    "    <li>Create a Dataframe from all th files in the Train, Each Image is 32 * 32, we need to create a row vector 1 * 1024 for each row, </li>\n",
    "    <li>Add a numbered label to decide the category in which the row falls</li>\n",
    "    <li>So final row would be 1 * 1025 and rows would be 46*1275, 46 folders and 1275 files in each</li>\n",
    "    <li>Final size of Dataframe would be 58650 * 1025</li>\n",
    "    <li>To final test the accuracy random pick any row of dataframe and check the image is of correct label</li>\n",
    "</ol>\n",
    "\n"
   ]
  },
  {
   "cell_type": "code",
   "execution_count": 1,
   "metadata": {},
   "outputs": [],
   "source": [
    "import pandas as pd\n",
    "import numpy as np\n",
    "\n",
    "from zipfile import ZipFile \n",
    "\n",
    "import os.path\n",
    "from os import path\n",
    "import shutil"
   ]
  },
  {
   "cell_type": "code",
   "execution_count": 2,
   "metadata": {},
   "outputs": [],
   "source": [
    "# specifying the zip file name \n",
    "zip_file_name = \"data/DevanagariHandwrittenCharacterDataset.zip\"\n",
    "\n",
    "zip_folder_name = \"data/DevanagariHandwrittenCharacterDataset\"\n",
    "\n",
    "train_folder_name = \"data/DevanagariHandwrittenCharacterDataset/Train\"\n",
    "\n",
    "crossvalidation_folder_name = \"data/DevanagariHandwrittenCharacterDataset/crossvalidation\"\n",
    "\n",
    "zip_extract_location = \"data/\"\n",
    "\n",
    "percentage_of_files_to_extract = .75\n",
    "\n",
    "sample_crossvalidation_file = crossvalidation_folder_name + \"/character_1_ka/1340.png\""
   ]
  },
  {
   "cell_type": "code",
   "execution_count": 3,
   "metadata": {},
   "outputs": [
    {
     "name": "stdout",
     "output_type": "stream",
     "text": [
      "data/DevanagariHandwrittenCharacterDataset Exists, Already Extracted\n"
     ]
    }
   ],
   "source": [
    "# Extract Zip file if we haven't extracted it yet\n",
    "\n",
    "# Commented for safety\n",
    "#if path.exists(zip_folder_name):\n",
    "#    shutil.rmtree(zip_folder_name)\n",
    "\n",
    "if not path.exists(zip_folder_name):\n",
    "    \n",
    "    # opening the zip file in READ mode \n",
    "    with ZipFile(zip_file_name, 'r') as zip: \n",
    "        \n",
    "        # printing all the contents of the zip file \n",
    "        #zip.printdir() \n",
    "\n",
    "        # extracting all the files \n",
    "        print('Extracting all the files now...') \n",
    "        zip.extractall(path=zip_extract_location) \n",
    "        print('Done!') \n",
    "else:\n",
    "    print(zip_folder_name + \" Exists, Already Extracted\")\n"
   ]
  },
  {
   "cell_type": "code",
   "execution_count": 4,
   "metadata": {},
   "outputs": [
    {
     "name": "stdout",
     "output_type": "stream",
     "text": [
      "/Users/agaxmp04/Documents/JupyterNotebook/Jaskerat_ML_Course\n"
     ]
    }
   ],
   "source": [
    "print(os.getcwd())"
   ]
  },
  {
   "cell_type": "code",
   "execution_count": 5,
   "metadata": {},
   "outputs": [
    {
     "name": "stdout",
     "output_type": "stream",
     "text": [
      "Creation of the directory <module 'posixpath' from '/usr/local/Cellar/python/3.7.6_1/Frameworks/Python.framework/Versions/3.7/lib/python3.7/posixpath.py'> failed\n"
     ]
    }
   ],
   "source": [
    "# define the name of the Crossvalidation directory to be created\n",
    "crossvalidationpath = os.getcwd() + \"/\" + zip_folder_name + \"/\" + \"crossvalidation\"\n",
    "\n",
    "try:\n",
    "    os.mkdir(crossvalidationpath)\n",
    "except OSError:\n",
    "    # if the folder is already there, it would fail\n",
    "    print (\"Creation of the directory %s failed\" % path)\n",
    "else:\n",
    "    print (\"Successfully created the directory %s \" % path)"
   ]
  },
  {
   "cell_type": "code",
   "execution_count": 6,
   "metadata": {},
   "outputs": [
    {
     "name": "stdout",
     "output_type": "stream",
     "text": [
      "Already moved\n"
     ]
    }
   ],
   "source": [
    "# Move 75% of files from Train to Crossvalidation folder\n",
    "\n",
    "if not path.exists(sample_crossvalidation_file):\n",
    "    \n",
    "    for dirpath, dirnames, filenames in os.walk(train_folder_name):\n",
    "        if len(filenames) != 0:\n",
    "            #print(dirpath)\n",
    "            #print(dirnames)\n",
    "            #print(filenames)\n",
    "            destination = crossvalidation_folder_name + \"/\" + str(dirpath.split(sep='/').pop())\n",
    "\n",
    "            if not path.exists(destination):\n",
    "                os.mkdir(destination)\n",
    "\n",
    "            files_to_be_moved = int(len(filenames) * percentage_of_files_to_extract)\n",
    "            #print(destination)\n",
    "            #print(files_to_be_moved)\n",
    "            for i in range(files_to_be_moved):\n",
    "                src = dirpath + \"/\" + filenames[i]\n",
    "                dest = destination + \"/\" + filenames[i]\n",
    "                shutil.move(src = src, dst = destination);\n",
    "else:\n",
    "    print(\"Already moved\")\n"
   ]
  },
  {
   "cell_type": "markdown",
   "metadata": {},
   "source": [
    "# Part 2"
   ]
  },
  {
   "cell_type": "code",
   "execution_count": 7,
   "metadata": {},
   "outputs": [],
   "source": [
    "import imageio\n",
    "import visvis as vv"
   ]
  },
  {
   "cell_type": "code",
   "execution_count": 8,
   "metadata": {},
   "outputs": [],
   "source": [
    "im = imageio.imread(str(sample_crossvalidation_file))"
   ]
  },
  {
   "cell_type": "code",
   "execution_count": 9,
   "metadata": {},
   "outputs": [
    {
     "data": {
      "text/plain": [
       "Array([[  0,   0,   0, ...,   0,   0,   0],\n",
       "       [  0,   0,   0, ...,   0,   0,   0],\n",
       "       [  0,   0, 114, ..., 230,   0,   0],\n",
       "       ...,\n",
       "       [  0,   0,   0, ...,   0,   0,   0],\n",
       "       [  0,   0,   0, ...,   0,   0,   0],\n",
       "       [  0,   0,   0, ...,   0,   0,   0]], dtype=uint8)"
      ]
     },
     "execution_count": 9,
     "metadata": {},
     "output_type": "execute_result"
    }
   ],
   "source": [
    "im"
   ]
  },
  {
   "cell_type": "code",
   "execution_count": 10,
   "metadata": {},
   "outputs": [],
   "source": [
    "imr = im.reshape((1,1024))"
   ]
  },
  {
   "cell_type": "code",
   "execution_count": 11,
   "metadata": {},
   "outputs": [
    {
     "name": "stdout",
     "output_type": "stream",
     "text": [
      "(1, 1024)\n",
      "(1, 1024)\n",
      "[[  0   0   0 ...   0   0   0]\n",
      " [  0   0   0 ...   0   0   0]\n",
      " [  0   0 114 ... 230   0   0]\n",
      " ...\n",
      " [  0   0   0 ...   0   0   0]\n",
      " [  0   0   0 ...   0   0   0]\n",
      " [  0   0   0 ...   0   0   0]]\n",
      "34\n"
     ]
    }
   ],
   "source": [
    "print(imr.shape)\n",
    "\n",
    "np_im = np.array(imr)\n",
    "im_im2 = np.append(np_im, [[34]], axis=1)\n",
    "print(im_im2[:,:-1].shape)\n",
    "print(im_im2[:,:-1].reshape((32,32)))\n",
    "im_im3 = im_im2[:,:-1].reshape((32,32))\n",
    "\n",
    "# which category added\n",
    "print(im_im2[:,-1:][0][0])"
   ]
  },
  {
   "cell_type": "code",
   "execution_count": 12,
   "metadata": {},
   "outputs": [],
   "source": [
    "def getImageFromImgCat(np_image):\n",
    "    return np_image[:,:-1].reshape((32,32))"
   ]
  },
  {
   "cell_type": "code",
   "execution_count": 13,
   "metadata": {},
   "outputs": [],
   "source": [
    "def getCategoryFromImgCat(np_image):\n",
    "    return np_image[:,-1:][0][0]"
   ]
  },
  {
   "cell_type": "code",
   "execution_count": 14,
   "metadata": {},
   "outputs": [
    {
     "data": {
      "text/plain": [
       "'character_1_ka'"
      ]
     },
     "execution_count": 14,
     "metadata": {},
     "output_type": "execute_result"
    }
   ],
   "source": [
    "sample_crossvalidation_file.split(\"/\").pop(-2)"
   ]
  },
  {
   "cell_type": "code",
   "execution_count": 23,
   "metadata": {},
   "outputs": [],
   "source": [
    "cv_df = pd.DataFrame(columns=['Image_Category', 'Category'])"
   ]
  },
  {
   "cell_type": "code",
   "execution_count": 24,
   "metadata": {},
   "outputs": [
    {
     "name": "stdout",
     "output_type": "stream",
     "text": [
      "data/DevanagariHandwrittenCharacterDataset/Train\n",
      "0\n",
      "data/DevanagariHandwrittenCharacterDataset/Train/character_10_yna\n",
      "425\n",
      "data/DevanagariHandwrittenCharacterDataset/Train/character_11_taamatar\n",
      "425\n",
      "data/DevanagariHandwrittenCharacterDataset/Train/character_12_thaa\n",
      "425\n",
      "data/DevanagariHandwrittenCharacterDataset/Train/character_13_daa\n",
      "425\n",
      "data/DevanagariHandwrittenCharacterDataset/Train/character_14_dhaa\n",
      "425\n",
      "data/DevanagariHandwrittenCharacterDataset/Train/character_15_adna\n",
      "425\n",
      "data/DevanagariHandwrittenCharacterDataset/Train/character_16_tabala\n",
      "425\n",
      "data/DevanagariHandwrittenCharacterDataset/Train/character_17_tha\n",
      "425\n",
      "data/DevanagariHandwrittenCharacterDataset/Train/character_18_da\n",
      "425\n",
      "data/DevanagariHandwrittenCharacterDataset/Train/character_19_dha\n",
      "425\n",
      "data/DevanagariHandwrittenCharacterDataset/Train/character_1_ka\n",
      "425\n",
      "data/DevanagariHandwrittenCharacterDataset/Train/character_20_na\n",
      "425\n",
      "data/DevanagariHandwrittenCharacterDataset/Train/character_21_pa\n",
      "425\n",
      "data/DevanagariHandwrittenCharacterDataset/Train/character_22_pha\n",
      "425\n",
      "data/DevanagariHandwrittenCharacterDataset/Train/character_23_ba\n",
      "425\n",
      "data/DevanagariHandwrittenCharacterDataset/Train/character_24_bha\n",
      "425\n",
      "data/DevanagariHandwrittenCharacterDataset/Train/character_25_ma\n",
      "425\n",
      "data/DevanagariHandwrittenCharacterDataset/Train/character_26_yaw\n",
      "425\n",
      "data/DevanagariHandwrittenCharacterDataset/Train/character_27_ra\n",
      "425\n",
      "data/DevanagariHandwrittenCharacterDataset/Train/character_28_la\n",
      "425\n",
      "data/DevanagariHandwrittenCharacterDataset/Train/character_29_waw\n",
      "425\n",
      "data/DevanagariHandwrittenCharacterDataset/Train/character_2_kha\n",
      "425\n",
      "data/DevanagariHandwrittenCharacterDataset/Train/character_30_motosaw\n",
      "425\n",
      "data/DevanagariHandwrittenCharacterDataset/Train/character_31_petchiryakha\n",
      "425\n",
      "data/DevanagariHandwrittenCharacterDataset/Train/character_32_patalosaw\n",
      "425\n",
      "data/DevanagariHandwrittenCharacterDataset/Train/character_33_ha\n",
      "425\n",
      "data/DevanagariHandwrittenCharacterDataset/Train/character_34_chhya\n",
      "425\n",
      "data/DevanagariHandwrittenCharacterDataset/Train/character_35_tra\n",
      "425\n",
      "data/DevanagariHandwrittenCharacterDataset/Train/character_36_gya\n",
      "425\n",
      "data/DevanagariHandwrittenCharacterDataset/Train/character_3_ga\n",
      "425\n",
      "data/DevanagariHandwrittenCharacterDataset/Train/character_4_gha\n",
      "425\n",
      "data/DevanagariHandwrittenCharacterDataset/Train/character_5_kna\n",
      "425\n",
      "data/DevanagariHandwrittenCharacterDataset/Train/character_6_cha\n",
      "425\n",
      "data/DevanagariHandwrittenCharacterDataset/Train/character_7_chha\n",
      "425\n",
      "data/DevanagariHandwrittenCharacterDataset/Train/character_8_ja\n",
      "425\n",
      "data/DevanagariHandwrittenCharacterDataset/Train/character_9_jha\n",
      "425\n",
      "data/DevanagariHandwrittenCharacterDataset/Train/digit_0\n",
      "425\n",
      "data/DevanagariHandwrittenCharacterDataset/Train/digit_1\n",
      "425\n",
      "data/DevanagariHandwrittenCharacterDataset/Train/digit_2\n",
      "425\n",
      "data/DevanagariHandwrittenCharacterDataset/Train/digit_3\n",
      "425\n",
      "data/DevanagariHandwrittenCharacterDataset/Train/digit_4\n",
      "425\n",
      "data/DevanagariHandwrittenCharacterDataset/Train/digit_5\n",
      "425\n",
      "data/DevanagariHandwrittenCharacterDataset/Train/digit_6\n",
      "425\n",
      "data/DevanagariHandwrittenCharacterDataset/Train/digit_7\n",
      "425\n",
      "data/DevanagariHandwrittenCharacterDataset/Train/digit_8\n",
      "425\n",
      "data/DevanagariHandwrittenCharacterDataset/Train/digit_9\n",
      "425\n"
     ]
    }
   ],
   "source": [
    "count = 0\n",
    "for dirpath, dirnames, filenames in os.walk(train_folder_name):\n",
    "    #print(dirpath)\n",
    "    #print(len(filenames))\n",
    "    if len(filenames) != 0:\n",
    "        for i in range(len(filenames)):\n",
    "        #for i in range(2):\n",
    "            name = filenames[i]\n",
    "            directory_name = dirpath.split('/')[-1]\n",
    "            image_path = src = dirpath + \"/\" + name\n",
    "            image = imageio.imread(str(image_path))\n",
    "            image = image.reshape((1,1024))\n",
    "            np_image = np.array(image)\n",
    "            np_image = np.append(np_image, [[count]], axis=1)\n",
    "            #cv_df.loc[i + count*2] = [np_image, directory_name]\n",
    "            cv_df = cv_df.append({'Image_Category':np_image, 'Category':directory_name}, ignore_index=True)\n",
    "            #print(directory_name)\n",
    "            #print(image_path)\n",
    "        count += 1"
   ]
  },
  {
   "cell_type": "code",
   "execution_count": 25,
   "metadata": {},
   "outputs": [
    {
     "data": {
      "text/html": [
       "<div>\n",
       "<style scoped>\n",
       "    .dataframe tbody tr th:only-of-type {\n",
       "        vertical-align: middle;\n",
       "    }\n",
       "\n",
       "    .dataframe tbody tr th {\n",
       "        vertical-align: top;\n",
       "    }\n",
       "\n",
       "    .dataframe thead th {\n",
       "        text-align: right;\n",
       "    }\n",
       "</style>\n",
       "<table border=\"1\" class=\"dataframe\">\n",
       "  <thead>\n",
       "    <tr style=\"text-align: right;\">\n",
       "      <th></th>\n",
       "      <th>Image_Category</th>\n",
       "      <th>Category</th>\n",
       "    </tr>\n",
       "  </thead>\n",
       "  <tbody>\n",
       "    <tr>\n",
       "      <th>0</th>\n",
       "      <td>[[0, 0, 0, 0, 0, 0, 0, 0, 0, 0, 0, 0, 0, 0, 0,...</td>\n",
       "      <td>character_10_yna</td>\n",
       "    </tr>\n",
       "    <tr>\n",
       "      <th>1</th>\n",
       "      <td>[[0, 0, 0, 0, 0, 0, 0, 0, 0, 0, 0, 0, 0, 0, 0,...</td>\n",
       "      <td>character_10_yna</td>\n",
       "    </tr>\n",
       "    <tr>\n",
       "      <th>2</th>\n",
       "      <td>[[0, 0, 0, 0, 0, 0, 0, 0, 0, 0, 0, 0, 0, 0, 0,...</td>\n",
       "      <td>character_10_yna</td>\n",
       "    </tr>\n",
       "    <tr>\n",
       "      <th>3</th>\n",
       "      <td>[[0, 0, 0, 0, 0, 0, 0, 0, 0, 0, 0, 0, 0, 0, 0,...</td>\n",
       "      <td>character_10_yna</td>\n",
       "    </tr>\n",
       "    <tr>\n",
       "      <th>4</th>\n",
       "      <td>[[0, 0, 0, 0, 0, 0, 0, 0, 0, 0, 0, 0, 0, 0, 0,...</td>\n",
       "      <td>character_10_yna</td>\n",
       "    </tr>\n",
       "    <tr>\n",
       "      <th>5</th>\n",
       "      <td>[[0, 0, 0, 0, 0, 0, 0, 0, 0, 0, 0, 0, 0, 0, 0,...</td>\n",
       "      <td>character_10_yna</td>\n",
       "    </tr>\n",
       "    <tr>\n",
       "      <th>6</th>\n",
       "      <td>[[0, 0, 0, 0, 0, 0, 0, 0, 0, 0, 0, 0, 0, 0, 0,...</td>\n",
       "      <td>character_10_yna</td>\n",
       "    </tr>\n",
       "    <tr>\n",
       "      <th>7</th>\n",
       "      <td>[[0, 0, 0, 0, 0, 0, 0, 0, 0, 0, 0, 0, 0, 0, 0,...</td>\n",
       "      <td>character_10_yna</td>\n",
       "    </tr>\n",
       "    <tr>\n",
       "      <th>8</th>\n",
       "      <td>[[0, 0, 0, 0, 0, 0, 0, 0, 0, 0, 0, 0, 0, 0, 0,...</td>\n",
       "      <td>character_10_yna</td>\n",
       "    </tr>\n",
       "    <tr>\n",
       "      <th>9</th>\n",
       "      <td>[[0, 0, 0, 0, 0, 0, 0, 0, 0, 0, 0, 0, 0, 0, 0,...</td>\n",
       "      <td>character_10_yna</td>\n",
       "    </tr>\n",
       "    <tr>\n",
       "      <th>10</th>\n",
       "      <td>[[0, 0, 0, 0, 0, 0, 0, 0, 0, 0, 0, 0, 0, 0, 0,...</td>\n",
       "      <td>character_10_yna</td>\n",
       "    </tr>\n",
       "    <tr>\n",
       "      <th>11</th>\n",
       "      <td>[[0, 0, 0, 0, 0, 0, 0, 0, 0, 0, 0, 0, 0, 0, 0,...</td>\n",
       "      <td>character_10_yna</td>\n",
       "    </tr>\n",
       "    <tr>\n",
       "      <th>12</th>\n",
       "      <td>[[0, 0, 0, 0, 0, 0, 0, 0, 0, 0, 0, 0, 0, 0, 0,...</td>\n",
       "      <td>character_10_yna</td>\n",
       "    </tr>\n",
       "    <tr>\n",
       "      <th>13</th>\n",
       "      <td>[[0, 0, 0, 0, 0, 0, 0, 0, 0, 0, 0, 0, 0, 0, 0,...</td>\n",
       "      <td>character_10_yna</td>\n",
       "    </tr>\n",
       "    <tr>\n",
       "      <th>14</th>\n",
       "      <td>[[0, 0, 0, 0, 0, 0, 0, 0, 0, 0, 0, 0, 0, 0, 0,...</td>\n",
       "      <td>character_10_yna</td>\n",
       "    </tr>\n",
       "    <tr>\n",
       "      <th>15</th>\n",
       "      <td>[[0, 0, 0, 0, 0, 0, 0, 0, 0, 0, 0, 0, 0, 0, 0,...</td>\n",
       "      <td>character_10_yna</td>\n",
       "    </tr>\n",
       "    <tr>\n",
       "      <th>16</th>\n",
       "      <td>[[0, 0, 0, 0, 0, 0, 0, 0, 0, 0, 0, 0, 0, 0, 0,...</td>\n",
       "      <td>character_10_yna</td>\n",
       "    </tr>\n",
       "    <tr>\n",
       "      <th>17</th>\n",
       "      <td>[[0, 0, 0, 0, 0, 0, 0, 0, 0, 0, 0, 0, 0, 0, 0,...</td>\n",
       "      <td>character_10_yna</td>\n",
       "    </tr>\n",
       "    <tr>\n",
       "      <th>18</th>\n",
       "      <td>[[0, 0, 0, 0, 0, 0, 0, 0, 0, 0, 0, 0, 0, 0, 0,...</td>\n",
       "      <td>character_10_yna</td>\n",
       "    </tr>\n",
       "    <tr>\n",
       "      <th>19</th>\n",
       "      <td>[[0, 0, 0, 0, 0, 0, 0, 0, 0, 0, 0, 0, 0, 0, 0,...</td>\n",
       "      <td>character_10_yna</td>\n",
       "    </tr>\n",
       "    <tr>\n",
       "      <th>20</th>\n",
       "      <td>[[0, 0, 0, 0, 0, 0, 0, 0, 0, 0, 0, 0, 0, 0, 0,...</td>\n",
       "      <td>character_10_yna</td>\n",
       "    </tr>\n",
       "    <tr>\n",
       "      <th>21</th>\n",
       "      <td>[[0, 0, 0, 0, 0, 0, 0, 0, 0, 0, 0, 0, 0, 0, 0,...</td>\n",
       "      <td>character_10_yna</td>\n",
       "    </tr>\n",
       "    <tr>\n",
       "      <th>22</th>\n",
       "      <td>[[0, 0, 0, 0, 0, 0, 0, 0, 0, 0, 0, 0, 0, 0, 0,...</td>\n",
       "      <td>character_10_yna</td>\n",
       "    </tr>\n",
       "    <tr>\n",
       "      <th>23</th>\n",
       "      <td>[[0, 0, 0, 0, 0, 0, 0, 0, 0, 0, 0, 0, 0, 0, 0,...</td>\n",
       "      <td>character_10_yna</td>\n",
       "    </tr>\n",
       "    <tr>\n",
       "      <th>24</th>\n",
       "      <td>[[0, 0, 0, 0, 0, 0, 0, 0, 0, 0, 0, 0, 0, 0, 0,...</td>\n",
       "      <td>character_10_yna</td>\n",
       "    </tr>\n",
       "    <tr>\n",
       "      <th>25</th>\n",
       "      <td>[[0, 0, 0, 0, 0, 0, 0, 0, 0, 0, 0, 0, 0, 0, 0,...</td>\n",
       "      <td>character_10_yna</td>\n",
       "    </tr>\n",
       "    <tr>\n",
       "      <th>26</th>\n",
       "      <td>[[0, 0, 0, 0, 0, 0, 0, 0, 0, 0, 0, 0, 0, 0, 0,...</td>\n",
       "      <td>character_10_yna</td>\n",
       "    </tr>\n",
       "    <tr>\n",
       "      <th>27</th>\n",
       "      <td>[[0, 0, 0, 0, 0, 0, 0, 0, 0, 0, 0, 0, 0, 0, 0,...</td>\n",
       "      <td>character_10_yna</td>\n",
       "    </tr>\n",
       "    <tr>\n",
       "      <th>28</th>\n",
       "      <td>[[0, 0, 0, 0, 0, 0, 0, 0, 0, 0, 0, 0, 0, 0, 0,...</td>\n",
       "      <td>character_10_yna</td>\n",
       "    </tr>\n",
       "    <tr>\n",
       "      <th>29</th>\n",
       "      <td>[[0, 0, 0, 0, 0, 0, 0, 0, 0, 0, 0, 0, 0, 0, 0,...</td>\n",
       "      <td>character_10_yna</td>\n",
       "    </tr>\n",
       "    <tr>\n",
       "      <th>...</th>\n",
       "      <td>...</td>\n",
       "      <td>...</td>\n",
       "    </tr>\n",
       "    <tr>\n",
       "      <th>19520</th>\n",
       "      <td>[[0, 0, 0, 0, 0, 0, 0, 0, 0, 0, 0, 0, 0, 0, 0,...</td>\n",
       "      <td>digit_9</td>\n",
       "    </tr>\n",
       "    <tr>\n",
       "      <th>19521</th>\n",
       "      <td>[[0, 0, 0, 0, 0, 0, 0, 0, 0, 0, 0, 0, 0, 0, 0,...</td>\n",
       "      <td>digit_9</td>\n",
       "    </tr>\n",
       "    <tr>\n",
       "      <th>19522</th>\n",
       "      <td>[[0, 0, 0, 0, 0, 0, 0, 0, 0, 0, 0, 0, 0, 0, 0,...</td>\n",
       "      <td>digit_9</td>\n",
       "    </tr>\n",
       "    <tr>\n",
       "      <th>19523</th>\n",
       "      <td>[[0, 0, 0, 0, 0, 0, 0, 0, 0, 0, 0, 0, 0, 0, 0,...</td>\n",
       "      <td>digit_9</td>\n",
       "    </tr>\n",
       "    <tr>\n",
       "      <th>19524</th>\n",
       "      <td>[[0, 0, 0, 0, 0, 0, 0, 0, 0, 0, 0, 0, 0, 0, 0,...</td>\n",
       "      <td>digit_9</td>\n",
       "    </tr>\n",
       "    <tr>\n",
       "      <th>19525</th>\n",
       "      <td>[[0, 0, 0, 0, 0, 0, 0, 0, 0, 0, 0, 0, 0, 0, 0,...</td>\n",
       "      <td>digit_9</td>\n",
       "    </tr>\n",
       "    <tr>\n",
       "      <th>19526</th>\n",
       "      <td>[[0, 0, 0, 0, 0, 0, 0, 0, 0, 0, 0, 0, 0, 0, 0,...</td>\n",
       "      <td>digit_9</td>\n",
       "    </tr>\n",
       "    <tr>\n",
       "      <th>19527</th>\n",
       "      <td>[[0, 0, 0, 0, 0, 0, 0, 0, 0, 0, 0, 0, 0, 0, 0,...</td>\n",
       "      <td>digit_9</td>\n",
       "    </tr>\n",
       "    <tr>\n",
       "      <th>19528</th>\n",
       "      <td>[[0, 0, 0, 0, 0, 0, 0, 0, 0, 0, 0, 0, 0, 0, 0,...</td>\n",
       "      <td>digit_9</td>\n",
       "    </tr>\n",
       "    <tr>\n",
       "      <th>19529</th>\n",
       "      <td>[[0, 0, 0, 0, 0, 0, 0, 0, 0, 0, 0, 0, 0, 0, 0,...</td>\n",
       "      <td>digit_9</td>\n",
       "    </tr>\n",
       "    <tr>\n",
       "      <th>19530</th>\n",
       "      <td>[[0, 0, 0, 0, 0, 0, 0, 0, 0, 0, 0, 0, 0, 0, 0,...</td>\n",
       "      <td>digit_9</td>\n",
       "    </tr>\n",
       "    <tr>\n",
       "      <th>19531</th>\n",
       "      <td>[[0, 0, 0, 0, 0, 0, 0, 0, 0, 0, 0, 0, 0, 0, 0,...</td>\n",
       "      <td>digit_9</td>\n",
       "    </tr>\n",
       "    <tr>\n",
       "      <th>19532</th>\n",
       "      <td>[[0, 0, 0, 0, 0, 0, 0, 0, 0, 0, 0, 0, 0, 0, 0,...</td>\n",
       "      <td>digit_9</td>\n",
       "    </tr>\n",
       "    <tr>\n",
       "      <th>19533</th>\n",
       "      <td>[[0, 0, 0, 0, 0, 0, 0, 0, 0, 0, 0, 0, 0, 0, 0,...</td>\n",
       "      <td>digit_9</td>\n",
       "    </tr>\n",
       "    <tr>\n",
       "      <th>19534</th>\n",
       "      <td>[[0, 0, 0, 0, 0, 0, 0, 0, 0, 0, 0, 0, 0, 0, 0,...</td>\n",
       "      <td>digit_9</td>\n",
       "    </tr>\n",
       "    <tr>\n",
       "      <th>19535</th>\n",
       "      <td>[[0, 0, 0, 0, 0, 0, 0, 0, 0, 0, 0, 0, 0, 0, 0,...</td>\n",
       "      <td>digit_9</td>\n",
       "    </tr>\n",
       "    <tr>\n",
       "      <th>19536</th>\n",
       "      <td>[[0, 0, 0, 0, 0, 0, 0, 0, 0, 0, 0, 0, 0, 0, 0,...</td>\n",
       "      <td>digit_9</td>\n",
       "    </tr>\n",
       "    <tr>\n",
       "      <th>19537</th>\n",
       "      <td>[[0, 0, 0, 0, 0, 0, 0, 0, 0, 0, 0, 0, 0, 0, 0,...</td>\n",
       "      <td>digit_9</td>\n",
       "    </tr>\n",
       "    <tr>\n",
       "      <th>19538</th>\n",
       "      <td>[[0, 0, 0, 0, 0, 0, 0, 0, 0, 0, 0, 0, 0, 0, 0,...</td>\n",
       "      <td>digit_9</td>\n",
       "    </tr>\n",
       "    <tr>\n",
       "      <th>19539</th>\n",
       "      <td>[[0, 0, 0, 0, 0, 0, 0, 0, 0, 0, 0, 0, 0, 0, 0,...</td>\n",
       "      <td>digit_9</td>\n",
       "    </tr>\n",
       "    <tr>\n",
       "      <th>19540</th>\n",
       "      <td>[[0, 0, 0, 0, 0, 0, 0, 0, 0, 0, 0, 0, 0, 0, 0,...</td>\n",
       "      <td>digit_9</td>\n",
       "    </tr>\n",
       "    <tr>\n",
       "      <th>19541</th>\n",
       "      <td>[[0, 0, 0, 0, 0, 0, 0, 0, 0, 0, 0, 0, 0, 0, 0,...</td>\n",
       "      <td>digit_9</td>\n",
       "    </tr>\n",
       "    <tr>\n",
       "      <th>19542</th>\n",
       "      <td>[[0, 0, 0, 0, 0, 0, 0, 0, 0, 0, 0, 0, 0, 0, 0,...</td>\n",
       "      <td>digit_9</td>\n",
       "    </tr>\n",
       "    <tr>\n",
       "      <th>19543</th>\n",
       "      <td>[[0, 0, 0, 0, 0, 0, 0, 0, 0, 0, 0, 0, 0, 0, 0,...</td>\n",
       "      <td>digit_9</td>\n",
       "    </tr>\n",
       "    <tr>\n",
       "      <th>19544</th>\n",
       "      <td>[[0, 0, 0, 0, 0, 0, 0, 0, 0, 0, 0, 0, 0, 0, 0,...</td>\n",
       "      <td>digit_9</td>\n",
       "    </tr>\n",
       "    <tr>\n",
       "      <th>19545</th>\n",
       "      <td>[[0, 0, 0, 0, 0, 0, 0, 0, 0, 0, 0, 0, 0, 0, 0,...</td>\n",
       "      <td>digit_9</td>\n",
       "    </tr>\n",
       "    <tr>\n",
       "      <th>19546</th>\n",
       "      <td>[[0, 0, 0, 0, 0, 0, 0, 0, 0, 0, 0, 0, 0, 0, 0,...</td>\n",
       "      <td>digit_9</td>\n",
       "    </tr>\n",
       "    <tr>\n",
       "      <th>19547</th>\n",
       "      <td>[[0, 0, 0, 0, 0, 0, 0, 0, 0, 0, 0, 0, 0, 0, 0,...</td>\n",
       "      <td>digit_9</td>\n",
       "    </tr>\n",
       "    <tr>\n",
       "      <th>19548</th>\n",
       "      <td>[[0, 0, 0, 0, 0, 0, 0, 0, 0, 0, 0, 0, 0, 0, 0,...</td>\n",
       "      <td>digit_9</td>\n",
       "    </tr>\n",
       "    <tr>\n",
       "      <th>19549</th>\n",
       "      <td>[[0, 0, 0, 0, 0, 0, 0, 0, 0, 0, 0, 0, 0, 0, 0,...</td>\n",
       "      <td>digit_9</td>\n",
       "    </tr>\n",
       "  </tbody>\n",
       "</table>\n",
       "<p>19550 rows × 2 columns</p>\n",
       "</div>"
      ],
      "text/plain": [
       "                                          Image_Category          Category\n",
       "0      [[0, 0, 0, 0, 0, 0, 0, 0, 0, 0, 0, 0, 0, 0, 0,...  character_10_yna\n",
       "1      [[0, 0, 0, 0, 0, 0, 0, 0, 0, 0, 0, 0, 0, 0, 0,...  character_10_yna\n",
       "2      [[0, 0, 0, 0, 0, 0, 0, 0, 0, 0, 0, 0, 0, 0, 0,...  character_10_yna\n",
       "3      [[0, 0, 0, 0, 0, 0, 0, 0, 0, 0, 0, 0, 0, 0, 0,...  character_10_yna\n",
       "4      [[0, 0, 0, 0, 0, 0, 0, 0, 0, 0, 0, 0, 0, 0, 0,...  character_10_yna\n",
       "...                                                  ...               ...\n",
       "19545  [[0, 0, 0, 0, 0, 0, 0, 0, 0, 0, 0, 0, 0, 0, 0,...           digit_9\n",
       "19546  [[0, 0, 0, 0, 0, 0, 0, 0, 0, 0, 0, 0, 0, 0, 0,...           digit_9\n",
       "19547  [[0, 0, 0, 0, 0, 0, 0, 0, 0, 0, 0, 0, 0, 0, 0,...           digit_9\n",
       "19548  [[0, 0, 0, 0, 0, 0, 0, 0, 0, 0, 0, 0, 0, 0, 0,...           digit_9\n",
       "19549  [[0, 0, 0, 0, 0, 0, 0, 0, 0, 0, 0, 0, 0, 0, 0,...           digit_9\n",
       "\n",
       "[19550 rows x 2 columns]"
      ]
     },
     "execution_count": 25,
     "metadata": {},
     "output_type": "execute_result"
    }
   ],
   "source": [
    "cv_df"
   ]
  },
  {
   "cell_type": "code",
   "execution_count": 18,
   "metadata": {},
   "outputs": [],
   "source": [
    "def showImg(image):\n",
    "\n",
    "    # Create figure and make it wider than the default\n",
    "    fig = vv.figure()\n",
    "    #fig.position.w = 700\n",
    "\n",
    "    # Create first axes\n",
    "    #a1 = vv.subplot(121)\n",
    "\n",
    "    # Display an image\n",
    "    texture2d = vv.imshow(image)\n",
    "    texture2d.interpolate = True # if False the pixels are visible when zooming in\n",
    "\n",
    "    # Enter main loop\n",
    "    app = vv.use() # let visvis chose a backend for me\n",
    "    app.Run()"
   ]
  },
  {
   "cell_type": "code",
   "execution_count": 19,
   "metadata": {},
   "outputs": [
    {
     "data": {
      "text/plain": [
       "Image_Category    [[0, 0, 0, 0, 0, 0, 0, 0, 0, 0, 0, 0, 0, 0, 0,...\n",
       "Category                                           character_19_dha\n",
       "Name: 18, dtype: object"
      ]
     },
     "execution_count": 19,
     "metadata": {},
     "output_type": "execute_result"
    }
   ],
   "source": [
    "cv_df.iloc[18]"
   ]
  },
  {
   "cell_type": "code",
   "execution_count": 25,
   "metadata": {},
   "outputs": [],
   "source": [
    "filtered_image = getImageFromImgCat(cv_df['Image_Category'].iloc[18])\n",
    "showImg(filtered_image)"
   ]
  },
  {
   "cell_type": "code",
   "execution_count": 24,
   "metadata": {},
   "outputs": [
    {
     "data": {
      "text/plain": [
       "9"
      ]
     },
     "execution_count": 24,
     "metadata": {},
     "output_type": "execute_result"
    }
   ],
   "source": [
    "getCategoryFromImgCat(cv_df['Image_Category'].iloc[18])"
   ]
  },
  {
   "cell_type": "code",
   "execution_count": null,
   "metadata": {},
   "outputs": [],
   "source": []
  }
 ],
 "metadata": {
  "kernelspec": {
   "display_name": "Python 3",
   "language": "python",
   "name": "python3"
  },
  "language_info": {
   "codemirror_mode": {
    "name": "ipython",
    "version": 3
   },
   "file_extension": ".py",
   "mimetype": "text/x-python",
   "name": "python",
   "nbconvert_exporter": "python",
   "pygments_lexer": "ipython3",
   "version": "3.7.6"
  }
 },
 "nbformat": 4,
 "nbformat_minor": 2
}
