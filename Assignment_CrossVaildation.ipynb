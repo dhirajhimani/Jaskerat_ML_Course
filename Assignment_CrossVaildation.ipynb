{
 "cells": [
  {
   "cell_type": "markdown",
   "metadata": {},
   "source": [
    "# Distribute Data for Crossvalidation\n",
    "\n",
    "## Things To Do:-\n",
    "\n",
    "<ol>\n",
    "    <li>Part 1</li>\n",
    "    <li>Extract Zip File, Parent Folder would contain Train and Test folder</li>\n",
    "    <li>Create a new folder crossvalidation</li>\n",
    "    <li>Train Folder contains 46 subfolders and 1700 Images, Extract 75% of images from the train folder to crossvalidation</li>\n",
    "    <li>Part 2</li>\n",
    "    <li>Create a Dataframe from all th files in the crossvalidation, Each Image is 32 * 32, we need to create a row vector 1 * 1024 for each row, </li>\n",
    "    <li>Add a numbered label to decide the category in which the row falls</li>\n",
    "    <li>So final row would be 1 * 1025 and rows would be 46*1275, 46 folders and 1275 files in each</li>\n",
    "    <li>Final size of Dataframe would be 58650 * 1025</li>\n",
    "    <li>To final test the accuracy random pick any row of dataframe and check the image is of correct label</li>\n",
    "</ol>\n"
   ]
  },
  {
   "cell_type": "code",
   "execution_count": 1,
   "metadata": {},
   "outputs": [],
   "source": [
    "import pandas as pd\n",
    "import numpy as np\n",
    "\n",
    "from zipfile import ZipFile \n",
    "\n",
    "import os.path\n",
    "from os import path\n",
    "import shutil"
   ]
  },
  {
   "cell_type": "code",
   "execution_count": 2,
   "metadata": {},
   "outputs": [],
   "source": [
    "# specifying the zip file name \n",
    "zip_file_name = \"data/DevanagariHandwrittenCharacterDataset.zip\"\n",
    "\n",
    "zip_folder_name = \"data/DevanagariHandwrittenCharacterDataset\"\n",
    "\n",
    "train_folder_name = \"data/DevanagariHandwrittenCharacterDataset/Train\"\n",
    "\n",
    "crossvalidation_folder_name = \"data/DevanagariHandwrittenCharacterDataset/crossvalidation\"\n",
    "\n",
    "zip_extract_location = \"data/\"\n",
    "\n",
    "percentage_of_files_to_extract = .75\n",
    "\n",
    "sample_crossvalidation_file = crossvalidation_folder_name + \"/character_1_ka/1340.png\""
   ]
  },
  {
   "cell_type": "code",
   "execution_count": 3,
   "metadata": {},
   "outputs": [
    {
     "name": "stdout",
     "output_type": "stream",
     "text": [
      "data/DevanagariHandwrittenCharacterDataset Exists, Already Extracted\n"
     ]
    }
   ],
   "source": [
    "# Extract Zip file if we haven't extracted it yet\n",
    "\n",
    "# Commented for safety\n",
    "#if path.exists(zip_folder_name):\n",
    "#    shutil.rmtree(zip_folder_name)\n",
    "\n",
    "if not path.exists(zip_folder_name):\n",
    "    \n",
    "    # opening the zip file in READ mode \n",
    "    with ZipFile(zip_file_name, 'r') as zip: \n",
    "        \n",
    "        # printing all the contents of the zip file \n",
    "        #zip.printdir() \n",
    "\n",
    "        # extracting all the files \n",
    "        print('Extracting all the files now...') \n",
    "        zip.extractall(path=zip_extract_location) \n",
    "        print('Done!') \n",
    "else:\n",
    "    print(zip_folder_name + \" Exists, Already Extracted\")\n"
   ]
  },
  {
   "cell_type": "code",
   "execution_count": 4,
   "metadata": {},
   "outputs": [
    {
     "name": "stdout",
     "output_type": "stream",
     "text": [
      "/Users/agaxmp04/Documents/JupyterNotebook/Jaskerat_ML_Course\n"
     ]
    }
   ],
   "source": [
    "print(os.getcwd())"
   ]
  },
  {
   "cell_type": "code",
   "execution_count": 5,
   "metadata": {},
   "outputs": [
    {
     "name": "stdout",
     "output_type": "stream",
     "text": [
      "Creation of the directory <module 'posixpath' from '/usr/local/Cellar/python/3.7.5/Frameworks/Python.framework/Versions/3.7/lib/python3.7/posixpath.py'> failed\n"
     ]
    }
   ],
   "source": [
    "# define the name of the Crossvalidation directory to be created\n",
    "crossvalidationpath = os.getcwd() + \"/\" + zip_folder_name + \"/\" + \"crossvalidation\"\n",
    "\n",
    "try:\n",
    "    os.mkdir(crossvalidationpath)\n",
    "except OSError:\n",
    "    # if the folder is already there, it would fail\n",
    "    print (\"Creation of the directory %s failed\" % path)\n",
    "else:\n",
    "    print (\"Successfully created the directory %s \" % path)"
   ]
  },
  {
   "cell_type": "code",
   "execution_count": 8,
   "metadata": {},
   "outputs": [
    {
     "name": "stdout",
     "output_type": "stream",
     "text": [
      "Already moved\n"
     ]
    }
   ],
   "source": [
    "# Move 75% of files from Train to Crossvalidation folder\n",
    "\n",
    "if not path.exists(sample_crossvalidation_file):\n",
    "    \n",
    "    for dirpath, dirnames, filenames in os.walk(train_folder_name):\n",
    "        if len(filenames) != 0:\n",
    "            #print(dirpath)\n",
    "            #print(dirnames)\n",
    "            #print(filenames)\n",
    "            destination = crossvalidation_folder_name + \"/\" + str(dirpath.split(sep='/').pop())\n",
    "\n",
    "            if not path.exists(destination):\n",
    "                os.mkdir(destination)\n",
    "\n",
    "            files_to_be_moved = int(len(filenames) * percentage_of_files_to_extract)\n",
    "            #print(destination)\n",
    "            #print(files_to_be_moved)\n",
    "            for i in range(files_to_be_moved):\n",
    "                src = dirpath + \"/\" + filenames[i]\n",
    "                dest = destination + \"/\" + filenames[i]\n",
    "                shutil.move(src = src, dst = destination);\n",
    "else:\n",
    "    print(\"Already moved\")\n"
   ]
  },
  {
   "cell_type": "code",
   "execution_count": null,
   "metadata": {},
   "outputs": [],
   "source": []
  }
 ],
 "metadata": {
  "kernelspec": {
   "display_name": "Python 3",
   "language": "python",
   "name": "python3"
  },
  "language_info": {
   "codemirror_mode": {
    "name": "ipython",
    "version": 3
   },
   "file_extension": ".py",
   "mimetype": "text/x-python",
   "name": "python",
   "nbconvert_exporter": "python",
   "pygments_lexer": "ipython3",
   "version": "3.7.5"
  }
 },
 "nbformat": 4,
 "nbformat_minor": 2
}
