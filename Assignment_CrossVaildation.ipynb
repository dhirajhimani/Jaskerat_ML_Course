{
 "cells": [
  {
   "cell_type": "markdown",
   "metadata": {},
   "source": [
    "# Distribute Data for Crossvalidation\n",
    "\n",
    "## Things To Do:-\n",
    "\n",
    "<ol>\n",
    "    <li>Part 1</li>\n",
    "    <li>Extract Zip File, Parent Folder would contain Train and Test folder</li>\n",
    "    <li>Create a new folder crossvalidation</li>\n",
    "    <li>Train Folder contains 46 subfolders and 1700 Images, Extract 75% of images from the train folder to crossvalidation</li>\n",
    "    <li>Part 2</li>\n",
    "    <li>Create a Dataframe from all th files in the crossvalidation, Each Image is 32 * 32, we need to create a row vector 1 * 1024 for each row, </li>\n",
    "    <li>Add a numbered label to decide the category in which the row falls</li>\n",
    "    <li>So final row would be 1 * 1025 and rows would be 46*1275, 46 folders and 1275 files in each</li>\n",
    "    <li>Final size of Dataframe would be 58650 * 1025</li>\n",
    "    <li>To final test the accuracy random pick any row of dataframe and check the image is of correct label</li>\n",
    "</ol>\n"
   ]
  },
  {
   "cell_type": "code",
   "execution_count": 4,
   "metadata": {},
   "outputs": [],
   "source": [
    "import pandas as pd\n",
    "import numpy as np\n",
    "import os"
   ]
  },
  {
   "cell_type": "code",
   "execution_count": null,
   "metadata": {},
   "outputs": [],
   "source": []
  }
 ],
 "metadata": {
  "kernelspec": {
   "display_name": "Python 3",
   "language": "python",
   "name": "python3"
  },
  "language_info": {
   "codemirror_mode": {
    "name": "ipython",
    "version": 3
   },
   "file_extension": ".py",
   "mimetype": "text/x-python",
   "name": "python",
   "nbconvert_exporter": "python",
   "pygments_lexer": "ipython3",
   "version": "3.7.5"
  }
 },
 "nbformat": 4,
 "nbformat_minor": 2
}
