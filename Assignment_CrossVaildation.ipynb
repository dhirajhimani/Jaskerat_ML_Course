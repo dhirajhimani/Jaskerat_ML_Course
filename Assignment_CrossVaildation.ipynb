{
 "cells": [
  {
   "cell_type": "markdown",
   "metadata": {},
   "source": [
    "# Distribute Data for Crossvalidation\n",
    "\n",
    "## Things To Do:-\n",
    "\n",
    "<ol>\n",
    "    <li>Part 1</li>\n",
    "    <li>Extract Zip File, Parent Folder would contain Train and Test folder</li>\n",
    "    <li>Create a new folder crossvalidation</li>\n",
    "    <li>Train Folder contains 46 subfolders and 1700 Images, Extract 75% of images from the train folder to crossvalidation</li>\n",
    "    <li>Part 2</li>\n",
    "    <li>Create a Dataframe from all th files in the crossvalidation, Each Image is 32 * 32, we need to create a row vector 1 * 1024 for each row, </li>\n",
    "    <li>Add a numbered label to decide the category in which the row falls</li>\n",
    "    <li>So final row would be 1 * 1025 and rows would be 46*1275, 46 folders and 1275 files in each</li>\n",
    "    <li>Final size of Dataframe would be 58650 * 1025</li>\n",
    "    <li>To final test the accuracy random pick any row of dataframe and check the image is of correct label</li>\n",
    "</ol>\n"
   ]
  },
  {
   "cell_type": "code",
   "execution_count": 19,
   "metadata": {},
   "outputs": [],
   "source": [
    "import pandas as pd\n",
    "import numpy as np\n",
    "\n",
    "from zipfile import ZipFile \n",
    "\n",
    "import os.path\n",
    "from os import path"
   ]
  },
  {
   "cell_type": "code",
   "execution_count": 23,
   "metadata": {},
   "outputs": [],
   "source": [
    "# specifying the zip file name \n",
    "zip_file_name = \"data/DevanagariHandwrittenCharacterDataset.zip\"\n",
    "\n",
    "zip_folder_name = \"data/DevanagariHandwrittenCharacterDataset\"\n",
    "\n",
    "zip_extract_location = \"data/\""
   ]
  },
  {
   "cell_type": "code",
   "execution_count": 26,
   "metadata": {},
   "outputs": [
    {
     "name": "stdout",
     "output_type": "stream",
     "text": [
      "data/DevanagariHandwrittenCharacterDataset Exists\n"
     ]
    }
   ],
   "source": [
    "# Extract Zip file if we haven't extracted it yet\n",
    "\n",
    "if not path.exists(zip_folder_name):\n",
    "    \n",
    "    # opening the zip file in READ mode \n",
    "    with ZipFile(zip_file_name, 'r') as zip: \n",
    "        \n",
    "        # printing all the contents of the zip file \n",
    "        #zip.printdir() \n",
    "\n",
    "        # extracting all the files \n",
    "        print('Extracting all the files now...') \n",
    "        zip.extractall(path=zip_extract_location) \n",
    "        print('Done!') \n",
    "else:\n",
    "    print(zip_folder_name + \" Exists\")\n"
   ]
  },
  {
   "cell_type": "code",
   "execution_count": 18,
   "metadata": {},
   "outputs": [
    {
     "data": {
      "text/plain": [
       "False"
      ]
     },
     "execution_count": 18,
     "metadata": {},
     "output_type": "execute_result"
    }
   ],
   "source": []
  },
  {
   "cell_type": "code",
   "execution_count": null,
   "metadata": {},
   "outputs": [],
   "source": []
  }
 ],
 "metadata": {
  "kernelspec": {
   "display_name": "Python 3",
   "language": "python",
   "name": "python3"
  },
  "language_info": {
   "codemirror_mode": {
    "name": "ipython",
    "version": 3
   },
   "file_extension": ".py",
   "mimetype": "text/x-python",
   "name": "python",
   "nbconvert_exporter": "python",
   "pygments_lexer": "ipython3",
   "version": "3.7.5"
  }
 },
 "nbformat": 4,
 "nbformat_minor": 2
}
