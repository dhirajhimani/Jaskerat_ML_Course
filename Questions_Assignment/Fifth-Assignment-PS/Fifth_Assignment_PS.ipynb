{
 "cells": [
  {
   "cell_type": "markdown",
   "metadata": {},
   "source": [
    "Download the Dataset from the following link:\n",
    "\n",
    "https://drive.google.com/file/d/1SRutIp484SkfeJFcRkBjHClpylScQn4y/view?usp=sharing"
   ]
  },
  {
   "cell_type": "markdown",
   "metadata": {},
   "source": [
    "When you load the dataset, you get the following output:"
   ]
  },
  {
   "cell_type": "code",
   "execution_count": 3,
   "metadata": {},
   "outputs": [],
   "source": [
    "import pandas as pd"
   ]
  },
  {
   "cell_type": "code",
   "execution_count": 4,
   "metadata": {},
   "outputs": [],
   "source": [
    "data = pd.read_csv(\"Sharktankpitchesdeals.csv\")"
   ]
  },
  {
   "cell_type": "code",
   "execution_count": 2,
   "metadata": {},
   "outputs": [
    {
     "ename": "NameError",
     "evalue": "name 'data' is not defined",
     "output_type": "error",
     "traceback": [
      "\u001b[0;31m---------------------------------------------------------------------------\u001b[0m",
      "\u001b[0;31mNameError\u001b[0m                                 Traceback (most recent call last)",
      "\u001b[0;32m<ipython-input-2-c5d84736ba45>\u001b[0m in \u001b[0;36m<module>\u001b[0;34m\u001b[0m\n\u001b[0;32m----> 1\u001b[0;31m \u001b[0mdata\u001b[0m\u001b[0;34m\u001b[0m\u001b[0;34m\u001b[0m\u001b[0m\n\u001b[0m",
      "\u001b[0;31mNameError\u001b[0m: name 'data' is not defined"
     ]
    }
   ],
   "source": [
    "data"
   ]
  },
  {
   "cell_type": "markdown",
   "metadata": {},
   "source": [
    "The dataset consists of different features (columns) of 706 pitched business ideas in a very popular TV show in US, called Shark Tank. If we have a look on the column named \"Pitched_Business_Desc\" which is an abbrevaition for Pitched Business Description, then we get the following:"
   ]
  },
  {
   "cell_type": "code",
   "execution_count": 4,
   "metadata": {},
   "outputs": [],
   "source": [
    "pitched_business_desc = data['Pitched_Business_Desc']"
   ]
  },
  {
   "cell_type": "code",
   "execution_count": 5,
   "metadata": {},
   "outputs": [
    {
     "data": {
      "text/plain": [
       "0      a functional slip worn under a wedding gown th...\n",
       "1      hair-care products made with pheromones . Laid...\n",
       "2      a notebook that can scan contents to cloud ser...\n",
       "3      painting classes with wine served . Wine & Des...\n",
       "4      a mixing bowl with a built-in scoop . Peoples ...\n",
       "                             ...                        \n",
       "701     (Emmy the Elephant during show, trademarked a...\n",
       "702    a packing and organizing service based on an a...\n",
       "703    an implantable Bluetooth device requiring surg...\n",
       "704                                       a pie company \n",
       "705    an electronic hand-held device for waiting roo...\n",
       "Name: Pitched_Business_Desc, Length: 706, dtype: object"
      ]
     },
     "execution_count": 5,
     "metadata": {},
     "output_type": "execute_result"
    }
   ],
   "source": [
    "pitched_business_desc"
   ]
  },
  {
   "cell_type": "markdown",
   "metadata": {},
   "source": [
    "This column consists of Business ideas written in detailed text of different pitched business descriptions. Let's have a look on the pitched business description of the first row:"
   ]
  },
  {
   "cell_type": "code",
   "execution_count": 6,
   "metadata": {},
   "outputs": [
    {
     "data": {
      "text/plain": [
       "'a functional slip worn under a wedding gown that allows the wearer to use the restroom on their own . Bridal Buddy is a lightweight slip worn under the gown that lets brides go to the bathroom while wearing it. When nature calls, the bride can bag up her bustle to safely relieve herself without making a mess.'"
      ]
     },
     "execution_count": 6,
     "metadata": {},
     "output_type": "execute_result"
    }
   ],
   "source": [
    "data['Pitched_Business_Desc'].iloc[0]"
   ]
  },
  {
   "cell_type": "markdown",
   "metadata": {},
   "source": [
    "Similarly, there are pitched business descriptions for all the other 705 business ideas. "
   ]
  },
  {
   "cell_type": "markdown",
   "metadata": {},
   "source": [
    "The task is to create a vocabulary of all the words occurring in all the pitched business descriptions. Well, to be more specific and clear, we have to create a list or array of all the unique words occuring in all the pitched business descriptions. As an example, if we have a look on the vocabulary of the above pitched business description of the above description, it will look something like that:"
   ]
  },
  {
   "cell_type": "code",
   "execution_count": 7,
   "metadata": {},
   "outputs": [],
   "source": [
    "first_string = data['Pitched_Business_Desc'].iloc[0]"
   ]
  },
  {
   "cell_type": "code",
   "execution_count": 8,
   "metadata": {},
   "outputs": [],
   "source": [
    "first_string_vocab = list(set(first_string.split(\" \")))"
   ]
  },
  {
   "cell_type": "code",
   "execution_count": 9,
   "metadata": {},
   "outputs": [
    {
     "data": {
      "text/plain": [
       "['a',\n",
       " 'the',\n",
       " 'calls,',\n",
       " 'Buddy',\n",
       " 'bride',\n",
       " 'Bridal',\n",
       " 'go',\n",
       " 'When',\n",
       " 'restroom',\n",
       " 'her',\n",
       " 'use',\n",
       " 'relieve',\n",
       " 'functional',\n",
       " '.',\n",
       " 'bustle',\n",
       " 'it.',\n",
       " 'without',\n",
       " 'their',\n",
       " 'is',\n",
       " 'brides',\n",
       " 'mess.',\n",
       " 'own',\n",
       " 'lightweight',\n",
       " 'wearing',\n",
       " 'bag',\n",
       " 'lets',\n",
       " 'safely',\n",
       " 'wearer',\n",
       " 'herself',\n",
       " 'up',\n",
       " 'nature',\n",
       " 'gown',\n",
       " 'wedding',\n",
       " 'that',\n",
       " 'allows',\n",
       " 'to',\n",
       " 'can',\n",
       " 'worn',\n",
       " 'bathroom',\n",
       " 'under',\n",
       " 'slip',\n",
       " 'on',\n",
       " 'while',\n",
       " 'making']"
      ]
     },
     "execution_count": 9,
     "metadata": {},
     "output_type": "execute_result"
    }
   ],
   "source": [
    "first_string_vocab"
   ]
  },
  {
   "cell_type": "markdown",
   "metadata": {},
   "source": [
    "Having a look on the vocabulary of the pitched business description of the above business idea, we can see that none of the words are repeating, which means that the pitched business description of the above mentioned business idea is structured from the words in the above shown vocabulary. "
   ]
  },
  {
   "cell_type": "markdown",
   "metadata": {},
   "source": [
    "But, there is a problem. If you have a look on some of the words occuring in the vocabulary of this business description, let's say:"
   ]
  },
  {
   "cell_type": "markdown",
   "metadata": {},
   "source": [
    "\"it.\", \"mess.\", \"Bridal\""
   ]
  },
  {
   "cell_type": "markdown",
   "metadata": {},
   "source": [
    "Well, let's see that what is wrong with these words. Well, it may happen that when the vocabulary of another pitched business description is created, then these words might end up appearing once again but slightly in a different form, let's say:\n",
    "\n",
    "\"It.\", \"mess\" and \"bridal\""
   ]
  },
  {
   "cell_type": "markdown",
   "metadata": {},
   "source": [
    "But, when seen carefully, \"it.\" in the first case will be considered different from \"It.\" in the second case because of lower case \"i\" and upper case \"I\" in previous and later cases. Similarly, \"mess.\" in the first case will be considered different from \"mess\" in the second case because of \".\" at the end of \"mess\" in the first case. Same is the case with third word, where \"Bridal\" in the first case will be considered different \"bridal\" in the second case because of upper case \"B\" and lower case \"b\" in the prevous and later cases. "
   ]
  },
  {
   "cell_type": "markdown",
   "metadata": {},
   "source": [
    "Let's pick up a word and trying figure out that in how many ways, a word can be different or how many different versions of the word can be so that all of these versions can be considered different inspite of being looking same according to our knowledge of language. Let's pick up the word \"bridal\". "
   ]
  },
  {
   "cell_type": "markdown",
   "metadata": {},
   "source": [
    "\"bridal\", \"Bridal\", \"BRIDAL\", \"bridal.\", \"bridal's\", \".Bridal\""
   ]
  },
  {
   "cell_type": "markdown",
   "metadata": {},
   "source": [
    "As can be noticed, all the above mentioned words are equivalent but they will be considered different. So, how to solve this problem. Well, we have to first solve simple problem of upper and lower cases which is making two similar words considered differently and that can be easily solved by converting each word in each business description first into lower case. After doing this, the above words will look like this: "
   ]
  },
  {
   "cell_type": "markdown",
   "metadata": {},
   "source": [
    "\"bridal\", \"bridal\", \"bridal\", \"bridal.\", \"bridal's\", \".bridal\""
   ]
  },
  {
   "cell_type": "markdown",
   "metadata": {},
   "source": [
    "And when we pick out the unique words out of the above list of words, we are left with: "
   ]
  },
  {
   "cell_type": "markdown",
   "metadata": {},
   "source": [
    "\"bridal\", \"bridal.\", \"bridal's\", \".bridal\""
   ]
  },
  {
   "cell_type": "code",
   "execution_count": 64,
   "metadata": {},
   "outputs": [],
   "source": [
    "pitched_business_desc = data['Pitched_Business_Desc'].apply(lambda x: x.lower())"
   ]
  },
  {
   "cell_type": "markdown",
   "metadata": {},
   "source": [
    "So, we converted all the strings into lower case"
   ]
  },
  {
   "cell_type": "code",
   "execution_count": 55,
   "metadata": {},
   "outputs": [
    {
     "data": {
      "text/plain": [
       "0      a functional slip worn under a wedding gown th...\n",
       "1      hair-care products made with pheromones . laid...\n",
       "2      a notebook that can scan contents to cloud ser...\n",
       "3      painting classes with wine served . wine & des...\n",
       "4      a mixing bowl with a built-in scoop . peoples ...\n",
       "                             ...                        \n",
       "701     (emmy the elephant during show, trademarked a...\n",
       "702    a packing and organizing service based on an a...\n",
       "703    an implantable bluetooth device requiring surg...\n",
       "704                                       a pie company \n",
       "705    an electronic hand-held device for waiting roo...\n",
       "Name: Pitched_Business_Desc, Length: 706, dtype: object"
      ]
     },
     "execution_count": 55,
     "metadata": {},
     "output_type": "execute_result"
    }
   ],
   "source": [
    "pitched_business_desc"
   ]
  },
  {
   "cell_type": "markdown",
   "metadata": {},
   "source": [
    "So, the problem is solved to some extent. "
   ]
  },
  {
   "cell_type": "markdown",
   "metadata": {},
   "source": [
    "Now, to remove special characters in between a word like \"'s\" or at the end or start of the word like \".\", we have to use something called REGULAR EXPRESSION, also known as REGEX in short. "
   ]
  },
  {
   "cell_type": "markdown",
   "metadata": {},
   "source": [
    "So, what are Regular Expressions. For this, let's have a look on the following pdf snapshots: "
   ]
  },
  {
   "cell_type": "markdown",
   "metadata": {},
   "source": [
    "After gathering knowledge of REGEX from the above notes, we can now straightly convert each pitched business descriptions into filtered words in the description."
   ]
  },
  {
   "cell_type": "code",
   "execution_count": 37,
   "metadata": {},
   "outputs": [],
   "source": [
    "# Read Regex from https://www.nltk.org/book/ch03.html"
   ]
  },
  {
   "cell_type": "code",
   "execution_count": 38,
   "metadata": {},
   "outputs": [],
   "source": [
    "import re"
   ]
  },
  {
   "cell_type": "markdown",
   "metadata": {},
   "source": [
    "Imported Regular Expressions Library"
   ]
  },
  {
   "cell_type": "code",
   "execution_count": 39,
   "metadata": {},
   "outputs": [],
   "source": [
    "\n",
    "apostrophe_s_regex = r'''('[a-zA-Z])'''\n",
    "dot_regex = r'([.?!]+) *'\n",
    "apostrophe_s_dot_regex = r''''[a-zA-Z]|[.?!]+ *'''"
   ]
  },
  {
   "cell_type": "code",
   "execution_count": 40,
   "metadata": {},
   "outputs": [
    {
     "data": {
      "text/plain": [
       "[('bridal', \"'s\")]"
      ]
     },
     "execution_count": 40,
     "metadata": {},
     "output_type": "execute_result"
    },
    {
     "data": {
      "text/plain": [
       "[\"'s\"]"
      ]
     },
     "execution_count": 40,
     "metadata": {},
     "output_type": "execute_result"
    },
    {
     "data": {
      "text/plain": [
       "['.']"
      ]
     },
     "execution_count": 40,
     "metadata": {},
     "output_type": "execute_result"
    },
    {
     "data": {
      "text/plain": [
       "[\"'s\"]"
      ]
     },
     "execution_count": 40,
     "metadata": {},
     "output_type": "execute_result"
    },
    {
     "data": {
      "text/plain": [
       "['!', '?', '.']"
      ]
     },
     "execution_count": 40,
     "metadata": {},
     "output_type": "execute_result"
    },
    {
     "data": {
      "text/plain": [
       "'is bridal buddy it. when'"
      ]
     },
     "execution_count": 40,
     "metadata": {},
     "output_type": "execute_result"
    },
    {
     "data": {
      "text/plain": [
       "\"hello world What It's nice \""
      ]
     },
     "execution_count": 40,
     "metadata": {},
     "output_type": "execute_result"
    },
    {
     "data": {
      "text/plain": [
       "['! ', '? ', \"'s\", '.', \"'s\", '. ']"
      ]
     },
     "execution_count": 40,
     "metadata": {},
     "output_type": "execute_result"
    },
    {
     "data": {
      "text/plain": [
       "'hello world What It  nice is bridal  buddy it when'"
      ]
     },
     "execution_count": 40,
     "metadata": {},
     "output_type": "execute_result"
    },
    {
     "data": {
      "text/plain": [
       "['hello', 'world', 'What', 'It', 'nice', 'is', 'bridal', 'buddy', 'it', 'when']"
      ]
     },
     "execution_count": 40,
     "metadata": {},
     "output_type": "execute_result"
    }
   ],
   "source": [
    "#re.sub(regpattern, \"\", tempStr)\n",
    "re.findall(r'''^(.*?)('[a-zA-Z]$)''', \"bridal's\")\n",
    "\n",
    "re.findall(r'''('[a-zA-Z])''', \"is bridal's buddy\")\n",
    "\n",
    "re.findall(r'''[.]''', \"while wearing it. when\")\n",
    "\n",
    "\n",
    "apostrophe_s = r'''('[a-zA-Z])'''\n",
    "dot_regex = r'([.?!]+) *'\n",
    "\n",
    "re.findall(apostrophe_s, \"is bridal's buddy it. when\")\n",
    "\n",
    "re.findall(dot_regex, \"hello world! What? It's nice.\")\n",
    "\n",
    "re.sub(apostrophe_s,\"\",\"is bridal's buddy it. when\")\n",
    "re.sub(dot_regex,\" \",\"hello world! What? It's nice.\")\n",
    "\n",
    "re.findall(''''[a-zA-Z]|[.?!]+ *''', \"hello world! What? It's nice.is bridal's buddy it. when\")\n",
    "\n",
    "re.sub(apostrophe_s_dot_regex,\" \", \"hello world! What? It's nice.is bridal's buddy it. when\")\n",
    "\n",
    "list_with_space = re.sub(''''[a-zA-Z]|[.?!]+ *''',\" \", \"hello world! What? It's nice.is bridal's buddy it. when\").split(\" \")\n",
    "list(filter(None, list_with_space))\n",
    "\n"
   ]
  },
  {
   "cell_type": "code",
   "execution_count": 65,
   "metadata": {},
   "outputs": [],
   "source": [
    "pitched_business_desc = pitched_business_desc.apply(lambda x: re.sub(apostrophe_s_dot_regex, \"\", x))\n",
    "#pitched_business_desc = pitched_business_desc.apply(lambda x: re.sub(dot_regex, \" \", x))\n"
   ]
  },
  {
   "cell_type": "code",
   "execution_count": 66,
   "metadata": {},
   "outputs": [
    {
     "data": {
      "text/plain": [
       "0      a functional slip worn under a wedding gown th...\n",
       "1      hair-care products made with pheromones laid b...\n",
       "2      a notebook that can scan contents to cloud ser...\n",
       "3      painting classes with wine served wine & desig...\n",
       "4      a mixing bowl with a built-in scoop peoples de...\n",
       "                             ...                        \n",
       "701     (emmy the elephant during show, trademarked a...\n",
       "702    a packing and organizing service based on an a...\n",
       "703    an implantable bluetooth device requiring surg...\n",
       "704                                       a pie company \n",
       "705    an electronic hand-held device for waiting roo...\n",
       "Name: Pitched_Business_Desc, Length: 706, dtype: object"
      ]
     },
     "execution_count": 66,
     "metadata": {},
     "output_type": "execute_result"
    }
   ],
   "source": [
    "pitched_business_desc"
   ]
  },
  {
   "cell_type": "code",
   "execution_count": 67,
   "metadata": {},
   "outputs": [],
   "source": [
    "pitched_business_desc = pitched_business_desc.apply(lambda x: x.split(\" \"))\n",
    "# Remove all whitespace, more on filter from here https://docs.python.org/3/library/functions.html#filter\n",
    "pitched_business_desc = list(filter(None, pitched_business_desc))"
   ]
  },
  {
   "cell_type": "code",
   "execution_count": 44,
   "metadata": {},
   "outputs": [],
   "source": [
    "#pitched_business_desc = pitched_business_desc.apply(lambda x: set(x))"
   ]
  },
  {
   "cell_type": "code",
   "execution_count": 34,
   "metadata": {},
   "outputs": [],
   "source": [
    "#pitched_business_desc = list(pitched_business_desc)"
   ]
  },
  {
   "cell_type": "code",
   "execution_count": 68,
   "metadata": {},
   "outputs": [],
   "source": [
    "resulting_set = []\n",
    "\n",
    "for desc in pitched_business_desc:\n",
    "    \n",
    "    resulting_set += set(desc)"
   ]
  },
  {
   "cell_type": "code",
   "execution_count": 71,
   "metadata": {},
   "outputs": [],
   "source": [
    "vocab = set(resulting_set)"
   ]
  },
  {
   "cell_type": "code",
   "execution_count": 75,
   "metadata": {},
   "outputs": [
    {
     "data": {
      "text/plain": [
       "5445"
      ]
     },
     "execution_count": 75,
     "metadata": {},
     "output_type": "execute_result"
    }
   ],
   "source": [
    "len(vocab)\n"
   ]
  },
  {
   "cell_type": "code",
   "execution_count": null,
   "metadata": {},
   "outputs": [],
   "source": []
  }
 ],
 "metadata": {
  "kernelspec": {
   "display_name": "Python 3",
   "language": "python",
   "name": "python3"
  },
  "language_info": {
   "codemirror_mode": {
    "name": "ipython",
    "version": 3
   },
   "file_extension": ".py",
   "mimetype": "text/x-python",
   "name": "python",
   "nbconvert_exporter": "python",
   "pygments_lexer": "ipython3",
   "version": "3.7.6"
  }
 },
 "nbformat": 4,
 "nbformat_minor": 2
}
