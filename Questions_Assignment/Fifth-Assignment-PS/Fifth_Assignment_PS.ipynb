{
 "cells": [
  {
   "cell_type": "markdown",
   "metadata": {},
   "source": [
    "Download the Dataset from the following link:\n",
    "\n",
    "https://drive.google.com/file/d/1SRutIp484SkfeJFcRkBjHClpylScQn4y/view?usp=sharing"
   ]
  },
  {
   "cell_type": "markdown",
   "metadata": {},
   "source": [
    "When you load the dataset, you get the following output:"
   ]
  },
  {
   "cell_type": "code",
   "execution_count": 1,
   "metadata": {},
   "outputs": [],
   "source": [
    "import pandas as pd"
   ]
  },
  {
   "cell_type": "code",
   "execution_count": 2,
   "metadata": {},
   "outputs": [],
   "source": [
    "data = pd.read_csv(\"Sharktankpitchesdeals.csv\")"
   ]
  },
  {
   "cell_type": "code",
   "execution_count": 3,
   "metadata": {},
   "outputs": [
    {
     "data": {
      "text/html": [
       "<div>\n",
       "<style scoped>\n",
       "    .dataframe tbody tr th:only-of-type {\n",
       "        vertical-align: middle;\n",
       "    }\n",
       "\n",
       "    .dataframe tbody tr th {\n",
       "        vertical-align: top;\n",
       "    }\n",
       "\n",
       "    .dataframe thead th {\n",
       "        text-align: right;\n",
       "    }\n",
       "</style>\n",
       "<table border=\"1\" class=\"dataframe\">\n",
       "  <thead>\n",
       "    <tr style=\"text-align: right;\">\n",
       "      <th></th>\n",
       "      <th>Season_Epi_code</th>\n",
       "      <th>Pitched_Business_Identifier</th>\n",
       "      <th>Pitched_Business_Desc</th>\n",
       "      <th>Deal_Status</th>\n",
       "      <th>Deal_Shark</th>\n",
       "    </tr>\n",
       "  </thead>\n",
       "  <tbody>\n",
       "    <tr>\n",
       "      <th>0</th>\n",
       "      <td>826</td>\n",
       "      <td>Bridal Buddy</td>\n",
       "      <td>a functional slip worn under a wedding gown th...</td>\n",
       "      <td>1</td>\n",
       "      <td>KOL+LG</td>\n",
       "    </tr>\n",
       "    <tr>\n",
       "      <th>1</th>\n",
       "      <td>826</td>\n",
       "      <td>Laid Brand</td>\n",
       "      <td>hair-care products made with pheromones . Laid...</td>\n",
       "      <td>0</td>\n",
       "      <td>NaN</td>\n",
       "    </tr>\n",
       "    <tr>\n",
       "      <th>2</th>\n",
       "      <td>826</td>\n",
       "      <td>Rocketbook</td>\n",
       "      <td>a notebook that can scan contents to cloud ser...</td>\n",
       "      <td>0</td>\n",
       "      <td>NaN</td>\n",
       "    </tr>\n",
       "    <tr>\n",
       "      <th>3</th>\n",
       "      <td>826</td>\n",
       "      <td>Wine &amp; Design</td>\n",
       "      <td>painting classes with wine served . Wine &amp; Des...</td>\n",
       "      <td>1</td>\n",
       "      <td>KOL</td>\n",
       "    </tr>\n",
       "    <tr>\n",
       "      <th>4</th>\n",
       "      <td>824</td>\n",
       "      <td>Peoples Design</td>\n",
       "      <td>a mixing bowl with a built-in scoop . Peoples ...</td>\n",
       "      <td>1</td>\n",
       "      <td>LG</td>\n",
       "    </tr>\n",
       "    <tr>\n",
       "      <th>5</th>\n",
       "      <td>824</td>\n",
       "      <td>Rumi Spice</td>\n",
       "      <td>saffron imported from Afghanistan . Rumi Spice...</td>\n",
       "      <td>1</td>\n",
       "      <td>MC</td>\n",
       "    </tr>\n",
       "    <tr>\n",
       "      <th>6</th>\n",
       "      <td>824</td>\n",
       "      <td>Thompson Tee</td>\n",
       "      <td>undershirts designed to block underarm sweat ....</td>\n",
       "      <td>1</td>\n",
       "      <td>RH</td>\n",
       "    </tr>\n",
       "    <tr>\n",
       "      <th>7</th>\n",
       "      <td>824</td>\n",
       "      <td>Wallet Buckle</td>\n",
       "      <td>a belt buckle that holds credit cards . The Wa...</td>\n",
       "      <td>1</td>\n",
       "      <td>RH</td>\n",
       "    </tr>\n",
       "    <tr>\n",
       "      <th>8</th>\n",
       "      <td>823</td>\n",
       "      <td>Flag</td>\n",
       "      <td>a free photo printing service that prints ads ...</td>\n",
       "      <td>0</td>\n",
       "      <td>NaN</td>\n",
       "    </tr>\n",
       "    <tr>\n",
       "      <th>9</th>\n",
       "      <td>823</td>\n",
       "      <td>Guard Llama</td>\n",
       "      <td>a portable remote that activates a personal em...</td>\n",
       "      <td>1</td>\n",
       "      <td>BC</td>\n",
       "    </tr>\n",
       "    <tr>\n",
       "      <th>10</th>\n",
       "      <td>823</td>\n",
       "      <td>Guardian Bikes</td>\n",
       "      <td>children's bicycles with an improved braking s...</td>\n",
       "      <td>1</td>\n",
       "      <td>MC</td>\n",
       "    </tr>\n",
       "    <tr>\n",
       "      <th>11</th>\n",
       "      <td>823</td>\n",
       "      <td>Validated</td>\n",
       "      <td>an app that earns credit toward covering trans...</td>\n",
       "      <td>0</td>\n",
       "      <td>NaN</td>\n",
       "    </tr>\n",
       "    <tr>\n",
       "      <th>12</th>\n",
       "      <td>822</td>\n",
       "      <td>Apollo Peak</td>\n",
       "      <td>a wine-like beverage for cats and dogs . Apoll...</td>\n",
       "      <td>1</td>\n",
       "      <td>KOL</td>\n",
       "    </tr>\n",
       "    <tr>\n",
       "      <th>13</th>\n",
       "      <td>822</td>\n",
       "      <td>CropSticks</td>\n",
       "      <td>bamboo chopsticks with a built-in rest . Crops...</td>\n",
       "      <td>0</td>\n",
       "      <td>NaN</td>\n",
       "    </tr>\n",
       "    <tr>\n",
       "      <th>14</th>\n",
       "      <td>822</td>\n",
       "      <td>Seedsheet</td>\n",
       "      <td>a sheet of weed-blocking fabric embedded with ...</td>\n",
       "      <td>1</td>\n",
       "      <td>LG</td>\n",
       "    </tr>\n",
       "    <tr>\n",
       "      <th>15</th>\n",
       "      <td>822</td>\n",
       "      <td>Under the Weather</td>\n",
       "      <td>weatherproof pop-up pods to be used when watch...</td>\n",
       "      <td>1</td>\n",
       "      <td>MC</td>\n",
       "    </tr>\n",
       "    <tr>\n",
       "      <th>16</th>\n",
       "      <td>820</td>\n",
       "      <td>BootyQueen Apparel</td>\n",
       "      <td>a fitness fashion line that accents a woman's ...</td>\n",
       "      <td>1</td>\n",
       "      <td>DJ</td>\n",
       "    </tr>\n",
       "    <tr>\n",
       "      <th>17</th>\n",
       "      <td>820</td>\n",
       "      <td>Goverre</td>\n",
       "      <td>a spill-proof portable wine glass . Goverre is...</td>\n",
       "      <td>1</td>\n",
       "      <td>LG+MC+RH</td>\n",
       "    </tr>\n",
       "    <tr>\n",
       "      <th>18</th>\n",
       "      <td>820</td>\n",
       "      <td>Loctote Industrial Bag Co.</td>\n",
       "      <td>a drawstring pack that is cut-resistant and ha...</td>\n",
       "      <td>1</td>\n",
       "      <td>RH</td>\n",
       "    </tr>\n",
       "    <tr>\n",
       "      <th>19</th>\n",
       "      <td>820</td>\n",
       "      <td>See Rescue Streamer</td>\n",
       "      <td>a large streamer used as an emergency signal d...</td>\n",
       "      <td>0</td>\n",
       "      <td>NaN</td>\n",
       "    </tr>\n",
       "    <tr>\n",
       "      <th>20</th>\n",
       "      <td>819</td>\n",
       "      <td>Blendtique Wine Company</td>\n",
       "      <td>a kit for customers to create personalized win...</td>\n",
       "      <td>1</td>\n",
       "      <td>LG</td>\n",
       "    </tr>\n",
       "    <tr>\n",
       "      <th>21</th>\n",
       "      <td>819</td>\n",
       "      <td>MealEnders</td>\n",
       "      <td>natural lozenges designed to help with weight ...</td>\n",
       "      <td>0</td>\n",
       "      <td>NaN</td>\n",
       "    </tr>\n",
       "    <tr>\n",
       "      <th>22</th>\n",
       "      <td>819</td>\n",
       "      <td>RareForm</td>\n",
       "      <td>backpacks and bags made from recycled billboar...</td>\n",
       "      <td>1</td>\n",
       "      <td>KOL</td>\n",
       "    </tr>\n",
       "    <tr>\n",
       "      <th>23</th>\n",
       "      <td>819</td>\n",
       "      <td>The Sleep Styler</td>\n",
       "      <td>hair rollers that dry and style overnight . Th...</td>\n",
       "      <td>1</td>\n",
       "      <td>LG</td>\n",
       "    </tr>\n",
       "    <tr>\n",
       "      <th>24</th>\n",
       "      <td>818</td>\n",
       "      <td>DartDrones</td>\n",
       "      <td>drone pilot training courses . DARTdrones offe...</td>\n",
       "      <td>1</td>\n",
       "      <td>MC</td>\n",
       "    </tr>\n",
       "    <tr>\n",
       "      <th>25</th>\n",
       "      <td>818</td>\n",
       "      <td>Ora Organic</td>\n",
       "      <td>plant-based nutritional supplements . Ora Orga...</td>\n",
       "      <td>0</td>\n",
       "      <td>NaN</td>\n",
       "    </tr>\n",
       "    <tr>\n",
       "      <th>26</th>\n",
       "      <td>818</td>\n",
       "      <td>Sand Cloud</td>\n",
       "      <td>beach towels supporting ocean sustainability ....</td>\n",
       "      <td>1</td>\n",
       "      <td>RH</td>\n",
       "    </tr>\n",
       "    <tr>\n",
       "      <th>27</th>\n",
       "      <td>818</td>\n",
       "      <td>The Elephant Pants</td>\n",
       "      <td>a clothing line supporting elephant preservati...</td>\n",
       "      <td>1</td>\n",
       "      <td>DJ</td>\n",
       "    </tr>\n",
       "    <tr>\n",
       "      <th>28</th>\n",
       "      <td>817</td>\n",
       "      <td>Bitsbox</td>\n",
       "      <td>a subscription box service that teaches kids c...</td>\n",
       "      <td>0</td>\n",
       "      <td>NaN</td>\n",
       "    </tr>\n",
       "    <tr>\n",
       "      <th>29</th>\n",
       "      <td>817</td>\n",
       "      <td>Edn Wallgarden</td>\n",
       "      <td>an indoor planter that uses smart technology t...</td>\n",
       "      <td>0</td>\n",
       "      <td>NaN</td>\n",
       "    </tr>\n",
       "    <tr>\n",
       "      <th>...</th>\n",
       "      <td>...</td>\n",
       "      <td>...</td>\n",
       "      <td>...</td>\n",
       "      <td>...</td>\n",
       "      <td>...</td>\n",
       "    </tr>\n",
       "    <tr>\n",
       "      <th>676</th>\n",
       "      <td>106</td>\n",
       "      <td>Element Bars</td>\n",
       "      <td>a company that manufactures custom energy bars...</td>\n",
       "      <td>1</td>\n",
       "      <td>Others</td>\n",
       "    </tr>\n",
       "    <tr>\n",
       "      <th>677</th>\n",
       "      <td>106</td>\n",
       "      <td>Kalyx</td>\n",
       "      <td>a line of sports bras</td>\n",
       "      <td>0</td>\n",
       "      <td>NaN</td>\n",
       "    </tr>\n",
       "    <tr>\n",
       "      <th>678</th>\n",
       "      <td>106</td>\n",
       "      <td>Pork Barrel BBQ</td>\n",
       "      <td>a barbecue sauce and spice rub . a new brand o...</td>\n",
       "      <td>1</td>\n",
       "      <td>BC</td>\n",
       "    </tr>\n",
       "    <tr>\n",
       "      <th>679</th>\n",
       "      <td>106</td>\n",
       "      <td>The Fizz</td>\n",
       "      <td>a reinvention of the root beer float that scre...</td>\n",
       "      <td>0</td>\n",
       "      <td>NaN</td>\n",
       "    </tr>\n",
       "    <tr>\n",
       "      <th>680</th>\n",
       "      <td>106</td>\n",
       "      <td>Underease Underwear</td>\n",
       "      <td>protective underwear for flatulance . protecti...</td>\n",
       "      <td>0</td>\n",
       "      <td>NaN</td>\n",
       "    </tr>\n",
       "    <tr>\n",
       "      <th>681</th>\n",
       "      <td>105</td>\n",
       "      <td>Body Jac</td>\n",
       "      <td>a fitness machine to make pushups easier . a f...</td>\n",
       "      <td>1</td>\n",
       "      <td>BC</td>\n",
       "    </tr>\n",
       "    <tr>\n",
       "      <th>682</th>\n",
       "      <td>105</td>\n",
       "      <td>Face Blok</td>\n",
       "      <td>a line of stylized surgical face masks . a lin...</td>\n",
       "      <td>0</td>\n",
       "      <td>NaN</td>\n",
       "    </tr>\n",
       "    <tr>\n",
       "      <th>683</th>\n",
       "      <td>105</td>\n",
       "      <td>Good Grief Celebrations</td>\n",
       "      <td>a funeral concierge service . a funeral concie...</td>\n",
       "      <td>0</td>\n",
       "      <td>NaN</td>\n",
       "    </tr>\n",
       "    <tr>\n",
       "      <th>684</th>\n",
       "      <td>105</td>\n",
       "      <td>Granola Gourmet</td>\n",
       "      <td>a line of granola bars that diabetics can eat ...</td>\n",
       "      <td>0</td>\n",
       "      <td>NaN</td>\n",
       "    </tr>\n",
       "    <tr>\n",
       "      <th>685</th>\n",
       "      <td>105</td>\n",
       "      <td>My Therapy Journal</td>\n",
       "      <td>a web site that allows people to write in a jo...</td>\n",
       "      <td>1</td>\n",
       "      <td>KOL+RH</td>\n",
       "    </tr>\n",
       "    <tr>\n",
       "      <th>686</th>\n",
       "      <td>104</td>\n",
       "      <td>Coffee Brand Gifts</td>\n",
       "      <td>on plush toys . a company that holds the paten...</td>\n",
       "      <td>0</td>\n",
       "      <td>NaN</td>\n",
       "    </tr>\n",
       "    <tr>\n",
       "      <th>687</th>\n",
       "      <td>104</td>\n",
       "      <td>Coverplay</td>\n",
       "      <td>a slip cover for children's travel play yards</td>\n",
       "      <td>1</td>\n",
       "      <td>BC</td>\n",
       "    </tr>\n",
       "    <tr>\n",
       "      <th>688</th>\n",
       "      <td>104</td>\n",
       "      <td>Gift Card Rescue</td>\n",
       "      <td>a web site that buys and resells unused gift c...</td>\n",
       "      <td>1</td>\n",
       "      <td>KOL+RH</td>\n",
       "    </tr>\n",
       "    <tr>\n",
       "      <th>689</th>\n",
       "      <td>104</td>\n",
       "      <td>Graffiti Removal Services</td>\n",
       "      <td>a graffiti removal service franchise</td>\n",
       "      <td>0</td>\n",
       "      <td>NaN</td>\n",
       "    </tr>\n",
       "    <tr>\n",
       "      <th>690</th>\n",
       "      <td>104</td>\n",
       "      <td>Soul's Calling</td>\n",
       "      <td>a line of inspirational accessories and gift i...</td>\n",
       "      <td>0</td>\n",
       "      <td>NaN</td>\n",
       "    </tr>\n",
       "    <tr>\n",
       "      <th>691</th>\n",
       "      <td>103</td>\n",
       "      <td>50 State Capitals in 50 Minutes</td>\n",
       "      <td>flashcards to help memorize the USA States and...</td>\n",
       "      <td>0</td>\n",
       "      <td>NaN</td>\n",
       "    </tr>\n",
       "    <tr>\n",
       "      <th>692</th>\n",
       "      <td>103</td>\n",
       "      <td>Kwyzta Chopstick Art</td>\n",
       "      <td>household items made from recycled chopsticks</td>\n",
       "      <td>0</td>\n",
       "      <td>NaN</td>\n",
       "    </tr>\n",
       "    <tr>\n",
       "      <th>693</th>\n",
       "      <td>103</td>\n",
       "      <td>Stress Free Kids</td>\n",
       "      <td>a line of books that use stress relieving tech...</td>\n",
       "      <td>1</td>\n",
       "      <td>BC</td>\n",
       "    </tr>\n",
       "    <tr>\n",
       "      <th>694</th>\n",
       "      <td>103</td>\n",
       "      <td>Turbobaster</td>\n",
       "      <td>a cooking device for basting</td>\n",
       "      <td>1</td>\n",
       "      <td>Others</td>\n",
       "    </tr>\n",
       "    <tr>\n",
       "      <th>695</th>\n",
       "      <td>103</td>\n",
       "      <td>Voyage Air Guitar</td>\n",
       "      <td>a guitar design that folds the guitar into a b...</td>\n",
       "      <td>0</td>\n",
       "      <td>NaN</td>\n",
       "    </tr>\n",
       "    <tr>\n",
       "      <th>696</th>\n",
       "      <td>102</td>\n",
       "      <td>A Perfect Pear</td>\n",
       "      <td>a gourmet food business . a gourmet food business</td>\n",
       "      <td>1</td>\n",
       "      <td>RH</td>\n",
       "    </tr>\n",
       "    <tr>\n",
       "      <th>697</th>\n",
       "      <td>102</td>\n",
       "      <td>Classroom Jams</td>\n",
       "      <td>a musical way to teach students Shakespeare . ...</td>\n",
       "      <td>1</td>\n",
       "      <td>BC+DJ+KOL+RH</td>\n",
       "    </tr>\n",
       "    <tr>\n",
       "      <th>698</th>\n",
       "      <td>102</td>\n",
       "      <td>Crooked Jaw</td>\n",
       "      <td>a mixed martial arts clothing line . a mixed m...</td>\n",
       "      <td>0</td>\n",
       "      <td>NaN</td>\n",
       "    </tr>\n",
       "    <tr>\n",
       "      <th>699</th>\n",
       "      <td>102</td>\n",
       "      <td>Lifebelt</td>\n",
       "      <td>a device that prevents the car from starting w...</td>\n",
       "      <td>0</td>\n",
       "      <td>NaN</td>\n",
       "    </tr>\n",
       "    <tr>\n",
       "      <th>700</th>\n",
       "      <td>102</td>\n",
       "      <td>Sticky Note Holder</td>\n",
       "      <td>a Post-It note arm for laptops . a Post-It not...</td>\n",
       "      <td>0</td>\n",
       "      <td>NaN</td>\n",
       "    </tr>\n",
       "    <tr>\n",
       "      <th>701</th>\n",
       "      <td>101</td>\n",
       "      <td>Ava the Elephant</td>\n",
       "      <td>(Emmy the Elephant during show, trademarked a...</td>\n",
       "      <td>1</td>\n",
       "      <td>BC</td>\n",
       "    </tr>\n",
       "    <tr>\n",
       "      <th>702</th>\n",
       "      <td>101</td>\n",
       "      <td>College Foxes Packing Boxes</td>\n",
       "      <td>a packing and organizing service based on an a...</td>\n",
       "      <td>0</td>\n",
       "      <td>NaN</td>\n",
       "    </tr>\n",
       "    <tr>\n",
       "      <th>703</th>\n",
       "      <td>101</td>\n",
       "      <td>Ionic Ear</td>\n",
       "      <td>an implantable Bluetooth device requiring surg...</td>\n",
       "      <td>0</td>\n",
       "      <td>NaN</td>\n",
       "    </tr>\n",
       "    <tr>\n",
       "      <th>704</th>\n",
       "      <td>101</td>\n",
       "      <td>Mr. Tod's Pie Factory</td>\n",
       "      <td>a pie company</td>\n",
       "      <td>1</td>\n",
       "      <td>BC+DJ</td>\n",
       "    </tr>\n",
       "    <tr>\n",
       "      <th>705</th>\n",
       "      <td>101</td>\n",
       "      <td>Wispots</td>\n",
       "      <td>an electronic hand-held device for waiting roo...</td>\n",
       "      <td>0</td>\n",
       "      <td>NaN</td>\n",
       "    </tr>\n",
       "  </tbody>\n",
       "</table>\n",
       "<p>706 rows × 5 columns</p>\n",
       "</div>"
      ],
      "text/plain": [
       "     Season_Epi_code  Pitched_Business_Identifier  \\\n",
       "0                826                 Bridal Buddy   \n",
       "1                826                   Laid Brand   \n",
       "2                826                   Rocketbook   \n",
       "3                826                Wine & Design   \n",
       "4                824               Peoples Design   \n",
       "..               ...                          ...   \n",
       "701              101             Ava the Elephant   \n",
       "702              101  College Foxes Packing Boxes   \n",
       "703              101                    Ionic Ear   \n",
       "704              101        Mr. Tod's Pie Factory   \n",
       "705              101                      Wispots   \n",
       "\n",
       "                                 Pitched_Business_Desc  Deal_Status Deal_Shark  \n",
       "0    a functional slip worn under a wedding gown th...            1     KOL+LG  \n",
       "1    hair-care products made with pheromones . Laid...            0        NaN  \n",
       "2    a notebook that can scan contents to cloud ser...            0        NaN  \n",
       "3    painting classes with wine served . Wine & Des...            1        KOL  \n",
       "4    a mixing bowl with a built-in scoop . Peoples ...            1         LG  \n",
       "..                                                 ...          ...        ...  \n",
       "701   (Emmy the Elephant during show, trademarked a...            1         BC  \n",
       "702  a packing and organizing service based on an a...            0        NaN  \n",
       "703  an implantable Bluetooth device requiring surg...            0        NaN  \n",
       "704                                     a pie company             1      BC+DJ  \n",
       "705  an electronic hand-held device for waiting roo...            0        NaN  \n",
       "\n",
       "[706 rows x 5 columns]"
      ]
     },
     "execution_count": 3,
     "metadata": {},
     "output_type": "execute_result"
    }
   ],
   "source": [
    "data"
   ]
  },
  {
   "cell_type": "markdown",
   "metadata": {},
   "source": [
    "The dataset consists of different features (columns) of 706 pitched business ideas in a very popular TV show in US, called Shark Tank. If we have a look on the column named \"Pitched_Business_Desc\" which is an abbrevaition for Pitched Business Description, then we get the following:"
   ]
  },
  {
   "cell_type": "code",
   "execution_count": 4,
   "metadata": {},
   "outputs": [],
   "source": [
    "pitched_business_desc = data['Pitched_Business_Desc']"
   ]
  },
  {
   "cell_type": "code",
   "execution_count": 5,
   "metadata": {},
   "outputs": [
    {
     "data": {
      "text/plain": [
       "0      a functional slip worn under a wedding gown th...\n",
       "1      hair-care products made with pheromones . Laid...\n",
       "2      a notebook that can scan contents to cloud ser...\n",
       "3      painting classes with wine served . Wine & Des...\n",
       "4      a mixing bowl with a built-in scoop . Peoples ...\n",
       "                             ...                        \n",
       "701     (Emmy the Elephant during show, trademarked a...\n",
       "702    a packing and organizing service based on an a...\n",
       "703    an implantable Bluetooth device requiring surg...\n",
       "704                                       a pie company \n",
       "705    an electronic hand-held device for waiting roo...\n",
       "Name: Pitched_Business_Desc, Length: 706, dtype: object"
      ]
     },
     "execution_count": 5,
     "metadata": {},
     "output_type": "execute_result"
    }
   ],
   "source": [
    "pitched_business_desc"
   ]
  },
  {
   "cell_type": "markdown",
   "metadata": {},
   "source": [
    "This column consists of Business ideas written in detailed text of different pitched business descriptions. Let's have a look on the pitched business description of the first row:"
   ]
  },
  {
   "cell_type": "code",
   "execution_count": 6,
   "metadata": {},
   "outputs": [
    {
     "data": {
      "text/plain": [
       "'a functional slip worn under a wedding gown that allows the wearer to use the restroom on their own . Bridal Buddy is a lightweight slip worn under the gown that lets brides go to the bathroom while wearing it. When nature calls, the bride can bag up her bustle to safely relieve herself without making a mess.'"
      ]
     },
     "execution_count": 6,
     "metadata": {},
     "output_type": "execute_result"
    }
   ],
   "source": [
    "data['Pitched_Business_Desc'].iloc[0]"
   ]
  },
  {
   "cell_type": "markdown",
   "metadata": {},
   "source": [
    "Similarly, there are pitched business descriptions for all the other 705 business ideas. "
   ]
  },
  {
   "cell_type": "markdown",
   "metadata": {},
   "source": [
    "The task is to create a vocabulary of all the words occurring in all the pitched business descriptions. Well, to be more specific and clear, we have to create a list or array of all the unique words occuring in all the pitched business descriptions. As an example, if we have a look on the vocabulary of the above pitched business description of the above description, it will look something like that:"
   ]
  },
  {
   "cell_type": "code",
   "execution_count": 7,
   "metadata": {},
   "outputs": [],
   "source": [
    "first_string = data['Pitched_Business_Desc'].iloc[0]"
   ]
  },
  {
   "cell_type": "code",
   "execution_count": 8,
   "metadata": {},
   "outputs": [],
   "source": [
    "first_string_vocab = list(set(first_string.split(\" \")))"
   ]
  },
  {
   "cell_type": "code",
   "execution_count": 9,
   "metadata": {},
   "outputs": [
    {
     "data": {
      "text/plain": [
       "['a',\n",
       " 'the',\n",
       " 'calls,',\n",
       " 'Buddy',\n",
       " 'bride',\n",
       " 'Bridal',\n",
       " 'go',\n",
       " 'When',\n",
       " 'restroom',\n",
       " 'her',\n",
       " 'use',\n",
       " 'relieve',\n",
       " 'functional',\n",
       " '.',\n",
       " 'bustle',\n",
       " 'it.',\n",
       " 'without',\n",
       " 'their',\n",
       " 'is',\n",
       " 'brides',\n",
       " 'mess.',\n",
       " 'own',\n",
       " 'lightweight',\n",
       " 'wearing',\n",
       " 'bag',\n",
       " 'lets',\n",
       " 'safely',\n",
       " 'wearer',\n",
       " 'herself',\n",
       " 'up',\n",
       " 'nature',\n",
       " 'gown',\n",
       " 'wedding',\n",
       " 'that',\n",
       " 'allows',\n",
       " 'to',\n",
       " 'can',\n",
       " 'worn',\n",
       " 'bathroom',\n",
       " 'under',\n",
       " 'slip',\n",
       " 'on',\n",
       " 'while',\n",
       " 'making']"
      ]
     },
     "execution_count": 9,
     "metadata": {},
     "output_type": "execute_result"
    }
   ],
   "source": [
    "first_string_vocab"
   ]
  },
  {
   "cell_type": "markdown",
   "metadata": {},
   "source": [
    "Having a look on the vocabulary of the pitched business description of the above business idea, we can see that none of the words are repeating, which means that the pitched business description of the above mentioned business idea is structured from the words in the above shown vocabulary. "
   ]
  },
  {
   "cell_type": "markdown",
   "metadata": {},
   "source": [
    "But, there is a problem. If you have a look on some of the words occuring in the vocabulary of this business description, let's say:"
   ]
  },
  {
   "cell_type": "markdown",
   "metadata": {},
   "source": [
    "\"it.\", \"mess.\", \"Bridal\""
   ]
  },
  {
   "cell_type": "markdown",
   "metadata": {},
   "source": [
    "Well, let's see that what is wrong with these words. Well, it may happen that when the vocabulary of another pitched business description is created, then these words might end up appearing once again but slightly in a different form, let's say:\n",
    "\n",
    "\"It.\", \"mess\" and \"bridal\""
   ]
  },
  {
   "cell_type": "markdown",
   "metadata": {},
   "source": [
    "But, when seen carefully, \"it.\" in the first case will be considered different from \"It.\" in the second case because of lower case \"i\" and upper case \"I\" in previous and later cases. Similarly, \"mess.\" in the first case will be considered different from \"mess\" in the second case because of \".\" at the end of \"mess\" in the first case. Same is the case with third word, where \"Bridal\" in the first case will be considered different \"bridal\" in the second case because of upper case \"B\" and lower case \"b\" in the prevous and later cases. "
   ]
  },
  {
   "cell_type": "markdown",
   "metadata": {},
   "source": [
    "Let's pick up a word and trying figure out that in how many ways, a word can be different or how many different versions of the word can be so that all of these versions can be considered different inspite of being looking same according to our knowledge of language. Let's pick up the word \"bridal\". "
   ]
  },
  {
   "cell_type": "markdown",
   "metadata": {},
   "source": [
    "\"bridal\", \"Bridal\", \"BRIDAL\", \"bridal.\", \"bridal's\", \".Bridal\""
   ]
  },
  {
   "cell_type": "markdown",
   "metadata": {},
   "source": [
    "As can be noticed, all the above mentioned words are equivalent but they will be considered different. So, how to solve this problem. Well, we have to first solve simple problem of upper and lower cases which is making two similar words considered differently and that can be easily solved by converting each word in each business description first into lower case. After doing this, the above words will look like this: "
   ]
  },
  {
   "cell_type": "markdown",
   "metadata": {},
   "source": [
    "\"bridal\", \"bridal\", \"bridal\", \"bridal.\", \"bridal's\", \".bridal\""
   ]
  },
  {
   "cell_type": "markdown",
   "metadata": {},
   "source": [
    "And when we pick out the unique words out of the above list of words, we are left with: "
   ]
  },
  {
   "cell_type": "markdown",
   "metadata": {},
   "source": [
    "\"bridal\", \"bridal.\", \"bridal's\", \".bridal\""
   ]
  },
  {
   "cell_type": "code",
   "execution_count": 64,
   "metadata": {},
   "outputs": [],
   "source": [
    "pitched_business_desc = data['Pitched_Business_Desc'].apply(lambda x: x.lower())"
   ]
  },
  {
   "cell_type": "markdown",
   "metadata": {},
   "source": [
    "So, we converted all the strings into lower case"
   ]
  },
  {
   "cell_type": "code",
   "execution_count": 55,
   "metadata": {},
   "outputs": [
    {
     "data": {
      "text/plain": [
       "0      a functional slip worn under a wedding gown th...\n",
       "1      hair-care products made with pheromones . laid...\n",
       "2      a notebook that can scan contents to cloud ser...\n",
       "3      painting classes with wine served . wine & des...\n",
       "4      a mixing bowl with a built-in scoop . peoples ...\n",
       "                             ...                        \n",
       "701     (emmy the elephant during show, trademarked a...\n",
       "702    a packing and organizing service based on an a...\n",
       "703    an implantable bluetooth device requiring surg...\n",
       "704                                       a pie company \n",
       "705    an electronic hand-held device for waiting roo...\n",
       "Name: Pitched_Business_Desc, Length: 706, dtype: object"
      ]
     },
     "execution_count": 55,
     "metadata": {},
     "output_type": "execute_result"
    }
   ],
   "source": [
    "pitched_business_desc"
   ]
  },
  {
   "cell_type": "markdown",
   "metadata": {},
   "source": [
    "So, the problem is solved to some extent. "
   ]
  },
  {
   "cell_type": "markdown",
   "metadata": {},
   "source": [
    "Now, to remove special characters in between a word like \"'s\" or at the end or start of the word like \".\", we have to use something called REGULAR EXPRESSION, also known as REGEX in short. "
   ]
  },
  {
   "cell_type": "markdown",
   "metadata": {},
   "source": [
    "So, what are Regular Expressions. For this, let's have a look on the following pdf snapshots: "
   ]
  },
  {
   "cell_type": "markdown",
   "metadata": {},
   "source": [
    "After gathering knowledge of REGEX from the above notes, we can now straightly convert each pitched business descriptions into filtered words in the description."
   ]
  },
  {
   "cell_type": "code",
   "execution_count": 37,
   "metadata": {},
   "outputs": [],
   "source": [
    "# Read Regex from https://www.nltk.org/book/ch03.html"
   ]
  },
  {
   "cell_type": "code",
   "execution_count": 38,
   "metadata": {},
   "outputs": [],
   "source": [
    "import re"
   ]
  },
  {
   "cell_type": "markdown",
   "metadata": {},
   "source": [
    "Imported Regular Expressions Library"
   ]
  },
  {
   "cell_type": "code",
   "execution_count": 39,
   "metadata": {},
   "outputs": [],
   "source": [
    "\n",
    "apostrophe_s_regex = r'''('[a-zA-Z])'''\n",
    "dot_regex = r'([.?!]+) *'\n",
    "apostrophe_s_dot_regex = r''''[a-zA-Z]|[.?!]+ *'''"
   ]
  },
  {
   "cell_type": "code",
   "execution_count": 40,
   "metadata": {},
   "outputs": [
    {
     "data": {
      "text/plain": [
       "[('bridal', \"'s\")]"
      ]
     },
     "execution_count": 40,
     "metadata": {},
     "output_type": "execute_result"
    },
    {
     "data": {
      "text/plain": [
       "[\"'s\"]"
      ]
     },
     "execution_count": 40,
     "metadata": {},
     "output_type": "execute_result"
    },
    {
     "data": {
      "text/plain": [
       "['.']"
      ]
     },
     "execution_count": 40,
     "metadata": {},
     "output_type": "execute_result"
    },
    {
     "data": {
      "text/plain": [
       "[\"'s\"]"
      ]
     },
     "execution_count": 40,
     "metadata": {},
     "output_type": "execute_result"
    },
    {
     "data": {
      "text/plain": [
       "['!', '?', '.']"
      ]
     },
     "execution_count": 40,
     "metadata": {},
     "output_type": "execute_result"
    },
    {
     "data": {
      "text/plain": [
       "'is bridal buddy it. when'"
      ]
     },
     "execution_count": 40,
     "metadata": {},
     "output_type": "execute_result"
    },
    {
     "data": {
      "text/plain": [
       "\"hello world What It's nice \""
      ]
     },
     "execution_count": 40,
     "metadata": {},
     "output_type": "execute_result"
    },
    {
     "data": {
      "text/plain": [
       "['! ', '? ', \"'s\", '.', \"'s\", '. ']"
      ]
     },
     "execution_count": 40,
     "metadata": {},
     "output_type": "execute_result"
    },
    {
     "data": {
      "text/plain": [
       "'hello world What It  nice is bridal  buddy it when'"
      ]
     },
     "execution_count": 40,
     "metadata": {},
     "output_type": "execute_result"
    },
    {
     "data": {
      "text/plain": [
       "['hello', 'world', 'What', 'It', 'nice', 'is', 'bridal', 'buddy', 'it', 'when']"
      ]
     },
     "execution_count": 40,
     "metadata": {},
     "output_type": "execute_result"
    }
   ],
   "source": [
    "#re.sub(regpattern, \"\", tempStr)\n",
    "re.findall(r'''^(.*?)('[a-zA-Z]$)''', \"bridal's\")\n",
    "\n",
    "re.findall(r'''('[a-zA-Z])''', \"is bridal's buddy\")\n",
    "\n",
    "re.findall(r'''[.]''', \"while wearing it. when\")\n",
    "\n",
    "\n",
    "apostrophe_s = r'''('[a-zA-Z])'''\n",
    "dot_regex = r'([.?!]+) *'\n",
    "\n",
    "re.findall(apostrophe_s, \"is bridal's buddy it. when\")\n",
    "\n",
    "re.findall(dot_regex, \"hello world! What? It's nice.\")\n",
    "\n",
    "re.sub(apostrophe_s,\"\",\"is bridal's buddy it. when\")\n",
    "re.sub(dot_regex,\" \",\"hello world! What? It's nice.\")\n",
    "\n",
    "re.findall(''''[a-zA-Z]|[.?!]+ *''', \"hello world! What? It's nice.is bridal's buddy it. when\")\n",
    "\n",
    "re.sub(apostrophe_s_dot_regex,\" \", \"hello world! What? It's nice.is bridal's buddy it. when\")\n",
    "\n",
    "list_with_space = re.sub(''''[a-zA-Z]|[.?!]+ *''',\" \", \"hello world! What? It's nice.is bridal's buddy it. when\").split(\" \")\n",
    "list(filter(None, list_with_space))\n",
    "\n"
   ]
  },
  {
   "cell_type": "code",
   "execution_count": 65,
   "metadata": {},
   "outputs": [],
   "source": [
    "pitched_business_desc = pitched_business_desc.apply(lambda x: re.sub(apostrophe_s_dot_regex, \"\", x))\n",
    "#pitched_business_desc = pitched_business_desc.apply(lambda x: re.sub(dot_regex, \" \", x))\n"
   ]
  },
  {
   "cell_type": "code",
   "execution_count": 66,
   "metadata": {},
   "outputs": [
    {
     "data": {
      "text/plain": [
       "0      a functional slip worn under a wedding gown th...\n",
       "1      hair-care products made with pheromones laid b...\n",
       "2      a notebook that can scan contents to cloud ser...\n",
       "3      painting classes with wine served wine & desig...\n",
       "4      a mixing bowl with a built-in scoop peoples de...\n",
       "                             ...                        \n",
       "701     (emmy the elephant during show, trademarked a...\n",
       "702    a packing and organizing service based on an a...\n",
       "703    an implantable bluetooth device requiring surg...\n",
       "704                                       a pie company \n",
       "705    an electronic hand-held device for waiting roo...\n",
       "Name: Pitched_Business_Desc, Length: 706, dtype: object"
      ]
     },
     "execution_count": 66,
     "metadata": {},
     "output_type": "execute_result"
    }
   ],
   "source": [
    "pitched_business_desc"
   ]
  },
  {
   "cell_type": "code",
   "execution_count": 67,
   "metadata": {},
   "outputs": [],
   "source": [
    "pitched_business_desc = pitched_business_desc.apply(lambda x: x.split(\" \"))\n",
    "# Remove all whitespace, more on filter from here https://docs.python.org/3/library/functions.html#filter\n",
    "pitched_business_desc = list(filter(None, pitched_business_desc))"
   ]
  },
  {
   "cell_type": "code",
   "execution_count": 44,
   "metadata": {},
   "outputs": [],
   "source": [
    "#pitched_business_desc = pitched_business_desc.apply(lambda x: set(x))"
   ]
  },
  {
   "cell_type": "code",
   "execution_count": 34,
   "metadata": {},
   "outputs": [],
   "source": [
    "#pitched_business_desc = list(pitched_business_desc)"
   ]
  },
  {
   "cell_type": "code",
   "execution_count": 68,
   "metadata": {},
   "outputs": [],
   "source": [
    "resulting_set = []\n",
    "\n",
    "for desc in pitched_business_desc:\n",
    "    \n",
    "    resulting_set += set(desc)"
   ]
  },
  {
   "cell_type": "code",
   "execution_count": 71,
   "metadata": {},
   "outputs": [],
   "source": [
    "vocab = set(resulting_set)"
   ]
  },
  {
   "cell_type": "code",
   "execution_count": 75,
   "metadata": {},
   "outputs": [
    {
     "data": {
      "text/plain": [
       "5445"
      ]
     },
     "execution_count": 75,
     "metadata": {},
     "output_type": "execute_result"
    }
   ],
   "source": [
    "len(vocab)\n"
   ]
  },
  {
   "cell_type": "code",
   "execution_count": null,
   "metadata": {},
   "outputs": [],
   "source": []
  }
 ],
 "metadata": {
  "kernelspec": {
   "display_name": "Python 3",
   "language": "python",
   "name": "python3"
  },
  "language_info": {
   "codemirror_mode": {
    "name": "ipython",
    "version": 3
   },
   "file_extension": ".py",
   "mimetype": "text/x-python",
   "name": "python",
   "nbconvert_exporter": "python",
   "pygments_lexer": "ipython3",
   "version": "3.7.6"
  }
 },
 "nbformat": 4,
 "nbformat_minor": 2
}
