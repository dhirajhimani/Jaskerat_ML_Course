{
 "cells": [
  {
   "cell_type": "markdown",
   "metadata": {},
   "source": [
    "# Assignment\n",
    "\n",
    "### 1. Print Relative Frequency of State and plot it\n",
    "### 2. Print Relative Frequency of City and plot it\n",
    "### 3. Group the Email based on personal and other categories"
   ]
  },
  {
   "cell_type": "code",
   "execution_count": 172,
   "metadata": {},
   "outputs": [],
   "source": [
    "import numpy as np\n",
    "import pandas as pd\n",
    "import matplotlib.pyplot as plt"
   ]
  },
  {
   "cell_type": "code",
   "execution_count": 95,
   "metadata": {},
   "outputs": [],
   "source": [
    "df = pd.read_excel(\"data/nbfc_public_deposits.xlsx\", skiprows=2)"
   ]
  },
  {
   "cell_type": "code",
   "execution_count": 96,
   "metadata": {},
   "outputs": [
    {
     "data": {
      "text/plain": [
       "'Unnamed: 0'"
      ]
     },
     "execution_count": 96,
     "metadata": {},
     "output_type": "execute_result"
    }
   ],
   "source": [
    "# we can drop the first column\n",
    "df.columns[0]"
   ]
  },
  {
   "cell_type": "code",
   "execution_count": 97,
   "metadata": {},
   "outputs": [],
   "source": [
    "# dropped it\n",
    "df = df.drop(columns=df.columns[0])"
   ]
  },
  {
   "cell_type": "code",
   "execution_count": 98,
   "metadata": {},
   "outputs": [
    {
     "data": {
      "text/plain": [
       "Index(['S No', 'Name of the company', 'Regional Office', 'Address 1',\n",
       "       'Address 2', 'Address 3', 'City', 'State', 'Pincode', 'Email', 'Fax'],\n",
       "      dtype='object')"
      ]
     },
     "execution_count": 98,
     "metadata": {},
     "output_type": "execute_result"
    }
   ],
   "source": [
    "df.columns"
   ]
  },
  {
   "cell_type": "code",
   "execution_count": 99,
   "metadata": {},
   "outputs": [],
   "source": [
    "df.set_index('S No', inplace=True)"
   ]
  },
  {
   "cell_type": "code",
   "execution_count": 100,
   "metadata": {},
   "outputs": [
    {
     "data": {
      "text/html": [
       "<div>\n",
       "<style scoped>\n",
       "    .dataframe tbody tr th:only-of-type {\n",
       "        vertical-align: middle;\n",
       "    }\n",
       "\n",
       "    .dataframe tbody tr th {\n",
       "        vertical-align: top;\n",
       "    }\n",
       "\n",
       "    .dataframe thead th {\n",
       "        text-align: right;\n",
       "    }\n",
       "</style>\n",
       "<table border=\"1\" class=\"dataframe\">\n",
       "  <thead>\n",
       "    <tr style=\"text-align: right;\">\n",
       "      <th></th>\n",
       "      <th>Name of the company</th>\n",
       "      <th>Regional Office</th>\n",
       "      <th>Address 1</th>\n",
       "      <th>Address 2</th>\n",
       "      <th>Address 3</th>\n",
       "      <th>City</th>\n",
       "      <th>State</th>\n",
       "      <th>Pincode</th>\n",
       "      <th>Email</th>\n",
       "      <th>Fax</th>\n",
       "    </tr>\n",
       "    <tr>\n",
       "      <th>S No</th>\n",
       "      <th></th>\n",
       "      <th></th>\n",
       "      <th></th>\n",
       "      <th></th>\n",
       "      <th></th>\n",
       "      <th></th>\n",
       "      <th></th>\n",
       "      <th></th>\n",
       "      <th></th>\n",
       "      <th></th>\n",
       "    </tr>\n",
       "  </thead>\n",
       "  <tbody>\n",
       "    <tr>\n",
       "      <th>1</th>\n",
       "      <td>ARMAN FINANCIAL SERVICES LIMITED</td>\n",
       "      <td>Ahmedabad</td>\n",
       "      <td>501-504,Sakar III</td>\n",
       "      <td>Opp . Old High  Court</td>\n",
       "      <td>Off. Ashram  Road</td>\n",
       "      <td>Ahmedabad</td>\n",
       "      <td>Gujarat</td>\n",
       "      <td>380014</td>\n",
       "      <td>finance@armanindia.com    website:www.armanind...</td>\n",
       "      <td>079  -27543666</td>\n",
       "    </tr>\n",
       "    <tr>\n",
       "      <th>2</th>\n",
       "      <td>Chinmay Finlease Ltd</td>\n",
       "      <td>Ahmedabad</td>\n",
       "      <td>Azad Chowk</td>\n",
       "      <td>NaN</td>\n",
       "      <td>Dist: Banaskantha(Ng)</td>\n",
       "      <td>Bhabhar</td>\n",
       "      <td>Gujarat</td>\n",
       "      <td>385320</td>\n",
       "      <td>Yogesh.majithia@gmail.com</td>\n",
       "      <td>02735-222481</td>\n",
       "    </tr>\n",
       "    <tr>\n",
       "      <th>3</th>\n",
       "      <td>Ishan Finlease Limited</td>\n",
       "      <td>Ahmedabad</td>\n",
       "      <td>608-609, Pratiksha Complex</td>\n",
       "      <td>Mahalaxmi Panch Rasta,</td>\n",
       "      <td>Near Paldi Cross Road, Paldi</td>\n",
       "      <td>Ahmedabad</td>\n",
       "      <td>Gujarat</td>\n",
       "      <td>380007</td>\n",
       "      <td>contactifpl@gmail.com</td>\n",
       "      <td>NaN</td>\n",
       "    </tr>\n",
       "    <tr>\n",
       "      <th>4</th>\n",
       "      <td>JAYLAKSHMI CREDIT COMPANY LIMITED</td>\n",
       "      <td>Ahmedabad</td>\n",
       "      <td>3/209, Ghanchi Sheri</td>\n",
       "      <td>Navapura</td>\n",
       "      <td>NaN</td>\n",
       "      <td>Surat</td>\n",
       "      <td>Gujarat</td>\n",
       "      <td>395003</td>\n",
       "      <td>smn_kadoli@yahoo.com</td>\n",
       "      <td>0261-2431085</td>\n",
       "    </tr>\n",
       "    <tr>\n",
       "      <th>5</th>\n",
       "      <td>K.Z. Leasing &amp; Finance Ltd</td>\n",
       "      <td>Ahmedabad</td>\n",
       "      <td>1st Floor,Deshna Chambers</td>\n",
       "      <td>B/H Kadva  Patidar Vadi</td>\n",
       "      <td>Usmanpura , Ashram Road</td>\n",
       "      <td>Ahmedabad</td>\n",
       "      <td>Gujarat</td>\n",
       "      <td>380014</td>\n",
       "      <td>kzleasing@yahoo.com</td>\n",
       "      <td>NaN</td>\n",
       "    </tr>\n",
       "  </tbody>\n",
       "</table>\n",
       "</div>"
      ],
      "text/plain": [
       "                    Name of the company Regional Office  \\\n",
       "S No                                                      \n",
       "1      ARMAN FINANCIAL SERVICES LIMITED       Ahmedabad   \n",
       "2                  Chinmay Finlease Ltd       Ahmedabad   \n",
       "3                Ishan Finlease Limited       Ahmedabad   \n",
       "4     JAYLAKSHMI CREDIT COMPANY LIMITED       Ahmedabad   \n",
       "5            K.Z. Leasing & Finance Ltd       Ahmedabad   \n",
       "\n",
       "                       Address 1                Address 2  \\\n",
       "S No                                                        \n",
       "1              501-504,Sakar III    Opp . Old High  Court   \n",
       "2                     Azad Chowk                      NaN   \n",
       "3     608-609, Pratiksha Complex   Mahalaxmi Panch Rasta,   \n",
       "4           3/209, Ghanchi Sheri                 Navapura   \n",
       "5      1st Floor,Deshna Chambers  B/H Kadva  Patidar Vadi   \n",
       "\n",
       "                         Address 3       City    State Pincode  \\\n",
       "S No                                                             \n",
       "1                Off. Ashram  Road  Ahmedabad  Gujarat  380014   \n",
       "2            Dist: Banaskantha(Ng)    Bhabhar  Gujarat  385320   \n",
       "3     Near Paldi Cross Road, Paldi  Ahmedabad  Gujarat  380007   \n",
       "4                              NaN      Surat  Gujarat  395003   \n",
       "5          Usmanpura , Ashram Road  Ahmedabad  Gujarat  380014   \n",
       "\n",
       "                                                  Email             Fax  \n",
       "S No                                                                     \n",
       "1     finance@armanindia.com    website:www.armanind...  079  -27543666  \n",
       "2                             Yogesh.majithia@gmail.com    02735-222481  \n",
       "3                                 contactifpl@gmail.com             NaN  \n",
       "4                                  smn_kadoli@yahoo.com    0261-2431085  \n",
       "5                                   kzleasing@yahoo.com             NaN  "
      ]
     },
     "execution_count": 100,
     "metadata": {},
     "output_type": "execute_result"
    }
   ],
   "source": [
    "df.head()"
   ]
  },
  {
   "cell_type": "code",
   "execution_count": 101,
   "metadata": {},
   "outputs": [
    {
     "data": {
      "text/plain": [
       "(81, 10)"
      ]
     },
     "execution_count": 101,
     "metadata": {},
     "output_type": "execute_result"
    }
   ],
   "source": [
    "df.shape"
   ]
  },
  {
   "cell_type": "markdown",
   "metadata": {},
   "source": [
    "#### Print Relative Frequency of State and plot it"
   ]
  },
  {
   "cell_type": "code",
   "execution_count": 102,
   "metadata": {},
   "outputs": [
    {
     "name": "stdout",
     "output_type": "stream",
     "text": [
      "S No\n",
      "1               Gujarat\n",
      "2               Gujarat\n",
      "3               Gujarat\n",
      "4               Gujarat\n",
      "5               Gujarat\n",
      "6               Gujarat\n",
      "7               Gujarat\n",
      "8             Karnataka\n",
      "9                   NaN\n",
      "10               Punjab\n",
      "11               Punjab\n",
      "12               Punjab\n",
      "13               Punjab\n",
      "14               Punjab\n",
      "15               Punjab\n",
      "16               Punjab\n",
      "17               Punjab\n",
      "18               Punjab\n",
      "19               Punjab\n",
      "20               Punjab\n",
      "21               Punjab\n",
      "22           Chandigarh\n",
      "23           TAMIL NADU\n",
      "24           TAMIL NADU\n",
      "25            TAMILNADU\n",
      "26           TAMIL NADU\n",
      "27           TAMIL NADU\n",
      "28           Tamil Nadu\n",
      "29           Tamil Nadu\n",
      "30           TAMIL NADU\n",
      "31           TAMIL NADU\n",
      "32           TAMIL NADU\n",
      "33           TAMIL NADU\n",
      "34           TAMIL NADU\n",
      "35           Tamil nadu\n",
      "36           TAMIL NADU\n",
      "37           TAMIL NADU\n",
      "38           TAMIL NADU\n",
      "39           TAMIL NADU\n",
      "40           TAMIL NADU\n",
      "41           TAMIL NADU\n",
      "42           TAMIL NADU\n",
      "43           TAMIL NADU\n",
      "44           Tamil Nadu\n",
      "45    Jammu and Kashmir\n",
      "46                  NaN\n",
      "47      Jammu & Kashmir\n",
      "48      Jammu & Kashmir\n",
      "49      Jammu & Kashmir\n",
      "50      Jammu & Kashmir\n",
      "51        Uttar Pradesh\n",
      "52        Uttar Pradesh\n",
      "53        Uttar Pradesh\n",
      "54        Uttar Pradesh\n",
      "55        Uttar Pradesh\n",
      "56        Uttar Pradesh\n",
      "57          West Bengal\n",
      "58                  NaN\n",
      "59                  NaN\n",
      "60                  NaN\n",
      "61          Maharashtra\n",
      "62                  NaN\n",
      "63            New Delhi\n",
      "64                  NaN\n",
      "65            New Delhi\n",
      "66                  NaN\n",
      "67            New Delhi\n",
      "68                  NaN\n",
      "69            New Delhi\n",
      "70              Haryana\n",
      "71                Delhi\n",
      "72            New Delhi\n",
      "73            New Delhi\n",
      "74                  NaN\n",
      "75            New Delhi\n",
      "76                Bihar\n",
      "77                Bihar\n",
      "78               Kerala\n",
      "79               Kerala\n",
      "80               Kerala\n",
      "81               Kerala\n"
     ]
    }
   ],
   "source": [
    "# visualising and cleaning the data accordingly\n",
    "\n",
    "print(df['State'].to_string())"
   ]
  },
  {
   "cell_type": "code",
   "execution_count": 129,
   "metadata": {},
   "outputs": [],
   "source": [
    "df_state = df['State']"
   ]
  },
  {
   "cell_type": "code",
   "execution_count": 106,
   "metadata": {},
   "outputs": [
    {
     "name": "stdout",
     "output_type": "stream",
     "text": [
      "10\n"
     ]
    }
   ],
   "source": [
    "count_nan = len(df_state) - df_state.count()\n",
    "print(count_nan)"
   ]
  },
  {
   "cell_type": "code",
   "execution_count": 107,
   "metadata": {},
   "outputs": [],
   "source": [
    "# dropping NaN values, see the results above and below \n",
    "df_state.dropna(axis=0, inplace=True)"
   ]
  },
  {
   "cell_type": "code",
   "execution_count": 229,
   "metadata": {},
   "outputs": [
    {
     "name": "stdout",
     "output_type": "stream",
     "text": [
      "0\n"
     ]
    }
   ],
   "source": [
    "count_nan = len(df_state) - df_state.count()\n",
    "print(count_nan)"
   ]
  },
  {
   "cell_type": "code",
   "execution_count": 132,
   "metadata": {},
   "outputs": [
    {
     "name": "stdout",
     "output_type": "stream",
     "text": [
      "['Gujarat' 'Karnataka' 'Punjab' 'Chandigarh' 'TAMIL NADU' 'TAMILNADU'\n",
      " 'Tamil Nadu' 'Tamil nadu' 'Jammu and Kashmir' 'Jammu & Kashmir'\n",
      " 'Uttar Pradesh' 'West Bengal' 'Maharashtra' 'New Delhi' 'Haryana' 'Delhi'\n",
      " 'Bihar' 'Kerala']\n"
     ]
    }
   ],
   "source": [
    "print(df_state.unique())"
   ]
  },
  {
   "cell_type": "code",
   "execution_count": 230,
   "metadata": {},
   "outputs": [],
   "source": [
    "# We have similar names here, we can clean it too."
   ]
  },
  {
   "cell_type": "code",
   "execution_count": 231,
   "metadata": {},
   "outputs": [],
   "source": [
    "def replaceStateName(item):\n",
    "    if(item.lower().startswith('tamil')):\n",
    "        return 'Tamil Nadu'\n",
    "    elif('jammu' in item.lower()):\n",
    "        return 'Jammu and Kashmir'\n",
    "    elif('delhi' in item.lower()):\n",
    "        return 'Delhi'\n",
    "    else:\n",
    "        return item"
   ]
  },
  {
   "cell_type": "code",
   "execution_count": 233,
   "metadata": {},
   "outputs": [
    {
     "name": "stdout",
     "output_type": "stream",
     "text": [
      "['Gujarat' 'Karnataka' 'Punjab' 'Chandigarh' 'Tamil Nadu'\n",
      " 'Jammu and Kashmir' 'Uttar Pradesh' 'West Bengal' 'Maharashtra' 'Delhi'\n",
      " 'Haryana' 'Bihar' 'Kerala']\n"
     ]
    }
   ],
   "source": [
    "df_state = df_state.apply(replaceStateName)\n",
    "print(df_state.unique())\n",
    "# As you can see now the list is cleaned and doesnot contains the same name and no nan's"
   ]
  },
  {
   "cell_type": "code",
   "execution_count": 234,
   "metadata": {},
   "outputs": [
    {
     "name": "stdout",
     "output_type": "stream",
     "text": [
      "Tamil Nadu           22\n",
      "Punjab               12\n",
      "Delhi                 8\n",
      "Gujarat               7\n",
      "Uttar Pradesh         6\n",
      "Jammu and Kashmir     5\n",
      "Kerala                4\n",
      "Bihar                 2\n",
      "Karnataka             1\n",
      "Chandigarh            1\n",
      "Maharashtra           1\n",
      "Haryana               1\n",
      "West Bengal           1\n",
      "Name: State, dtype: int64\n"
     ]
    }
   ],
   "source": [
    "# Now we can calculate the frequency of the names\n",
    "state_dict = df_state.value_counts()\n",
    "print(state_dict)"
   ]
  },
  {
   "cell_type": "code",
   "execution_count": 235,
   "metadata": {},
   "outputs": [],
   "source": [
    "state_names = list(state_dict.index.values)\n",
    "state_frequencies = list(state_dict.values)"
   ]
  },
  {
   "cell_type": "code",
   "execution_count": 236,
   "metadata": {},
   "outputs": [
    {
     "name": "stdout",
     "output_type": "stream",
     "text": [
      "['Tamil Nadu', 'Punjab', 'Delhi', 'Gujarat', 'Uttar Pradesh', 'Jammu and Kashmir', 'Kerala', 'Bihar', 'Karnataka', 'Chandigarh', 'Maharashtra', 'Haryana', 'West Bengal']\n",
      "[22, 12, 8, 7, 6, 5, 4, 2, 1, 1, 1, 1, 1]\n"
     ]
    }
   ],
   "source": [
    "print(state_names)\n",
    "print(state_frequencies)"
   ]
  },
  {
   "cell_type": "code",
   "execution_count": 245,
   "metadata": {},
   "outputs": [
    {
     "data": {
      "text/plain": [
       "<Figure size 432x288 with 0 Axes>"
      ]
     },
     "execution_count": 245,
     "metadata": {},
     "output_type": "execute_result"
    },
    {
     "data": {
      "text/plain": [
       "[<matplotlib.lines.Line2D at 0x11a690690>]"
      ]
     },
     "execution_count": 245,
     "metadata": {},
     "output_type": "execute_result"
    },
    {
     "data": {
      "text/plain": [
       "Text(0.5, 0, 'State Name')"
      ]
     },
     "execution_count": 245,
     "metadata": {},
     "output_type": "execute_result"
    },
    {
     "data": {
      "text/plain": [
       "Text(0, 0.5, 'Frequency')"
      ]
     },
     "execution_count": 245,
     "metadata": {},
     "output_type": "execute_result"
    },
    {
     "data": {
      "text/plain": [
       "Text(0.5, 1.0, 'Frequency of states visited')"
      ]
     },
     "execution_count": 245,
     "metadata": {},
     "output_type": "execute_result"
    },
    {
     "data": {
      "image/png": "[encoded data removed]",
      "text/plain": [
       "<Figure size 432x288 with 1 Axes>"
      ]
     },
     "metadata": {
      "needs_background": "light"
     },
     "output_type": "display_data"
    }
   ],
   "source": [
    "# Showing the data on the graph\n",
    "\n",
    "plt.figure()\n",
    "\n",
    "plt.plot(State_Name, State_Freq)\n",
    "\n",
    "x = plt.gca().xaxis\n",
    "\n",
    "# rotate the tick labels for the x axis\n",
    "for item in x.get_ticklabels():\n",
    "    item.set_rotation(90)\n",
    "    \n",
    "plt.xlabel('State Name')\n",
    "plt.ylabel('Frequency')\n",
    "plt.title('Frequency of states visited')"
   ]
  },
  {
   "cell_type": "code",
   "execution_count": null,
   "metadata": {},
   "outputs": [],
   "source": []
  }
 ],
 "metadata": {
  "kernelspec": {
   "display_name": "Python 3",
   "language": "python",
   "name": "python3"
  },
  "language_info": {
   "codemirror_mode": {
    "name": "ipython",
    "version": 3
   },
   "file_extension": ".py",
   "mimetype": "text/x-python",
   "name": "python",
   "nbconvert_exporter": "python",
   "pygments_lexer": "ipython3",
   "version": "3.7.5"
  }
 },
 "nbformat": 4,
 "nbformat_minor": 2
}
