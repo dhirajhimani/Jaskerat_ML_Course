{
 "cells": [
  {
   "cell_type": "markdown",
   "metadata": {},
   "source": [
    "# Assignment\n",
    "\n",
    "### 1. Print Relative Frequency of State and plot it\n",
    "### 2. Print Relative Frequency of City and plot it\n",
    "### 3. Group the Email based on personal and other categories"
   ]
  },
  {
   "cell_type": "code",
   "execution_count": 297,
   "metadata": {},
   "outputs": [],
   "source": [
    "import numpy as np\n",
    "import pandas as pd\n",
    "import matplotlib.pyplot as plt\n",
    "import re \n",
    "from pprint import pprint"
   ]
  },
  {
   "cell_type": "code",
   "execution_count": 95,
   "metadata": {},
   "outputs": [],
   "source": [
    "df = pd.read_excel(\"data/nbfc_public_deposits.xlsx\", skiprows=2)"
   ]
  },
  {
   "cell_type": "code",
   "execution_count": 96,
   "metadata": {},
   "outputs": [
    {
     "data": {
      "text/plain": [
       "'Unnamed: 0'"
      ]
     },
     "execution_count": 96,
     "metadata": {},
     "output_type": "execute_result"
    }
   ],
   "source": [
    "# we can drop the first column\n",
    "df.columns[0]"
   ]
  },
  {
   "cell_type": "code",
   "execution_count": 97,
   "metadata": {},
   "outputs": [],
   "source": [
    "# dropped it\n",
    "df = df.drop(columns=df.columns[0])"
   ]
  },
  {
   "cell_type": "code",
   "execution_count": 98,
   "metadata": {},
   "outputs": [
    {
     "data": {
      "text/plain": [
       "Index(['S No', 'Name of the company', 'Regional Office', 'Address 1',\n",
       "       'Address 2', 'Address 3', 'City', 'State', 'Pincode', 'Email', 'Fax'],\n",
       "      dtype='object')"
      ]
     },
     "execution_count": 98,
     "metadata": {},
     "output_type": "execute_result"
    }
   ],
   "source": [
    "df.columns"
   ]
  },
  {
   "cell_type": "code",
   "execution_count": 99,
   "metadata": {},
   "outputs": [],
   "source": [
    "df.set_index('S No', inplace=True)"
   ]
  },
  {
   "cell_type": "code",
   "execution_count": 100,
   "metadata": {},
   "outputs": [
    {
     "data": {
      "text/html": [
       "<div>\n",
       "<style scoped>\n",
       "    .dataframe tbody tr th:only-of-type {\n",
       "        vertical-align: middle;\n",
       "    }\n",
       "\n",
       "    .dataframe tbody tr th {\n",
       "        vertical-align: top;\n",
       "    }\n",
       "\n",
       "    .dataframe thead th {\n",
       "        text-align: right;\n",
       "    }\n",
       "</style>\n",
       "<table border=\"1\" class=\"dataframe\">\n",
       "  <thead>\n",
       "    <tr style=\"text-align: right;\">\n",
       "      <th></th>\n",
       "      <th>Name of the company</th>\n",
       "      <th>Regional Office</th>\n",
       "      <th>Address 1</th>\n",
       "      <th>Address 2</th>\n",
       "      <th>Address 3</th>\n",
       "      <th>City</th>\n",
       "      <th>State</th>\n",
       "      <th>Pincode</th>\n",
       "      <th>Email</th>\n",
       "      <th>Fax</th>\n",
       "    </tr>\n",
       "    <tr>\n",
       "      <th>S No</th>\n",
       "      <th></th>\n",
       "      <th></th>\n",
       "      <th></th>\n",
       "      <th></th>\n",
       "      <th></th>\n",
       "      <th></th>\n",
       "      <th></th>\n",
       "      <th></th>\n",
       "      <th></th>\n",
       "      <th></th>\n",
       "    </tr>\n",
       "  </thead>\n",
       "  <tbody>\n",
       "    <tr>\n",
       "      <th>1</th>\n",
       "      <td>ARMAN FINANCIAL SERVICES LIMITED</td>\n",
       "      <td>Ahmedabad</td>\n",
       "      <td>501-504,Sakar III</td>\n",
       "      <td>Opp . Old High  Court</td>\n",
       "      <td>Off. Ashram  Road</td>\n",
       "      <td>Ahmedabad</td>\n",
       "      <td>Gujarat</td>\n",
       "      <td>380014</td>\n",
       "      <td>finance@armanindia.com    website:www.armanind...</td>\n",
       "      <td>079  -27543666</td>\n",
       "    </tr>\n",
       "    <tr>\n",
       "      <th>2</th>\n",
       "      <td>Chinmay Finlease Ltd</td>\n",
       "      <td>Ahmedabad</td>\n",
       "      <td>Azad Chowk</td>\n",
       "      <td>NaN</td>\n",
       "      <td>Dist: Banaskantha(Ng)</td>\n",
       "      <td>Bhabhar</td>\n",
       "      <td>Gujarat</td>\n",
       "      <td>385320</td>\n",
       "      <td>Yogesh.majithia@gmail.com</td>\n",
       "      <td>02735-222481</td>\n",
       "    </tr>\n",
       "    <tr>\n",
       "      <th>3</th>\n",
       "      <td>Ishan Finlease Limited</td>\n",
       "      <td>Ahmedabad</td>\n",
       "      <td>608-609, Pratiksha Complex</td>\n",
       "      <td>Mahalaxmi Panch Rasta,</td>\n",
       "      <td>Near Paldi Cross Road, Paldi</td>\n",
       "      <td>Ahmedabad</td>\n",
       "      <td>Gujarat</td>\n",
       "      <td>380007</td>\n",
       "      <td>contactifpl@gmail.com</td>\n",
       "      <td>NaN</td>\n",
       "    </tr>\n",
       "    <tr>\n",
       "      <th>4</th>\n",
       "      <td>JAYLAKSHMI CREDIT COMPANY LIMITED</td>\n",
       "      <td>Ahmedabad</td>\n",
       "      <td>3/209, Ghanchi Sheri</td>\n",
       "      <td>Navapura</td>\n",
       "      <td>NaN</td>\n",
       "      <td>Surat</td>\n",
       "      <td>Gujarat</td>\n",
       "      <td>395003</td>\n",
       "      <td>smn_kadoli@yahoo.com</td>\n",
       "      <td>0261-2431085</td>\n",
       "    </tr>\n",
       "    <tr>\n",
       "      <th>5</th>\n",
       "      <td>K.Z. Leasing &amp; Finance Ltd</td>\n",
       "      <td>Ahmedabad</td>\n",
       "      <td>1st Floor,Deshna Chambers</td>\n",
       "      <td>B/H Kadva  Patidar Vadi</td>\n",
       "      <td>Usmanpura , Ashram Road</td>\n",
       "      <td>Ahmedabad</td>\n",
       "      <td>Gujarat</td>\n",
       "      <td>380014</td>\n",
       "      <td>kzleasing@yahoo.com</td>\n",
       "      <td>NaN</td>\n",
       "    </tr>\n",
       "  </tbody>\n",
       "</table>\n",
       "</div>"
      ],
      "text/plain": [
       "                    Name of the company Regional Office  \\\n",
       "S No                                                      \n",
       "1      ARMAN FINANCIAL SERVICES LIMITED       Ahmedabad   \n",
       "2                  Chinmay Finlease Ltd       Ahmedabad   \n",
       "3                Ishan Finlease Limited       Ahmedabad   \n",
       "4     JAYLAKSHMI CREDIT COMPANY LIMITED       Ahmedabad   \n",
       "5            K.Z. Leasing & Finance Ltd       Ahmedabad   \n",
       "\n",
       "                       Address 1                Address 2  \\\n",
       "S No                                                        \n",
       "1              501-504,Sakar III    Opp . Old High  Court   \n",
       "2                     Azad Chowk                      NaN   \n",
       "3     608-609, Pratiksha Complex   Mahalaxmi Panch Rasta,   \n",
       "4           3/209, Ghanchi Sheri                 Navapura   \n",
       "5      1st Floor,Deshna Chambers  B/H Kadva  Patidar Vadi   \n",
       "\n",
       "                         Address 3       City    State Pincode  \\\n",
       "S No                                                             \n",
       "1                Off. Ashram  Road  Ahmedabad  Gujarat  380014   \n",
       "2            Dist: Banaskantha(Ng)    Bhabhar  Gujarat  385320   \n",
       "3     Near Paldi Cross Road, Paldi  Ahmedabad  Gujarat  380007   \n",
       "4                              NaN      Surat  Gujarat  395003   \n",
       "5          Usmanpura , Ashram Road  Ahmedabad  Gujarat  380014   \n",
       "\n",
       "                                                  Email             Fax  \n",
       "S No                                                                     \n",
       "1     finance@armanindia.com    website:www.armanind...  079  -27543666  \n",
       "2                             Yogesh.majithia@gmail.com    02735-222481  \n",
       "3                                 contactifpl@gmail.com             NaN  \n",
       "4                                  smn_kadoli@yahoo.com    0261-2431085  \n",
       "5                                   kzleasing@yahoo.com             NaN  "
      ]
     },
     "execution_count": 100,
     "metadata": {},
     "output_type": "execute_result"
    }
   ],
   "source": [
    "df.head()"
   ]
  },
  {
   "cell_type": "code",
   "execution_count": 101,
   "metadata": {},
   "outputs": [
    {
     "data": {
      "text/plain": [
       "(81, 10)"
      ]
     },
     "execution_count": 101,
     "metadata": {},
     "output_type": "execute_result"
    }
   ],
   "source": [
    "df.shape"
   ]
  },
  {
   "cell_type": "markdown",
   "metadata": {},
   "source": [
    "#### Print Relative Frequency of State and plot it"
   ]
  },
  {
   "cell_type": "code",
   "execution_count": 102,
   "metadata": {},
   "outputs": [
    {
     "name": "stdout",
     "output_type": "stream",
     "text": [
      "S No\n",
      "1               Gujarat\n",
      "2               Gujarat\n",
      "3               Gujarat\n",
      "4               Gujarat\n",
      "5               Gujarat\n",
      "6               Gujarat\n",
      "7               Gujarat\n",
      "8             Karnataka\n",
      "9                   NaN\n",
      "10               Punjab\n",
      "11               Punjab\n",
      "12               Punjab\n",
      "13               Punjab\n",
      "14               Punjab\n",
      "15               Punjab\n",
      "16               Punjab\n",
      "17               Punjab\n",
      "18               Punjab\n",
      "19               Punjab\n",
      "20               Punjab\n",
      "21               Punjab\n",
      "22           Chandigarh\n",
      "23           TAMIL NADU\n",
      "24           TAMIL NADU\n",
      "25            TAMILNADU\n",
      "26           TAMIL NADU\n",
      "27           TAMIL NADU\n",
      "28           Tamil Nadu\n",
      "29           Tamil Nadu\n",
      "30           TAMIL NADU\n",
      "31           TAMIL NADU\n",
      "32           TAMIL NADU\n",
      "33           TAMIL NADU\n",
      "34           TAMIL NADU\n",
      "35           Tamil nadu\n",
      "36           TAMIL NADU\n",
      "37           TAMIL NADU\n",
      "38           TAMIL NADU\n",
      "39           TAMIL NADU\n",
      "40           TAMIL NADU\n",
      "41           TAMIL NADU\n",
      "42           TAMIL NADU\n",
      "43           TAMIL NADU\n",
      "44           Tamil Nadu\n",
      "45    Jammu and Kashmir\n",
      "46                  NaN\n",
      "47      Jammu & Kashmir\n",
      "48      Jammu & Kashmir\n",
      "49      Jammu & Kashmir\n",
      "50      Jammu & Kashmir\n",
      "51        Uttar Pradesh\n",
      "52        Uttar Pradesh\n",
      "53        Uttar Pradesh\n",
      "54        Uttar Pradesh\n",
      "55        Uttar Pradesh\n",
      "56        Uttar Pradesh\n",
      "57          West Bengal\n",
      "58                  NaN\n",
      "59                  NaN\n",
      "60                  NaN\n",
      "61          Maharashtra\n",
      "62                  NaN\n",
      "63            New Delhi\n",
      "64                  NaN\n",
      "65            New Delhi\n",
      "66                  NaN\n",
      "67            New Delhi\n",
      "68                  NaN\n",
      "69            New Delhi\n",
      "70              Haryana\n",
      "71                Delhi\n",
      "72            New Delhi\n",
      "73            New Delhi\n",
      "74                  NaN\n",
      "75            New Delhi\n",
      "76                Bihar\n",
      "77                Bihar\n",
      "78               Kerala\n",
      "79               Kerala\n",
      "80               Kerala\n",
      "81               Kerala\n"
     ]
    }
   ],
   "source": [
    "# visualising and cleaning the data accordingly\n",
    "\n",
    "print(df['State'].to_string())"
   ]
  },
  {
   "cell_type": "code",
   "execution_count": 129,
   "metadata": {},
   "outputs": [],
   "source": [
    "df_state = df['State']"
   ]
  },
  {
   "cell_type": "code",
   "execution_count": 106,
   "metadata": {},
   "outputs": [
    {
     "name": "stdout",
     "output_type": "stream",
     "text": [
      "10\n"
     ]
    }
   ],
   "source": [
    "count_nan = len(df_state) - df_state.count()\n",
    "print(count_nan)"
   ]
  },
  {
   "cell_type": "code",
   "execution_count": 107,
   "metadata": {},
   "outputs": [],
   "source": [
    "# dropping NaN values, see the results above and below \n",
    "df_state.dropna(axis=0, inplace=True)"
   ]
  },
  {
   "cell_type": "code",
   "execution_count": 229,
   "metadata": {},
   "outputs": [
    {
     "name": "stdout",
     "output_type": "stream",
     "text": [
      "0\n"
     ]
    }
   ],
   "source": [
    "count_nan = len(df_state) - df_state.count()\n",
    "print(count_nan)"
   ]
  },
  {
   "cell_type": "code",
   "execution_count": 132,
   "metadata": {},
   "outputs": [
    {
     "name": "stdout",
     "output_type": "stream",
     "text": [
      "['Gujarat' 'Karnataka' 'Punjab' 'Chandigarh' 'TAMIL NADU' 'TAMILNADU'\n",
      " 'Tamil Nadu' 'Tamil nadu' 'Jammu and Kashmir' 'Jammu & Kashmir'\n",
      " 'Uttar Pradesh' 'West Bengal' 'Maharashtra' 'New Delhi' 'Haryana' 'Delhi'\n",
      " 'Bihar' 'Kerala']\n"
     ]
    }
   ],
   "source": [
    "print(df_state.unique())"
   ]
  },
  {
   "cell_type": "code",
   "execution_count": 230,
   "metadata": {},
   "outputs": [],
   "source": [
    "# We have similar names here, we can clean it too."
   ]
  },
  {
   "cell_type": "code",
   "execution_count": 231,
   "metadata": {},
   "outputs": [],
   "source": [
    "def replaceStateName(item):\n",
    "    if(item.lower().startswith('tamil')):\n",
    "        return 'Tamil Nadu'\n",
    "    elif('jammu' in item.lower()):\n",
    "        return 'Jammu and Kashmir'\n",
    "    elif('delhi' in item.lower()):\n",
    "        return 'Delhi'\n",
    "    else:\n",
    "        return item"
   ]
  },
  {
   "cell_type": "code",
   "execution_count": 233,
   "metadata": {},
   "outputs": [
    {
     "name": "stdout",
     "output_type": "stream",
     "text": [
      "['Gujarat' 'Karnataka' 'Punjab' 'Chandigarh' 'Tamil Nadu'\n",
      " 'Jammu and Kashmir' 'Uttar Pradesh' 'West Bengal' 'Maharashtra' 'Delhi'\n",
      " 'Haryana' 'Bihar' 'Kerala']\n"
     ]
    }
   ],
   "source": [
    "df_state = df_state.apply(replaceStateName)\n",
    "print(df_state.unique())\n",
    "# As you can see now the list is cleaned and doesnot contains the same name and no nan's"
   ]
  },
  {
   "cell_type": "code",
   "execution_count": 234,
   "metadata": {},
   "outputs": [
    {
     "name": "stdout",
     "output_type": "stream",
     "text": [
      "Tamil Nadu           22\n",
      "Punjab               12\n",
      "Delhi                 8\n",
      "Gujarat               7\n",
      "Uttar Pradesh         6\n",
      "Jammu and Kashmir     5\n",
      "Kerala                4\n",
      "Bihar                 2\n",
      "Karnataka             1\n",
      "Chandigarh            1\n",
      "Maharashtra           1\n",
      "Haryana               1\n",
      "West Bengal           1\n",
      "Name: State, dtype: int64\n"
     ]
    }
   ],
   "source": [
    "# Now we can calculate the frequency of the names\n",
    "state_dict = df_state.value_counts()\n",
    "print(state_dict)"
   ]
  },
  {
   "cell_type": "code",
   "execution_count": 235,
   "metadata": {},
   "outputs": [],
   "source": [
    "state_names = list(state_dict.index.values)\n",
    "state_frequencies = list(state_dict.values)"
   ]
  },
  {
   "cell_type": "code",
   "execution_count": 236,
   "metadata": {},
   "outputs": [
    {
     "name": "stdout",
     "output_type": "stream",
     "text": [
      "['Tamil Nadu', 'Punjab', 'Delhi', 'Gujarat', 'Uttar Pradesh', 'Jammu and Kashmir', 'Kerala', 'Bihar', 'Karnataka', 'Chandigarh', 'Maharashtra', 'Haryana', 'West Bengal']\n",
      "[22, 12, 8, 7, 6, 5, 4, 2, 1, 1, 1, 1, 1]\n"
     ]
    }
   ],
   "source": [
    "print(state_names)\n",
    "print(state_frequencies)"
   ]
  },
  {
   "cell_type": "code",
   "execution_count": 260,
   "metadata": {},
   "outputs": [
    {
     "data": {
      "text/plain": [
       "[<matplotlib.lines.Line2D at 0x11d65ef10>]"
      ]
     },
     "execution_count": 260,
     "metadata": {},
     "output_type": "execute_result"
    },
    {
     "data": {
      "text/plain": [
       "Text(0.5, 0, 'State Name')"
      ]
     },
     "execution_count": 260,
     "metadata": {},
     "output_type": "execute_result"
    },
    {
     "data": {
      "text/plain": [
       "Text(0, 0.5, 'Frequency')"
      ]
     },
     "execution_count": 260,
     "metadata": {},
     "output_type": "execute_result"
    },
    {
     "data": {
      "text/plain": [
       "Text(0.5, 1.0, 'Frequency of states visited')"
      ]
     },
     "execution_count": 260,
     "metadata": {},
     "output_type": "execute_result"
    },
    {
     "data": {
      "image/png": "[encoded data removed]",
      "text/plain": [
       "<Figure size 1332x756 with 1 Axes>"
      ]
     },
     "metadata": {
      "needs_background": "light"
     },
     "output_type": "display_data"
    }
   ],
   "source": [
    "# Showing the data on the graph\n",
    "\n",
    "fig = plt.figure()\n",
    "\n",
    "fig.set_size_inches(18.5, 10.5)\n",
    "\n",
    "plt.rc('xtick',labelsize=18)\n",
    "plt.rc('ytick',labelsize=18)\n",
    "\n",
    "plt.plot(State_Name, State_Freq)\n",
    "\n",
    "x = plt.gca().xaxis\n",
    "\n",
    "# rotate the tick labels for the x axis\n",
    "for item in x.get_ticklabels():\n",
    "    item.set_rotation(90)\n",
    "    \n",
    "plt.xlabel('State Name', fontsize=18)\n",
    "plt.ylabel('Frequency', fontsize=18)\n",
    "plt.title('Frequency of states visited', fontsize=18)"
   ]
  },
  {
   "cell_type": "markdown",
   "metadata": {},
   "source": [
    "## 2. Print Relative Frequency of City and plot it"
   ]
  },
  {
   "cell_type": "code",
   "execution_count": 246,
   "metadata": {},
   "outputs": [],
   "source": [
    "# Following the same procedure for the city\n",
    "\n",
    "df_city = df['City']\n",
    "\n",
    "# dropping NaN values, see the results above and below \n",
    "df_city.dropna(axis=0, inplace=True)\n",
    "\n",
    "# We have similar names here, we can clean it too.\n"
   ]
  },
  {
   "cell_type": "code",
   "execution_count": 248,
   "metadata": {},
   "outputs": [
    {
     "name": "stdout",
     "output_type": "stream",
     "text": [
      "S No\n",
      "1                Ahmedabad\n",
      "2                  Bhabhar\n",
      "3                Ahmedabad\n",
      "4                    Surat\n",
      "5                Ahmedabad\n",
      "6                   Rajkot\n",
      "7                   Rajkot\n",
      "8                Bangalore\n",
      "9                  Dharwad\n",
      "10               Jalandhar\n",
      "11                Ludhiana\n",
      "12               Jalandhar\n",
      "13                  Khanna\n",
      "14               Jalandhar\n",
      "15                Ludhiana\n",
      "16               Jalandhar\n",
      "17                Amritsar\n",
      "18                    Moga\n",
      "19               Jalandhar\n",
      "20               Jalandhar\n",
      "21               Jalandhar\n",
      "22              Chandigarh\n",
      "23                 Chennai\n",
      "24                 Chennai\n",
      "25                 CHENNAI\n",
      "26                 Chennai\n",
      "27                 Chennai\n",
      "28                   Salem\n",
      "29                 Chennai\n",
      "30                 Chennai\n",
      "31                   Karur\n",
      "32                 Chennai\n",
      "33              Coimbatore\n",
      "34             Tirunelveli\n",
      "35                 Chennai\n",
      "36                 CHENNAI\n",
      "37                   Salem\n",
      "38                 Chennai\n",
      "39                 Chennai\n",
      "40                 Chennai\n",
      "41                 Chennai\n",
      "42                 Chennai\n",
      "43                Namakkal\n",
      "44                 Chennai\n",
      "45                   Jammu\n",
      "46                   Jammu\n",
      "47                   Jammu\n",
      "48                   Jammu\n",
      "49                   Jammu\n",
      "50                   Jammu\n",
      "51                  Badaun\n",
      "52                Pilibhit\n",
      "53                  Bijnor\n",
      "54                  Meerut\n",
      "55               Allahabad\n",
      "56                Bareilly\n",
      "57                 Kolkata\n",
      "58                    Pune\n",
      "59                  Nagpur\n",
      "60                  Mumbai\n",
      "61                  Mumbai\n",
      "62                 Navapur\n",
      "63         Rohtak, Haryana\n",
      "64                   Delhi\n",
      "65               New Delhi\n",
      "66         New Delhi/Delhi\n",
      "67               New Delhi\n",
      "68               New Delhi\n",
      "69               New Delhi\n",
      "70                 GURGAON\n",
      "71    Delhi New: New Delhi\n",
      "72                   Delhi\n",
      "73                   DELHI\n",
      "74               New Delhi\n",
      "75                   Delhi\n",
      "76              SAMASTIPUR\n",
      "77                   Patna\n",
      "78      Thiruvananthapuram\n",
      "79                  Kerala\n",
      "80                   Kochi\n",
      "81                   Kochi\n"
     ]
    }
   ],
   "source": [
    "print(df_city.to_string())"
   ]
  },
  {
   "cell_type": "code",
   "execution_count": 249,
   "metadata": {},
   "outputs": [],
   "source": [
    "def replaceCityName(item):\n",
    "    if('delhi' in item.lower()):\n",
    "        return 'Delhi'\n",
    "    else:\n",
    "        return item"
   ]
  },
  {
   "cell_type": "code",
   "execution_count": 250,
   "metadata": {},
   "outputs": [
    {
     "name": "stdout",
     "output_type": "stream",
     "text": [
      "['Ahmedabad' 'Bhabhar' 'Surat' 'Rajkot' 'Bangalore' 'Dharwad' 'Jalandhar'\n",
      " 'Ludhiana' 'Khanna' 'Amritsar' 'Moga' 'Chandigarh' 'Chennai' 'CHENNAI'\n",
      " 'Salem' 'Karur' 'Coimbatore' 'Tirunelveli' 'Namakkal' 'Jammu' 'Badaun'\n",
      " 'Pilibhit' 'Bijnor' 'Meerut' 'Allahabad' 'Bareilly' 'Kolkata' 'Pune'\n",
      " 'Nagpur' 'Mumbai' 'Navapur' 'Rohtak, Haryana' 'Delhi' 'GURGAON'\n",
      " 'SAMASTIPUR' 'Patna' 'Thiruvananthapuram' 'Kerala' 'Kochi']\n"
     ]
    }
   ],
   "source": [
    "\n",
    "df_city = df_city.apply(replaceCityName)\n",
    "print(df_city.unique())\n",
    "# As you can see now the list is cleaned and doesnot contains the same name and no nan's\n"
   ]
  },
  {
   "cell_type": "code",
   "execution_count": 263,
   "metadata": {},
   "outputs": [
    {
     "name": "stdout",
     "output_type": "stream",
     "text": [
      "Chennai               14\n",
      "Delhi                 11\n",
      "Jalandhar              7\n",
      "Jammu                  6\n",
      "Ahmedabad              3\n",
      "Rajkot                 2\n",
      "Kochi                  2\n",
      "Ludhiana               2\n",
      "Mumbai                 2\n",
      "CHENNAI                2\n",
      "Salem                  2\n",
      "Meerut                 1\n",
      "Tirunelveli            1\n",
      "Bangalore              1\n",
      "Bhabhar                1\n",
      "Khanna                 1\n",
      "Chandigarh             1\n",
      "Namakkal               1\n",
      "Allahabad              1\n",
      "Thiruvananthapuram     1\n",
      "Bareilly               1\n",
      "Kerala                 1\n",
      "Navapur                1\n",
      "SAMASTIPUR             1\n",
      "Nagpur                 1\n",
      "Karur                  1\n",
      "Moga                   1\n",
      "Patna                  1\n",
      "Amritsar               1\n",
      "GURGAON                1\n",
      "Badaun                 1\n",
      "Coimbatore             1\n",
      "Dharwad                1\n",
      "Kolkata                1\n",
      "Rohtak, Haryana        1\n",
      "Pune                   1\n",
      "Bijnor                 1\n",
      "Surat                  1\n",
      "Pilibhit               1\n",
      "Name: City, dtype: int64\n"
     ]
    },
    {
     "data": {
      "text/plain": [
       "[<matplotlib.lines.Line2D at 0x11dee5210>]"
      ]
     },
     "execution_count": 263,
     "metadata": {},
     "output_type": "execute_result"
    },
    {
     "data": {
      "text/plain": [
       "Text(0.5, 0, 'City Name')"
      ]
     },
     "execution_count": 263,
     "metadata": {},
     "output_type": "execute_result"
    },
    {
     "data": {
      "text/plain": [
       "Text(0, 0.5, 'Frequency')"
      ]
     },
     "execution_count": 263,
     "metadata": {},
     "output_type": "execute_result"
    },
    {
     "data": {
      "text/plain": [
       "Text(0.5, 1.0, 'Frequency of cities visited')"
      ]
     },
     "execution_count": 263,
     "metadata": {},
     "output_type": "execute_result"
    },
    {
     "data": {
      "image/png": "[encoded data removed]",
      "text/plain": [
       "<Figure size 1332x756 with 1 Axes>"
      ]
     },
     "metadata": {
      "needs_background": "light"
     },
     "output_type": "display_data"
    }
   ],
   "source": [
    "# Now we can calculate the frequency of the names\n",
    "city_dict = df_city.value_counts()\n",
    "\n",
    "print(city_dict)\n",
    "\n",
    "city_names = list(city_dict.index.values)\n",
    "city_frequencies = list(city_dict.values)\n",
    "\n",
    "# Showing the data on the graph\n",
    "\n",
    "fig = plt.figure()\n",
    "\n",
    "fig.set_size_inches(18.5, 10.5)\n",
    "\n",
    "plt.rc('xtick',labelsize=18)\n",
    "plt.rc('ytick',labelsize=18)\n",
    "\n",
    "plt.plot(city_names, city_frequencies)\n",
    "\n",
    "x = plt.gca().xaxis\n",
    "\n",
    "# rotate the tick labels for the x axis\n",
    "for item in x.get_ticklabels():\n",
    "    item.set_rotation(90)\n",
    "    \n",
    "plt.xlabel('City Name',fontsize=18)\n",
    "plt.ylabel('Frequency',fontsize=18)\n",
    "plt.title('Frequency of cities visited',fontsize=18)\n",
    "\n"
   ]
  },
  {
   "cell_type": "markdown",
   "metadata": {},
   "source": [
    "### 3. Group the Email based on personal and other categories"
   ]
  },
  {
   "cell_type": "code",
   "execution_count": 290,
   "metadata": {},
   "outputs": [
    {
     "data": {
      "text/plain": [
       "S No\n",
       "1    finance@armanindia.com    website:www.armanind...\n",
       "2                            Yogesh.majithia@gmail.com\n",
       "3                                contactifpl@gmail.com\n",
       "4                                 smn_kadoli@yahoo.com\n",
       "5                                  kzleasing@yahoo.com\n",
       "Name: Email, dtype: object"
      ]
     },
     "execution_count": 290,
     "metadata": {},
     "output_type": "execute_result"
    }
   ],
   "source": [
    "df['Email'].head()"
   ]
  },
  {
   "cell_type": "code",
   "execution_count": 279,
   "metadata": {},
   "outputs": [
    {
     "data": {
      "text/plain": [
       "S No\n",
       "1    finance@armanindia.com    website:www.armanind...\n",
       "2                            Yogesh.majithia@gmail.com\n",
       "3                                contactifpl@gmail.com\n",
       "4                                 smn_kadoli@yahoo.com\n",
       "5                                  kzleasing@yahoo.com\n",
       "Name: Email, dtype: object"
      ]
     },
     "execution_count": 279,
     "metadata": {},
     "output_type": "execute_result"
    },
    {
     "name": "stdout",
     "output_type": "stream",
     "text": [
      "<class 'pandas.core.series.Series'>\n"
     ]
    }
   ],
   "source": [
    "df_email = df['Email']\n",
    "df_email.head()\n",
    "print(type(df_email))"
   ]
  },
  {
   "cell_type": "code",
   "execution_count": 294,
   "metadata": {},
   "outputs": [
    {
     "name": "stdout",
     "output_type": "stream",
     "text": [
      "<class 'numpy.ndarray'>\n"
     ]
    }
   ],
   "source": [
    "df_email.dropna(axis=0, inplace=True)\n",
    "np_email = df_email.values\n",
    "print(type(np_email))"
   ]
  },
  {
   "cell_type": "code",
   "execution_count": 298,
   "metadata": {},
   "outputs": [],
   "source": [
    "def getAllEmail(text):\n",
    "    return re.findall('[\\w\\.-]+@[\\w\\.-]+', text)"
   ]
  },
  {
   "cell_type": "code",
   "execution_count": 303,
   "metadata": {},
   "outputs": [],
   "source": [
    "# This was done with multiple for, otherwise we could have gone with flatmap\n",
    "emails = []\n",
    "for text in np_email:\n",
    "    list_emails = getAllEmail(text)\n",
    "    for email in list_emails:\n",
    "        emails.append(email.lower())"
   ]
  },
  {
   "cell_type": "code",
   "execution_count": 304,
   "metadata": {},
   "outputs": [
    {
     "data": {
      "text/plain": [
       "['finance@armanindia.com',\n",
       " 'yogesh.majithia@gmail.com',\n",
       " 'contactifpl@gmail.com',\n",
       " 'smn_kadoli@yahoo.com',\n",
       " 'kzleasing@yahoo.com',\n",
       " 'northpolefinanceltd@hotmail.com',\n",
       " 'rajathfin@hotmail.com',\n",
       " 'investorrelation-rajath@hotmail.com',\n",
       " 'chemmfinance@chemmnur.com',\n",
       " 'veenachemmfinance@gmail.com',\n",
       " 'deshpandepublicity@gmail.com',\n",
       " 'trikaalfinance@gmail.com',\n",
       " 'ashwaninahar@gmail.com',\n",
       " 'casatprakash@yahoo.cin',\n",
       " 'amcgroup@amritmalwacapital.com',\n",
       " 'bpdfinance@aol.in',\n",
       " 'prince_dhamija@yahoo.com',\n",
       " 'ekjotadvances@gmail.com',\n",
       " 'jcajalandhar@hotmail.com',\n",
       " 'openupharvinder@siffy.com',\n",
       " 'ssheera@nnfl.in',\n",
       " 'phf_leasingltd@yahoo.co.in',\n",
       " 'rakeshgupta@pkffinance.com',\n",
       " 'aloksondhi@pkffinance.com',\n",
       " 'deccanfinance@gmail.com',\n",
       " 'anil.sharma@fullertonindia.com',\n",
       " 'galadafinancelimited@yahoo.co.in',\n",
       " 'goveaccts@vstmotors.com',\n",
       " 'gtpfinanceltd@gmail.com',\n",
       " 'gmfin@indoasiafin.com',\n",
       " 'ifcl_hoo@satyam.net.in',\n",
       " 'gayathirifinltd@dataone.in',\n",
       " 'gayathiriltd@gmail.com',\n",
       " 'newlin.nofl@gmail.com',\n",
       " 'sakthif_info@sakthifinance.com',\n",
       " 'sv@shriram.com',\n",
       " 'sv@shriram.com',\n",
       " 'vijayramhirepurchase@gmail.com',\n",
       " 'sarunachalam@gmail.com',\n",
       " 'sfl@sundaramfinance.com',\n",
       " 'tidco@md3.vsnl.net.in',\n",
       " 'tnpowerfinance@gmail.com',\n",
       " 'tdfc@giasmd01.vsnl.net.in',\n",
       " 'tufidco@md3.vsnl.net.in',\n",
       " 'mullaimurugesan@gmail.com',\n",
       " 'saravananmpg@gmail.com',\n",
       " 'jayabharath77@yahoo.co.in',\n",
       " 'geeceeadvance@gmail.com',\n",
       " 'neelgaganfinance20@gmail.com',\n",
       " 'abhishekagarwal007@hotmail.com',\n",
       " 'raj_varshney777@gmail.com',\n",
       " 'dp_ag@rediffmail.com',\n",
       " 'cmehra47@rediffmail.com',\n",
       " 'bijnor@yahoo.com',\n",
       " 'kanakinstalmentslimited@yahoo.com',\n",
       " 'u.prasad@rediffmail.com',\n",
       " 'sbhakta.plfl@gmail.com',\n",
       " 'kn.shridhar@yahoo.co.in',\n",
       " 'sharma.rk199@gmail.com',\n",
       " 'peerless@cal3.vsnl.net.in',\n",
       " 'satish.shimpi@bajajfinserv.in',\n",
       " 'anant.damle@bajajfinserv.in',\n",
       " 'pankaj.thadani@bajajfinserv.in',\n",
       " 'deepali.balpande@berarfinance.com',\n",
       " 'berarfinance@yahoo.com',\n",
       " 'info@berarfinance.com',\n",
       " 'cmd@berarfinance.com',\n",
       " 'jcl@jayabharat.com',\n",
       " 'sg@jayabharat.com',\n",
       " 'pillai.shivalingam@mahindra.com',\n",
       " 'mansinghka.varun@mahindra.com',\n",
       " 'kedia.amit@mahindra.com',\n",
       " 'more.hemant@mahindra.com',\n",
       " 'poojary.aruna@mahindra.com',\n",
       " 'bildani.rakesh@mahindra.com',\n",
       " 'caamit@yahoo.com',\n",
       " 'deepdita@hotmail.com',\n",
       " 'autofinanceindia@gmail.com',\n",
       " 'bansalcredits@gmail.com',\n",
       " 'goodluckbathinda@hotmail.com',\n",
       " 'chaubeyjfl@yahoo.com',\n",
       " 'nainifincap@yahoo.com',\n",
       " 'nfl.finance@gmail.com',\n",
       " 'delsafe@dsdgroup.co.in',\n",
       " 'fcs2280@gmail.com',\n",
       " 'vmf_finance@yahoo.com',\n",
       " 'grihastha.finance@gmail.com',\n",
       " 'sandeep@grihasthafinance.com',\n",
       " 'opel96@sify.com',\n",
       " 'kpifc@asianetindia.com',\n",
       " 'mcsl@muthootcap.com',\n",
       " 'mvfl@muthootgroup.com',\n",
       " 'sgfltd.ho@gmail.com']"
      ]
     },
     "execution_count": 304,
     "metadata": {},
     "output_type": "execute_result"
    }
   ],
   "source": [
    "emails"
   ]
  },
  {
   "cell_type": "code",
   "execution_count": 307,
   "metadata": {},
   "outputs": [],
   "source": [
    "personal_categories_mail = [\"gmail.com\", \"sify.com\", \"yahoo.com\", \"yahoo.co.in\", \"hotmail.com\", \"rediffmail.com\"]"
   ]
  },
  {
   "cell_type": "code",
   "execution_count": 314,
   "metadata": {},
   "outputs": [
    {
     "name": "stdout",
     "output_type": "stream",
     "text": [
      "['yogesh.majithia@gmail.com',\n",
      " 'contactifpl@gmail.com',\n",
      " 'smn_kadoli@yahoo.com',\n",
      " 'kzleasing@yahoo.com',\n",
      " 'northpolefinanceltd@hotmail.com',\n",
      " 'rajathfin@hotmail.com',\n",
      " 'investorrelation-rajath@hotmail.com',\n",
      " 'veenachemmfinance@gmail.com',\n",
      " 'deshpandepublicity@gmail.com',\n",
      " 'trikaalfinance@gmail.com',\n",
      " 'ashwaninahar@gmail.com',\n",
      " 'prince_dhamija@yahoo.com',\n",
      " 'ekjotadvances@gmail.com',\n",
      " 'jcajalandhar@hotmail.com',\n",
      " 'phf_leasingltd@yahoo.co.in',\n",
      " 'deccanfinance@gmail.com',\n",
      " 'galadafinancelimited@yahoo.co.in',\n",
      " 'gtpfinanceltd@gmail.com',\n",
      " 'gayathiriltd@gmail.com',\n",
      " 'newlin.nofl@gmail.com',\n",
      " 'vijayramhirepurchase@gmail.com',\n",
      " 'sarunachalam@gmail.com',\n",
      " 'tnpowerfinance@gmail.com',\n",
      " 'mullaimurugesan@gmail.com',\n",
      " 'saravananmpg@gmail.com',\n",
      " 'jayabharath77@yahoo.co.in',\n",
      " 'geeceeadvance@gmail.com',\n",
      " 'neelgaganfinance20@gmail.com',\n",
      " 'abhishekagarwal007@hotmail.com',\n",
      " 'raj_varshney777@gmail.com',\n",
      " 'dp_ag@rediffmail.com',\n",
      " 'cmehra47@rediffmail.com',\n",
      " 'bijnor@yahoo.com',\n",
      " 'kanakinstalmentslimited@yahoo.com',\n",
      " 'u.prasad@rediffmail.com',\n",
      " 'sbhakta.plfl@gmail.com',\n",
      " 'kn.shridhar@yahoo.co.in',\n",
      " 'sharma.rk199@gmail.com',\n",
      " 'berarfinance@yahoo.com',\n",
      " 'caamit@yahoo.com',\n",
      " 'deepdita@hotmail.com',\n",
      " 'autofinanceindia@gmail.com',\n",
      " 'bansalcredits@gmail.com',\n",
      " 'goodluckbathinda@hotmail.com',\n",
      " 'chaubeyjfl@yahoo.com',\n",
      " 'nainifincap@yahoo.com',\n",
      " 'nfl.finance@gmail.com',\n",
      " 'fcs2280@gmail.com',\n",
      " 'vmf_finance@yahoo.com',\n",
      " 'grihastha.finance@gmail.com',\n",
      " 'opel96@sify.com',\n",
      " 'sgfltd.ho@gmail.com']\n",
      "\n",
      "\n",
      "\n",
      "\n",
      "['finance@armanindia.com',\n",
      " 'chemmfinance@chemmnur.com',\n",
      " 'casatprakash@yahoo.cin',\n",
      " 'amcgroup@amritmalwacapital.com',\n",
      " 'bpdfinance@aol.in',\n",
      " 'openupharvinder@siffy.com',\n",
      " 'ssheera@nnfl.in',\n",
      " 'rakeshgupta@pkffinance.com',\n",
      " 'aloksondhi@pkffinance.com',\n",
      " 'anil.sharma@fullertonindia.com',\n",
      " 'goveaccts@vstmotors.com',\n",
      " 'gmfin@indoasiafin.com',\n",
      " 'ifcl_hoo@satyam.net.in',\n",
      " 'gayathirifinltd@dataone.in',\n",
      " 'sakthif_info@sakthifinance.com',\n",
      " 'sv@shriram.com',\n",
      " 'sv@shriram.com',\n",
      " 'sfl@sundaramfinance.com',\n",
      " 'tidco@md3.vsnl.net.in',\n",
      " 'tdfc@giasmd01.vsnl.net.in',\n",
      " 'tufidco@md3.vsnl.net.in',\n",
      " 'peerless@cal3.vsnl.net.in',\n",
      " 'satish.shimpi@bajajfinserv.in',\n",
      " 'anant.damle@bajajfinserv.in',\n",
      " 'pankaj.thadani@bajajfinserv.in',\n",
      " 'deepali.balpande@berarfinance.com',\n",
      " 'info@berarfinance.com',\n",
      " 'cmd@berarfinance.com',\n",
      " 'jcl@jayabharat.com',\n",
      " 'sg@jayabharat.com',\n",
      " 'pillai.shivalingam@mahindra.com',\n",
      " 'mansinghka.varun@mahindra.com',\n",
      " 'kedia.amit@mahindra.com',\n",
      " 'more.hemant@mahindra.com',\n",
      " 'poojary.aruna@mahindra.com',\n",
      " 'bildani.rakesh@mahindra.com',\n",
      " 'delsafe@dsdgroup.co.in',\n",
      " 'sandeep@grihasthafinance.com',\n",
      " 'kpifc@asianetindia.com',\n",
      " 'mcsl@muthootcap.com',\n",
      " 'mvfl@muthootgroup.com']\n"
     ]
    }
   ],
   "source": [
    "personal_emails = []\n",
    "private_emails = []\n",
    "\n",
    "for email in emails:\n",
    "    if(email.split(\"@\")[1] in personal_categories_mail):\n",
    "        personal_emails.append(email)\n",
    "    else:\n",
    "        private_emails.append(email)\n",
    "        \n",
    "        \n",
    "pprint(personal_emails)\n",
    "print(\"\\n\\n\\n\")\n",
    "pprint(private_emails)"
   ]
  },
  {
   "cell_type": "code",
   "execution_count": null,
   "metadata": {},
   "outputs": [],
   "source": []
  }
 ],
 "metadata": {
  "kernelspec": {
   "display_name": "Python 3",
   "language": "python",
   "name": "python3"
  },
  "language_info": {
   "codemirror_mode": {
    "name": "ipython",
    "version": 3
   },
   "file_extension": ".py",
   "mimetype": "text/x-python",
   "name": "python",
   "nbconvert_exporter": "python",
   "pygments_lexer": "ipython3",
   "version": "3.7.5"
  }
 },
 "nbformat": 4,
 "nbformat_minor": 2
}
