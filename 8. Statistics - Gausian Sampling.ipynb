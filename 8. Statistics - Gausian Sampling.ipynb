{
 "cells": [
  {
   "cell_type": "code",
   "execution_count": 1,
   "metadata": {},
   "outputs": [],
   "source": "import scipy.stats as stats\nimport numpy as np"
  },
  {
   "cell_type": "code",
   "execution_count": 7,
   "metadata": {},
   "outputs": [],
   "source": "import matplotlib.pyplot as plt"
  },
  {
   "cell_type": "code",
   "execution_count": 64,
   "metadata": {},
   "outputs": [],
   "source": "sample = np.random.normal(loc=50, scale=8.75,size=(200,20))\n"
  },
  {
   "cell_type": "code",
   "execution_count": 65,
   "metadata": {},
   "outputs": [
    {
     "data": {
      "text/plain": "(200, 20)"
     },
     "execution_count": 65,
     "metadata": {},
     "output_type": "execute_result"
    }
   ],
   "source": "sample.shape"
  },
  {
   "cell_type": "code",
   "execution_count": 69,
   "metadata": {},
   "outputs": [],
   "source": "sample_means_columns = np.mean(sample, axis=1)\nsample_means_rows = np.mean(sample, axis=0)"
  },
  {
   "cell_type": "code",
   "execution_count": 70,
   "metadata": {},
   "outputs": [
    {
     "data": {
      "text/plain": "(20,)"
     },
     "execution_count": 70,
     "metadata": {},
     "output_type": "execute_result"
    }
   ],
   "source": "sample_means_columns.shape"
  },
  {
   "cell_type": "code",
   "execution_count": 71,
   "metadata": {},
   "outputs": [
    {
     "data": {
      "text/plain": "(array([ 1.,  1.,  5.,  4.,  3.,  6.,  7., 15., 25., 25., 32., 27., 14.,\n        13., 12.,  4.,  3.,  1.,  0.,  2.]),\n array([44.31072257, 44.87152643, 45.4323303 , 45.99313417, 46.55393803,\n        47.1147419 , 47.67554577, 48.23634963, 48.7971535 , 49.35795737,\n        49.91876123, 50.4795651 , 51.04036897, 51.60117283, 52.1619767 ,\n        52.72278057, 53.28358443, 53.8443883 , 54.40519217, 54.96599603,\n        55.5267999 ]),\n <a list of 20 Patch objects>)"
     },
     "execution_count": 71,
     "metadata": {},
     "output_type": "execute_result"
    },
    {
     "data": {
      "image/png": "[encoded data removed]",
      "text/plain": "<Figure size 432x288 with 1 Axes>"
     },
     "metadata": {
      "needs_background": "light"
     },
     "output_type": "display_data"
    }
   ],
   "source": "plt.hist(sample_means_columns,bins=20)"
  },
  {
   "cell_type": "code",
   "execution_count": 74,
   "metadata": {},
   "outputs": [
    {
     "data": {
      "text/plain": "(array([2., 0., 1., 0., 2., 0., 1., 1., 2., 1., 1., 3., 1., 1., 0., 0., 0.,\n        1., 1., 2.]),\n array([48.91491853, 49.02058736, 49.1262562 , 49.23192503, 49.33759387,\n        49.4432627 , 49.54893153, 49.65460037, 49.7602692 , 49.86593804,\n        49.97160687, 50.07727571, 50.18294454, 50.28861337, 50.39428221,\n        50.49995104, 50.60561988, 50.71128871, 50.81695754, 50.92262638,\n        51.02829521]),\n <a list of 20 Patch objects>)"
     },
     "execution_count": 74,
     "metadata": {},
     "output_type": "execute_result"
    },
    {
     "data": {
      "image/png": "[encoded data removed]",
      "text/plain": "<Figure size 432x288 with 1 Axes>"
     },
     "metadata": {
      "needs_background": "light"
     },
     "output_type": "display_data"
    }
   ],
   "source": "plt.hist(sample_means_rows,bins=20)"
  },
  {
   "cell_type": "code",
   "execution_count": null,
   "metadata": {},
   "outputs": [],
   "source": "p_x_equals_k = stats.norm.pdf(sample, 50,8.75)"
  }
 ],
 "metadata": {
  "kernelspec": {
   "display_name": "Python 3",
   "language": "python",
   "name": "python3"
  },
  "language_info": {
   "codemirror_mode": {
    "name": "ipython",
    "version": 2
   },
   "file_extension": ".py",
   "mimetype": "text/x-python",
   "name": "python",
   "nbconvert_exporter": "python",
   "pygments_lexer": "ipython2",
   "version": "2.7.17"
  }
 },
 "nbformat": 4,
 "nbformat_minor": 4
}
